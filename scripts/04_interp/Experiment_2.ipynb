{
 "cells": [
  {
   "cell_type": "markdown",
   "metadata": {},
   "source": [
    "# 1. Experiment 2: \n",
    "\"find parameters for synthetic observation(s) reserved from the process-based model upon which the surrogate model was trained\"\n",
    "1. Build Surrogate of ParFlow streamflow, `lstm_A`\n",
    "2. Construct amortized (full) P(`theta | q_surr_all`) via a Neural Density Estimator, or `NDE`\n",
    "3. Sample posterior, P(`theta | q_surr_all = q_PF_obs`)\n",
    "4. Interpretive Plots\n",
    "\n",
    "##### --------\n",
    "* Steps 1, 2 and embedded in the `lstm_sbi.py` 'run' script\n",
    "* steps 3, 4 are shown below. \n",
    "* See `/home/qh8373/SBI_TAYLOR/sbi_taylor/psuedocode-sbi-experiments.md` for full details about the experiment"
   ]
  },
  {
   "cell_type": "markdown",
   "metadata": {},
   "source": [
    "* NOTES:\n",
    "    * Many Workflows tested and lent from:\n",
    "        * `AGU_Synthesis.ipynb`\n",
    "        * `SBI_Interp_Agg.ipynb`\n",
    "        * `test_lstm_sbi.ipynb`"
   ]
  },
  {
   "cell_type": "code",
   "execution_count": 1,
   "metadata": {},
   "outputs": [
    {
     "name": "stderr",
     "output_type": "stream",
     "text": [
      "/home/SHARED/software/anaconda3/2020.07e/lib/python3.8/site-packages/setuptools/distutils_patch.py:25: UserWarning: Distutils was imported before Setuptools. This usage is discouraged and may exhibit undesirable behaviors or errors. Please use Setuptools' objects directly or at least import Setuptools first.\n",
      "  warnings.warn(\n"
     ]
    }
   ],
   "source": [
    "import os\n",
    "import os.path\n",
    "import sys\n",
    "import shutil\n",
    "from pprint import pprint\n",
    "from datetime import datetime\n",
    "from copy import copy\n",
    "from copy import deepcopy\n",
    "import pickle\n",
    "\n",
    "from parflowio.pyParflowio import PFData\n",
    "\n",
    "import pandas as pd\n",
    "import numpy as np\n",
    "import numpy.ma as ma\n",
    "import matplotlib.pyplot as plt\n",
    "import matplotlib.colors as colors\n",
    "import matplotlib.image as mpimg\n",
    "import matplotlib.cm as cm\n",
    "import matplotlib.cbook as cbook\n",
    "from matplotlib.path import Path\n",
    "from matplotlib.patches import PathPatch\n",
    "\n",
    "from sklearn.preprocessing import MinMaxScaler\n",
    "from sklearn.preprocessing import QuantileTransformer\n",
    "from sklearn.preprocessing import PowerTransformer\n",
    "\n",
    "from sklearn.utils import shuffle\n",
    "from sklearn.metrics import mean_squared_error\n",
    "import glob\n",
    "\n",
    "\n",
    "from sklearn.preprocessing import MinMaxScaler\n",
    "from sklearn.preprocessing import StandardScaler\n",
    "from sklearn.metrics import r2_score, mean_squared_error\n",
    "\n",
    "\n",
    "# -- Libararies  \n",
    "import os\n",
    "import sys\n",
    "import pickle\n",
    "import torch\n",
    "from random import *\n",
    "\n",
    "# for SBI\n",
    "from sbi import utils as utils\n",
    "from sbi import analysis as analysis\n",
    "from sbi import inference\n",
    "from sbi.inference.base import infer\n",
    "from sbi.inference import SNPE, simulate_for_sbi, prepare_for_sbi\n",
    "from sbi.types import Array, OneOrMore, ScalarFloat\n",
    "\n",
    "from matplotlib import pyplot as plt\n",
    "\n",
    "import numpy as np\n",
    "from numpy import cov\n",
    "from numpy.linalg import det, norm # determinant, norm (used to calculate 'euclidean' distance)\n",
    "\n",
    "import random\n",
    "from numpy.random import normal\n",
    "import matplotlib.pyplot as plt\n",
    "import matplotlib.pyplot as plt\n",
    "import matplotlib.tri as tri\n",
    "from seaborn import pairplot\n",
    "from seaborn import jointplot\n",
    "import pandas as pd\n",
    "from parflowio.pyParflowio import PFData\n",
    "# import pygmmis <- This was the default but it doesn't work very well\n",
    "from sklearn.mixture import GaussianMixture as GMM\n",
    "import sys\n",
    "import os\n",
    "from datetime import datetime\n",
    "\n",
    "# for machine learning\n",
    "import torch\n",
    "import torch.nn as nn\n",
    "from torch.utils.data import TensorDataset # for refactoring x and y\n",
    "from torch.utils.data import DataLoader # for batch submission\n",
    "from torch.autograd import Variable\n",
    "import torch.nn.functional as F\n",
    "from torch.distributions import Independent, Uniform\n",
    "from torch.distributions.log_normal import LogNormal\n",
    "\n",
    "# for scaling\n",
    "from sklearn.preprocessing import MinMaxScaler\n",
    "\n",
    "# for stats\n",
    "sys.path.append('/home/qh8373/SBI_TAYLOR/sbi_taylor/scripts/05_utils/')\n",
    "from assessutils import compute_stats\n",
    "import re\n",
    "from scipy.stats import mode\n",
    "\n",
    "# helpers\n",
    "sys.path.append('/home/qh8373/SBI_TAYLOR/sbi_taylor/scripts/03_sbi_lstm/')\n",
    "from sbi_build import simulate\n",
    "\n",
    "# Path to the SandTank Repo\n",
    "dev_path = '/home/SHARED/ML_TV/HydroGEN/modules/'\n",
    "#Add Sand Tank path to the sys path\n",
    "sys.path.append(dev_path)\n",
    "from transform import float32_clamp_scaling\n",
    "\n",
    "# user defined functions\n",
    "sys.path.append('/home/qh8373/SBI_TAYLOR/sbi_taylor/scripts/05_utils/')\n",
    "from genutils import PFread, plot_stuff, convertNumpy\n",
    "from ensembleutils import assembleYears, assembleAllForcings, parseAllMetadata, returnDF_ens, returnAOC_ens, _ret_MinMax, _ret_AOCMinMax\n",
    "from assessutils import compute_stats\n",
    "from scalerutils import scaled_ens_Values, scaledForcingData, scaledAOCData\n",
    "from posteriorsamputils import statTheta, genProbThetas, gen_Fit_Series_Wrapper\n",
    "from summaryutils import summary, setStatSim\n",
    "from sbiutils import retStatTyp, parseListDf, parseUniqueParams\n",
    "from sbiutils import reshape_y, createYHatList, createYHat\n",
    "from interputils import *\n",
    "\n",
    "import matplotlib.pyplot as plt\n",
    "import pandas as pd\n",
    "import numpy as np\n",
    "import numpy.ma as ma\n",
    "import matplotlib.pyplot as plt\n",
    "import matplotlib.colors as colors\n",
    "import matplotlib.image as mpimg\n",
    "import matplotlib.cm as cm\n",
    "import matplotlib.cbook as cbook\n",
    "from matplotlib.path import Path\n",
    "from matplotlib.patches import PathPatch\n",
    "import matplotlib.tri as tri\n",
    "import pickle\n",
    "import sys\n",
    "import torch\n",
    "\n",
    "import scipy\n",
    "from scipy.spatial import distance"
   ]
  },
  {
   "cell_type": "markdown",
   "metadata": {},
   "source": [
    "## 3. Sample posterior, P(`theta | q_surr_all = q_PF_obs`)\n",
    "* Default routine samples each posterior just once"
   ]
  },
  {
   "cell_type": "markdown",
   "metadata": {},
   "source": [
    "## 4. Interpretive Plots\n"
   ]
  },
  {
   "cell_type": "markdown",
   "metadata": {},
   "source": [
    "# -------------------------------------"
   ]
  },
  {
   "cell_type": "markdown",
   "metadata": {},
   "source": [
    "### *Dimension 1* - Using the single surrogate model from `lstm_A`\n",
    "### Loading SBI Posteriors"
   ]
  },
  {
   "cell_type": "code",
   "execution_count": 2,
   "metadata": {},
   "outputs": [
    {
     "name": "stdout",
     "output_type": "stream",
     "text": [
      "0819_01_mod2_02_05_lstm_A_0206_01_full_surrogate\n",
      "warning: file exists\n",
      "/home/qh8373/SBI_TAYLOR/data/06_interp_out/experiments/0819_01_mod2_02_05_lstm_A_0206_01_full_surrogate/\n"
     ]
    }
   ],
   "source": [
    "# Directories\n",
    "sbi_run  = '0819_01_mod2_02_05_lstm_A_0206_01_full_surrogate'\n",
    "print(sbi_run)\n",
    "sbi_dir = f'/home/qh8373/SBI_TAYLOR/data/05_sbi_out/{sbi_run}/'\n",
    "save_dir = f'/home/qh8373/SBI_TAYLOR/data/06_interp_out/experiments/{sbi_run}/'\n",
    "\n",
    "try:\n",
    "    os.mkdir(f'{save_dir}')\n",
    "except:\n",
    "    print('warning: file exists')\n",
    "    pass\n",
    "\n",
    "print(save_dir)\n",
    "\n",
    "lstm_name = '02_05_lstm_A'\n",
    "lstm_path = f'/home/qh8373/SBI_TAYLOR/data/04_lstm_out/{lstm_name}/'\n",
    "\n",
    "# load lstm info\n",
    "with open(lstm_path+'list_df_cond.pkl', 'rb') as fp:\n",
    "    list_df_cond = pickle.load(fp)"
   ]
  },
  {
   "cell_type": "markdown",
   "metadata": {},
   "source": [
    "### a. Interpretive plots for each synthetic observations, parameters only"
   ]
  },
  {
   "cell_type": "markdown",
   "metadata": {},
   "source": [
    "#### Selection Criteria and Load Posterior"
   ]
  },
  {
   "cell_type": "code",
   "execution_count": 3,
   "metadata": {},
   "outputs": [],
   "source": [
    "# Selection Criteria\n",
    "sub = 0 # Posterior Sub (Lsim=0 to 10)\n",
    "idx = 1 #PF:LSTM, 0=82, 1=83, .... #Observation\n",
    "lstm_idx = 0 #LSTM number in ensemble, nb: should be the same idx as that used in inference = 0\n",
    "n_samples = 5000 \n",
    "sbi_dir_sub = f'{sbi_dir}{sub}/'\n",
    "\n",
    "add_noise=True\n",
    "f_noise=1e-2\n",
    "\n",
    "# load posterior\n",
    "with open(sbi_dir_sub+'posterior.pkl', 'rb') as fp:\n",
    "    posterior = pickle.load(fp)"
   ]
  },
  {
   "cell_type": "markdown",
   "metadata": {},
   "source": [
    "#### General loading for posterior sampling"
   ]
  },
  {
   "cell_type": "code",
   "execution_count": 4,
   "metadata": {},
   "outputs": [],
   "source": [
    "'''\n",
    "ParFlow truth loads\n",
    "lstm_df_cond should be loaded\n",
    "to test ParFlow truths on models trained with LSTMs and previous tested with LSTM synthetic truths\n",
    "'''\n",
    "DataX_test, DataY_test, series_len, lstm_out_list = parseListDf(list_df_cond)\n",
    "test_params, num_params, num_unique, DataX_test = parseUniqueParams(DataX_test, series_len)\n",
    "\n",
    "\n",
    "'''\n",
    "sample observation (y_hat) and 'correct' parameter (true_theta)\n",
    "    y_hat_full is the full timeseries (important for embed and summary stat method)\n",
    "'''\n",
    "true_theta = test_params[idx]"
   ]
  },
  {
   "cell_type": "markdown",
   "metadata": {},
   "source": [
    "#### Sample Posterior (Emulated)"
   ]
  },
  {
   "cell_type": "code",
   "execution_count": 5,
   "metadata": {},
   "outputs": [
    {
     "name": "stderr",
     "output_type": "stream",
     "text": [
      "/home/qh8373/SBI_TAYLOR/sbi_taylor/scripts/05_utils/sbiutils.py:110: UserWarning: To copy construct from a tensor, it is recommended to use sourceTensor.clone().detach() or sourceTensor.clone().detach().requires_grad_(True), rather than torch.tensor(sourceTensor).\n",
      "  return torch.tensor(y_out)\n"
     ]
    },
    {
     "data": {
      "application/vnd.jupyter.widget-view+json": {
       "model_id": "94024d2b38064ad793b6b83d13466878",
       "version_major": 2,
       "version_minor": 0
      },
      "text/plain": [
       "HBox(children=(FloatProgress(value=0.0, description='Drawing 5000 posterior samples', max=5000.0, style=Progre…"
      ]
     },
     "metadata": {},
     "output_type": "display_data"
    },
    {
     "name": "stderr",
     "output_type": "stream",
     "text": [
      "<ipython-input-5-d7bf42b045e2>:21: UserWarning: To copy construct from a tensor, it is recommended to use sourceTensor.clone().detach() or sourceTensor.clone().detach().requires_grad_(True), rather than torch.tensor(sourceTensor).\n",
      "  points=torch.tensor(true_theta),\n"
     ]
    },
    {
     "name": "stdout",
     "output_type": "stream",
     "text": [
      "\n",
      "the theta value is tensor([0.5995, 0.8495]) \n",
      "\n",
      "Emulated\n"
     ]
    },
    {
     "data": {
      "image/png": "[encoded data removed]",
      "text/plain": [
       "<Figure size 432x432 with 4 Axes>"
      ]
     },
     "metadata": {
      "needs_background": "light"
     },
     "output_type": "display_data"
    }
   ],
   "source": [
    "# emulated streamflow\n",
    "y_hat_full = reshape_y(simulate(DataX=DataX_test, theta=true_theta, lstm=lstm_out_list[lstm_idx]))\n",
    "y_hat = createYHat(y_hat_full, stat_method='full', stat_typ=None, embed_type=None)\n",
    "\n",
    "'''\n",
    "sample posterior and create log probability\n",
    "'''\n",
    "# emulated\n",
    "# - given observation(s), sample posterior, evaluate probability, and plot\n",
    "posterior_samples = posterior.sample((n_samples,), x=y_hat) # type - tensor object\n",
    "# posterior_samples_simulations = bulk_simulate(posterior_samples, num_days, n_samples, ensemble_path, model_path)\n",
    "log_probability = posterior.log_prob(posterior_samples, x=y_hat).unsqueeze(1) # type - tensor object\n",
    "\n",
    "'''\n",
    "Pairplot\n",
    "'''\n",
    "print('the theta value is', true_theta, '\\n')\n",
    "\n",
    "print('Emulated')\n",
    "fig, ax = analysis.pairplot(posterior_samples, \n",
    "                               points=torch.tensor(true_theta),\n",
    "                               limits=[[0, 1],[0, 1]], \n",
    "                               figsize=(6,6)) # \n",
    "fig.savefig(f'{save_dir}pair_plot_lstmidx_{lstm_idx}_sub_{sub}_runidx_{idx}_emulated.png')\n",
    "fig.savefig(f'{save_dir}pair_plot_lstmidx_{lstm_idx}_sub_{sub}_runidx_{idx}_emulated.eps', format='eps')\n",
    "\n",
    "plt.show()"
   ]
  },
  {
   "cell_type": "markdown",
   "metadata": {},
   "source": [
    "#### Sample Posterior (ParFlow)\n",
    "* nb: to check for bias"
   ]
  },
  {
   "cell_type": "code",
   "execution_count": 6,
   "metadata": {},
   "outputs": [
    {
     "name": "stderr",
     "output_type": "stream",
     "text": [
      "/home/qh8373/SBI_TAYLOR/sbi_taylor/scripts/05_utils/sbiutils.py:110: UserWarning: To copy construct from a tensor, it is recommended to use sourceTensor.clone().detach() or sourceTensor.clone().detach().requires_grad_(True), rather than torch.tensor(sourceTensor).\n",
      "  return torch.tensor(y_out)\n"
     ]
    },
    {
     "data": {
      "application/vnd.jupyter.widget-view+json": {
       "model_id": "7be77bfddd0f4e5c8e8dbe004bde98e1",
       "version_major": 2,
       "version_minor": 0
      },
      "text/plain": [
       "HBox(children=(FloatProgress(value=0.0, description='Drawing 5000 posterior samples', max=5000.0, style=Progre…"
      ]
     },
     "metadata": {},
     "output_type": "display_data"
    },
    {
     "name": "stderr",
     "output_type": "stream",
     "text": [
      "<ipython-input-6-f65cfd99aa59>:26: UserWarning: To copy construct from a tensor, it is recommended to use sourceTensor.clone().detach() or sourceTensor.clone().detach().requires_grad_(True), rather than torch.tensor(sourceTensor).\n",
      "  points=torch.tensor(true_theta),\n"
     ]
    },
    {
     "name": "stdout",
     "output_type": "stream",
     "text": [
      "\n",
      "the theta value is tensor([0.5995, 0.8495]) \n",
      "\n",
      "PARFLOW\n"
     ]
    },
    {
     "data": {
      "image/png": "[encoded data removed]",
      "text/plain": [
       "<Figure size 432x432 with 4 Axes>"
      ]
     },
     "metadata": {
      "needs_background": "light"
     },
     "output_type": "display_data"
    }
   ],
   "source": [
    "# PF\n",
    "unique_series_PF = createYHatList(DataY_test, series_len, num_unique,\n",
    "                stat_method='full', stat_typ=None, embed_type=None)\n",
    "unique_series_full_PF = createYHatList(DataY_test, series_len, num_unique,\n",
    "                    stat_method='full', stat_typ=None, embed_type=None)\n",
    "y_hat_PF = unique_series_PF[idx]\n",
    "y_hat_full_PF = unique_series_full_PF[idx]\n",
    "\n",
    "'''\n",
    "sample posterior and create log probability\n",
    "'''\n",
    "# PF\n",
    "# - given observation(s), sample posterior, evaluate probability, and plot\n",
    "posterior_samples_PF = posterior.sample((n_samples,), x=y_hat_PF) # type - tensor object\n",
    "# posterior_samples_simulations = bulk_simulate(posterior_samples, num_days, n_samples, ensemble_path, model_path)\n",
    "log_probability_PF = posterior.log_prob(posterior_samples_PF, x=y_hat_PF).unsqueeze(1) # type - tensor object\n",
    "\n",
    "\n",
    "'''\n",
    "Pairplot\n",
    "'''\n",
    "print('the theta value is', true_theta, '\\n')\n",
    "\n",
    "print('PARFLOW')\n",
    "fig, ax = analysis.pairplot(posterior_samples_PF, \n",
    "                               points=torch.tensor(true_theta),\n",
    "                               limits=[[0, 1],[0, 1]], \n",
    "                               figsize=(6,6)) # \n",
    "fig.savefig(f'{save_dir}pair_plot_lstmidx_{lstm_idx}_sub_{sub}_runidx_{idx}_PF.png')\n",
    "fig.savefig(f'{save_dir}pair_plot_lstmidx_{lstm_idx}_sub_{sub}_runidx_{idx}_PF.eps', format='eps')\n",
    "\n",
    "plt.show()\n",
    "\n"
   ]
  },
  {
   "cell_type": "markdown",
   "metadata": {},
   "source": [
    "### b. Interpretive plots for each synthetic observations, streamflow timeseries only"
   ]
  },
  {
   "cell_type": "markdown",
   "metadata": {},
   "source": [
    "#### Bootstrap + Get Truth (Emulated)"
   ]
  },
  {
   "cell_type": "code",
   "execution_count": 7,
   "metadata": {},
   "outputs": [],
   "source": [
    "'''\n",
    "bootstrap\n",
    "'''\n",
    "# emulated\n",
    "boots_params, boots_logprob, idxs = randBootstrap(posterior_samples, log_probability)\n",
    "\n",
    "'''\n",
    "get 'truth'\n",
    "'''\n",
    "# emulated\n",
    "y_hat_plot = y_hat_full.T.detach().numpy()\n",
    "y_len = len(y_hat_plot)"
   ]
  },
  {
   "cell_type": "markdown",
   "metadata": {},
   "source": [
    "#### Run Forward Simulations (emulators)"
   ]
  },
  {
   "cell_type": "code",
   "execution_count": 8,
   "metadata": {},
   "outputs": [
    {
     "name": "stdout",
     "output_type": "stream",
     "text": [
      "Caution, multiple emulators available\n"
     ]
    }
   ],
   "source": [
    "# generate forward simulations\n",
    "if len(lstm_out_list) > 1:\n",
    "    print('Caution, multiple emulators available')\n",
    "\n",
    "# y_sims_PF = genSimulation(DataX_test, boots_params_PF, lstm_out_list, lstm_idx=lstm_idx, y_len=y_len)\n",
    "y_sims = genSimulation(DataX_test, boots_params, lstm_out_list,\n",
    "                       add_noise=True,f_noise=1e-2,lstm_idx=lstm_idx, y_len=y_len)\n",
    "\n"
   ]
  },
  {
   "cell_type": "markdown",
   "metadata": {},
   "source": [
    "#### Plot time series (emulators)"
   ]
  },
  {
   "cell_type": "code",
   "execution_count": 9,
   "metadata": {},
   "outputs": [
    {
     "name": "stderr",
     "output_type": "stream",
     "text": [
      "The PostScript backend does not support transparency; partially transparent artists will be rendered opaque.\n",
      "The PostScript backend does not support transparency; partially transparent artists will be rendered opaque.\n",
      "The PostScript backend does not support transparency; partially transparent artists will be rendered opaque.\n",
      "The PostScript backend does not support transparency; partially transparent artists will be rendered opaque.\n",
      "The PostScript backend does not support transparency; partially transparent artists will be rendered opaque.\n"
     ]
    },
    {
     "name": "stdout",
     "output_type": "stream",
     "text": [
      "emulated\n"
     ]
    },
    {
     "data": {
      "image/png": "[encoded data removed]",
      "text/plain": [
       "<Figure size 720x360 with 1 Axes>"
      ]
     },
     "metadata": {
      "needs_background": "light"
     },
     "output_type": "display_data"
    }
   ],
   "source": [
    "x = np.linspace(0,len(y_hat_plot)-1, len(y_hat_plot))\n",
    "\n",
    "# emulated\n",
    "print('emulated')\n",
    "fig, ax = plt.subplots(figsize=(10, 5))\n",
    "sub_sub = \"{:02d}\".format(idx)\n",
    "\n",
    "# ax.plot(y_sims.T, color='blue', alpha=0.25, zorder=0)# , label='y_sims')\n",
    "ax.plot(y_sims.T.min(axis=1), color='blue', linewidth=1, zorder=0, label='min')\n",
    "ax.plot(y_sims.T.max(axis=1), color='blue', linewidth=1, zorder=0, label='max')\n",
    "ax.plot(np.mean(y_sims.T,axis=1), color='red', linewidth=1, label='mean', zorder=2)\n",
    "ax.plot(y_hat_plot, color='green', linewidth=2, label='y_hat', zorder=1)\n",
    "ax.fill_between(x, y_sims.T.min(axis=1), y_sims.T.max(axis=1), color='blue', zorder=0, alpha=0.5)\n",
    "\n",
    "ax.set_ylim(0,1)\n",
    "ax.legend()\n",
    "fig.savefig(f'{save_dir}streamflow_series_{sub}_runidx_{idx}_emulated.png')\n",
    "fig.savefig(f'{save_dir}streamflow_series_{sub}_runidx_{idx}_emulated.eps', format='eps')\n",
    "plt.show()\n"
   ]
  },
  {
   "cell_type": "markdown",
   "metadata": {},
   "source": [
    "#### Bootstrap + Get Truth (ParFlow)"
   ]
  },
  {
   "cell_type": "code",
   "execution_count": 10,
   "metadata": {},
   "outputs": [],
   "source": [
    "'''\n",
    "bootstrap\n",
    "'''\n",
    "# PARFLOW\n",
    "boots_params_PF, boots_logprob_PF, idxs_PF = randBootstrap(posterior_samples_PF, log_probability_PF)\n",
    "\n",
    "'''\n",
    "get 'truth'\n",
    "'''\n",
    "# PARFLOW\n",
    "y_hat_plot_PF = y_hat_full_PF.T.detach().numpy()\n",
    "y_len = len(y_hat_plot_PF)\n"
   ]
  },
  {
   "cell_type": "markdown",
   "metadata": {},
   "source": [
    "#### Run Forward Simulations (ParFlow)"
   ]
  },
  {
   "cell_type": "code",
   "execution_count": 11,
   "metadata": {},
   "outputs": [
    {
     "name": "stdout",
     "output_type": "stream",
     "text": [
      "Caution, multiple emulators available\n"
     ]
    }
   ],
   "source": [
    "# generate forward simulations\n",
    "if len(lstm_out_list) > 1:\n",
    "    print('Caution, multiple emulators available')\n",
    "\n",
    "y_sims_PF = genSimulation(DataX_test, boots_params_PF, lstm_out_list,\n",
    "                          add_noise=True,f_noise=1e-02, lstm_idx=lstm_idx, y_len=y_len)\n",
    "\n"
   ]
  },
  {
   "cell_type": "markdown",
   "metadata": {},
   "source": [
    "#### Plot time series (ParFlow)"
   ]
  },
  {
   "cell_type": "code",
   "execution_count": 12,
   "metadata": {
    "scrolled": false
   },
   "outputs": [
    {
     "name": "stderr",
     "output_type": "stream",
     "text": [
      "The PostScript backend does not support transparency; partially transparent artists will be rendered opaque.\n",
      "The PostScript backend does not support transparency; partially transparent artists will be rendered opaque.\n",
      "The PostScript backend does not support transparency; partially transparent artists will be rendered opaque.\n",
      "The PostScript backend does not support transparency; partially transparent artists will be rendered opaque.\n",
      "The PostScript backend does not support transparency; partially transparent artists will be rendered opaque.\n"
     ]
    },
    {
     "name": "stdout",
     "output_type": "stream",
     "text": [
      "Parflow\n"
     ]
    },
    {
     "data": {
      "image/png": "[encoded data removed]",
      "text/plain": [
       "<Figure size 720x360 with 1 Axes>"
      ]
     },
     "metadata": {
      "needs_background": "light"
     },
     "output_type": "display_data"
    }
   ],
   "source": [
    "# PARFLOW\n",
    "print('Parflow')\n",
    "fig, ax = plt.subplots(figsize=(10, 5))\n",
    "sub_sub = \"{:02d}\".format(idx)\n",
    "\n",
    "# ax.plot(y_sims_PF.T, color='blue', alpha=0.25, zorder=0)# , label='y_sims')\n",
    "ax.plot(y_sims_PF.T.min(axis=1), color='blue', linewidth=1, zorder=0, label='min')\n",
    "ax.plot(y_sims_PF.T.max(axis=1), color='blue', linewidth=1, zorder=0, label='max')\n",
    "ax.plot(np.mean(y_sims_PF.T,axis=1), color='red', linewidth=1, label='mean', zorder=2)\n",
    "ax.plot(y_hat_plot_PF, color='green', linewidth=2, label='y_hat', zorder=1)\n",
    "ax.fill_between(x, y_sims_PF.T.min(axis=1), y_sims_PF.T.max(axis=1), color='blue', zorder=0, alpha=0.5)\n",
    "\n",
    "ax.set_ylim(0,1)\n",
    "ax.legend()\n",
    "fig.savefig(f'{save_dir}streamflow_series_{sub}_runidx_{idx}_PF.png')\n",
    "fig.savefig(f'{save_dir}streamflow_series_{sub}_runidx_{idx}_PF.eps', format='eps')\n",
    "plt.show()"
   ]
  },
  {
   "cell_type": "markdown",
   "metadata": {},
   "source": [
    "#### Experiment 1_1 Bulk (Emulated Truth using single emulator)"
   ]
  },
  {
   "cell_type": "code",
   "execution_count": 13,
   "metadata": {},
   "outputs": [
    {
     "name": "stderr",
     "output_type": "stream",
     "text": [
      "/home/qh8373/SBI_TAYLOR/sbi_taylor/scripts/05_utils/sbiutils.py:110: UserWarning: To copy construct from a tensor, it is recommended to use sourceTensor.clone().detach() or sourceTensor.clone().detach().requires_grad_(True), rather than torch.tensor(sourceTensor).\n",
      "  return torch.tensor(y_out)\n"
     ]
    },
    {
     "data": {
      "application/vnd.jupyter.widget-view+json": {
       "model_id": "1ed2fead2e6b4973abd5d165bd3ba3e7",
       "version_major": 2,
       "version_minor": 0
      },
      "text/plain": [
       "HBox(children=(FloatProgress(value=0.0, description='Drawing 5000 posterior samples', max=5000.0, style=Progre…"
      ]
     },
     "metadata": {},
     "output_type": "display_data"
    },
    {
     "name": "stdout",
     "output_type": "stream",
     "text": [
      "\n"
     ]
    },
    {
     "data": {
      "application/vnd.jupyter.widget-view+json": {
       "model_id": "7063e03a2cc74b19b8b09e0d4d75cc31",
       "version_major": 2,
       "version_minor": 0
      },
      "text/plain": [
       "HBox(children=(FloatProgress(value=0.0, description='Drawing 5000 posterior samples', max=5000.0, style=Progre…"
      ]
     },
     "metadata": {},
     "output_type": "display_data"
    },
    {
     "name": "stdout",
     "output_type": "stream",
     "text": [
      "\n"
     ]
    },
    {
     "data": {
      "application/vnd.jupyter.widget-view+json": {
       "model_id": "3cc832027b2944a0a07f30005d02371c",
       "version_major": 2,
       "version_minor": 0
      },
      "text/plain": [
       "HBox(children=(FloatProgress(value=0.0, description='Drawing 5000 posterior samples', max=5000.0, style=Progre…"
      ]
     },
     "metadata": {},
     "output_type": "display_data"
    },
    {
     "name": "stdout",
     "output_type": "stream",
     "text": [
      "\n"
     ]
    },
    {
     "data": {
      "application/vnd.jupyter.widget-view+json": {
       "model_id": "2b1c094c981b461287970e2794aa9fa1",
       "version_major": 2,
       "version_minor": 0
      },
      "text/plain": [
       "HBox(children=(FloatProgress(value=0.0, description='Drawing 5000 posterior samples', max=5000.0, style=Progre…"
      ]
     },
     "metadata": {},
     "output_type": "display_data"
    },
    {
     "name": "stdout",
     "output_type": "stream",
     "text": [
      "\n"
     ]
    },
    {
     "data": {
      "application/vnd.jupyter.widget-view+json": {
       "model_id": "af7b0a8a75ba41c9a089b9ab0f0fb76d",
       "version_major": 2,
       "version_minor": 0
      },
      "text/plain": [
       "HBox(children=(FloatProgress(value=0.0, description='Drawing 5000 posterior samples', max=5000.0, style=Progre…"
      ]
     },
     "metadata": {},
     "output_type": "display_data"
    },
    {
     "name": "stdout",
     "output_type": "stream",
     "text": [
      "\n"
     ]
    },
    {
     "data": {
      "application/vnd.jupyter.widget-view+json": {
       "model_id": "a18688077bed4ba4af6d02a608f4babc",
       "version_major": 2,
       "version_minor": 0
      },
      "text/plain": [
       "HBox(children=(FloatProgress(value=0.0, description='Drawing 5000 posterior samples', max=5000.0, style=Progre…"
      ]
     },
     "metadata": {},
     "output_type": "display_data"
    },
    {
     "name": "stdout",
     "output_type": "stream",
     "text": [
      "\n"
     ]
    },
    {
     "data": {
      "application/vnd.jupyter.widget-view+json": {
       "model_id": "ed2055991cfe4ac8854429b570c31c06",
       "version_major": 2,
       "version_minor": 0
      },
      "text/plain": [
       "HBox(children=(FloatProgress(value=0.0, description='Drawing 5000 posterior samples', max=5000.0, style=Progre…"
      ]
     },
     "metadata": {},
     "output_type": "display_data"
    },
    {
     "name": "stdout",
     "output_type": "stream",
     "text": [
      "\n"
     ]
    },
    {
     "data": {
      "application/vnd.jupyter.widget-view+json": {
       "model_id": "8fc673559dad44848f2de38e985e4ec7",
       "version_major": 2,
       "version_minor": 0
      },
      "text/plain": [
       "HBox(children=(FloatProgress(value=0.0, description='Drawing 5000 posterior samples', max=5000.0, style=Progre…"
      ]
     },
     "metadata": {},
     "output_type": "display_data"
    },
    {
     "name": "stdout",
     "output_type": "stream",
     "text": [
      "\n"
     ]
    },
    {
     "data": {
      "application/vnd.jupyter.widget-view+json": {
       "model_id": "5b118125da024b388186690c1245c05c",
       "version_major": 2,
       "version_minor": 0
      },
      "text/plain": [
       "HBox(children=(FloatProgress(value=0.0, description='Drawing 5000 posterior samples', max=5000.0, style=Progre…"
      ]
     },
     "metadata": {},
     "output_type": "display_data"
    },
    {
     "name": "stdout",
     "output_type": "stream",
     "text": [
      "\n"
     ]
    },
    {
     "data": {
      "application/vnd.jupyter.widget-view+json": {
       "model_id": "2067a49fc94d4a00bdea876335f81cb2",
       "version_major": 2,
       "version_minor": 0
      },
      "text/plain": [
       "HBox(children=(FloatProgress(value=0.0, description='Drawing 5000 posterior samples', max=5000.0, style=Progre…"
      ]
     },
     "metadata": {},
     "output_type": "display_data"
    },
    {
     "name": "stdout",
     "output_type": "stream",
     "text": [
      "\n"
     ]
    },
    {
     "data": {
      "application/vnd.jupyter.widget-view+json": {
       "model_id": "bfa12452e5cc4b1f94897c5fc0053843",
       "version_major": 2,
       "version_minor": 0
      },
      "text/plain": [
       "HBox(children=(FloatProgress(value=0.0, description='Drawing 5000 posterior samples', max=5000.0, style=Progre…"
      ]
     },
     "metadata": {},
     "output_type": "display_data"
    },
    {
     "name": "stdout",
     "output_type": "stream",
     "text": [
      "\n"
     ]
    },
    {
     "data": {
      "application/vnd.jupyter.widget-view+json": {
       "model_id": "cddce6d6543a4f3f88ac51e59461bb82",
       "version_major": 2,
       "version_minor": 0
      },
      "text/plain": [
       "HBox(children=(FloatProgress(value=0.0, description='Drawing 5000 posterior samples', max=5000.0, style=Progre…"
      ]
     },
     "metadata": {},
     "output_type": "display_data"
    },
    {
     "name": "stdout",
     "output_type": "stream",
     "text": [
      "\n"
     ]
    },
    {
     "data": {
      "application/vnd.jupyter.widget-view+json": {
       "model_id": "72bd1b6338bd4942b04caa3b98a8ff42",
       "version_major": 2,
       "version_minor": 0
      },
      "text/plain": [
       "HBox(children=(FloatProgress(value=0.0, description='Drawing 5000 posterior samples', max=5000.0, style=Progre…"
      ]
     },
     "metadata": {},
     "output_type": "display_data"
    },
    {
     "name": "stdout",
     "output_type": "stream",
     "text": [
      "\n"
     ]
    },
    {
     "data": {
      "application/vnd.jupyter.widget-view+json": {
       "model_id": "bf6ffd0bc9104b24bc708e112e89112d",
       "version_major": 2,
       "version_minor": 0
      },
      "text/plain": [
       "HBox(children=(FloatProgress(value=0.0, description='Drawing 5000 posterior samples', max=5000.0, style=Progre…"
      ]
     },
     "metadata": {},
     "output_type": "display_data"
    },
    {
     "name": "stdout",
     "output_type": "stream",
     "text": [
      "\n"
     ]
    },
    {
     "data": {
      "application/vnd.jupyter.widget-view+json": {
       "model_id": "9aabadebaaff4d3b9bc6f99bff2c714b",
       "version_major": 2,
       "version_minor": 0
      },
      "text/plain": [
       "HBox(children=(FloatProgress(value=0.0, description='Drawing 5000 posterior samples', max=5000.0, style=Progre…"
      ]
     },
     "metadata": {},
     "output_type": "display_data"
    },
    {
     "name": "stdout",
     "output_type": "stream",
     "text": [
      "\n"
     ]
    },
    {
     "data": {
      "application/vnd.jupyter.widget-view+json": {
       "model_id": "9c8e2b6c338548598d8098b9b2de6e51",
       "version_major": 2,
       "version_minor": 0
      },
      "text/plain": [
       "HBox(children=(FloatProgress(value=0.0, description='Drawing 5000 posterior samples', max=5000.0, style=Progre…"
      ]
     },
     "metadata": {},
     "output_type": "display_data"
    },
    {
     "name": "stdout",
     "output_type": "stream",
     "text": [
      "\n"
     ]
    },
    {
     "data": {
      "application/vnd.jupyter.widget-view+json": {
       "model_id": "0ebd5233da8848b79dc544526094b518",
       "version_major": 2,
       "version_minor": 0
      },
      "text/plain": [
       "HBox(children=(FloatProgress(value=0.0, description='Drawing 5000 posterior samples', max=5000.0, style=Progre…"
      ]
     },
     "metadata": {},
     "output_type": "display_data"
    },
    {
     "name": "stdout",
     "output_type": "stream",
     "text": [
      "\n"
     ]
    },
    {
     "data": {
      "application/vnd.jupyter.widget-view+json": {
       "model_id": "68416d7878264706bebe324aa632d2ad",
       "version_major": 2,
       "version_minor": 0
      },
      "text/plain": [
       "HBox(children=(FloatProgress(value=0.0, description='Drawing 5000 posterior samples', max=5000.0, style=Progre…"
      ]
     },
     "metadata": {},
     "output_type": "display_data"
    },
    {
     "name": "stdout",
     "output_type": "stream",
     "text": [
      "\n"
     ]
    }
   ],
   "source": [
    "# storage\n",
    "E1_1_arr = np.empty((5, 18))\n",
    "\n",
    "# loop through all 18\n",
    "for idx in range(18):\n",
    "    # ------------- Set Up\n",
    "    # set true theta\n",
    "    true_theta = test_params[idx]\n",
    "    \n",
    "    # create time series\n",
    "    y_hat_full = reshape_y(simulate(DataX=DataX_test, theta=true_theta, lstm=lstm_out_list[lstm_idx]))\n",
    "    y_hat = createYHat(y_hat_full, stat_method='full', stat_typ=None, embed_type=None)\n",
    "    \n",
    "    # ------------- Parameter Space\n",
    "    # sample posterior and create log probability\n",
    "    # - given observation(s), sample posterior, evaluate probability, and plot\n",
    "    posterior_samples = posterior.sample((n_samples,), x=y_hat) # type - tensor object\n",
    "    # posterior_samples_simulations = bulk_simulate(posterior_samples, num_days, n_samples, ensemble_path, model_path)\n",
    "    log_probability = posterior.log_prob(posterior_samples, x=y_hat).unsqueeze(1) # type - tensor object\n",
    "    \n",
    "    # calculate determinent, average euclidean distance, and average log prob\n",
    "    mean_param = posterior_samples.mean(axis=0)\n",
    "    median_param = np.quantile(posterior_samples, q=0.5, axis=0)\n",
    "    # euclidean distance\n",
    "    euc_dist = norm(true_theta-mean_param)\n",
    "    \n",
    "    # probability stuff\n",
    "    log_prob_true_thetas_ind, log_prob_true_thetas_all, log_prob_true_thetas_flag = genProbThetas(true_theta,\n",
    "                                        posterior_samples, log_probability, theta_prec=4, mult_factor=10)\n",
    "    log_prob_out = log_prob_true_thetas_ind.mean()\n",
    "    \n",
    "    # covariance of the distribution\n",
    "    cov_sample = cov(posterior_samples.T)\n",
    "    # determinant of the distribution\n",
    "    det_sample = det(cov_sample)\n",
    "    \n",
    "    cov_inv_temp = np.linalg.inv(cov_sample)\n",
    "    dist_temp = distance.mahalanobis(true_theta,mean_param,cov_inv_temp)\n",
    "    \n",
    "    # ------------- Streamflow Space\n",
    "    boots_params, boots_logprob, idxs = randBootstrap(posterior_samples, log_probability)\n",
    "    y_sims = genSimulation(DataX_test, boots_params, lstm_out_list,\n",
    "                           add_noise=True,f_noise=1e-2,lstm_idx=lstm_idx, y_len=y_len)\n",
    "\n",
    "    y_hat_full = convertNumpy(y_hat_full[0,:], toTorch=False)\n",
    "    \n",
    "    # calculate NSEs\n",
    "    NSE_arr = np.empty(y_sims.shape[0])\n",
    "    for k in range(y_sims.shape[0]):\n",
    "        y_o = y_sims[k,:]\n",
    "        y_o = convertNumpy(y_o, toTorch=False)\n",
    "        NSE_arr[k] = compute_stats(y_o, y_hat_full)[1]\n",
    "        del y_o\n",
    "\n",
    "    NSE_ave = NSE_arr.mean()\n",
    "    NSE_std = NSE_arr.std()\n",
    "    \n",
    "    # ------------- Put together\n",
    "    E1_1_arr[:,idx] = [dist_temp, det_sample, log_prob_out, NSE_ave, NSE_std]\n",
    "\n",
    "    del true_theta, y_hat_full, y_hat, posterior_samples, log_probability, mean_param, median_param\n",
    "    del euc_dist, log_prob_true_thetas_ind, log_prob_true_thetas_all, log_prob_true_thetas_flag\n",
    "    del log_prob_out, cov_sample, det_sample, boots_params, boots_logprob, idxs, y_sims\n",
    "    del NSE_arr, NSE_ave, NSE_std, cov_inv_temp, dist_temp\n",
    "    "
   ]
  },
  {
   "cell_type": "markdown",
   "metadata": {},
   "source": [
    "#### Experiment 2_1 Bulk (ParFlow Truth using full time series)"
   ]
  },
  {
   "cell_type": "code",
   "execution_count": 14,
   "metadata": {},
   "outputs": [
    {
     "data": {
      "application/vnd.jupyter.widget-view+json": {
       "model_id": "43edf825cbfc4902b75817dfc67d6f10",
       "version_major": 2,
       "version_minor": 0
      },
      "text/plain": [
       "HBox(children=(FloatProgress(value=0.0, description='Drawing 5000 posterior samples', max=5000.0, style=Progre…"
      ]
     },
     "metadata": {},
     "output_type": "display_data"
    },
    {
     "name": "stdout",
     "output_type": "stream",
     "text": [
      "\n"
     ]
    },
    {
     "data": {
      "application/vnd.jupyter.widget-view+json": {
       "model_id": "1c4b70a13a194633ab2ffe2454db0ea1",
       "version_major": 2,
       "version_minor": 0
      },
      "text/plain": [
       "HBox(children=(FloatProgress(value=0.0, description='Drawing 5000 posterior samples', max=5000.0, style=Progre…"
      ]
     },
     "metadata": {},
     "output_type": "display_data"
    },
    {
     "name": "stdout",
     "output_type": "stream",
     "text": [
      "\n"
     ]
    },
    {
     "name": "stderr",
     "output_type": "stream",
     "text": [
      "/home/qh8373/SBI_TAYLOR/sbi_taylor/scripts/05_utils/posteriorsamputils.py:97: RuntimeWarning: Mean of empty slice.\n",
      "  log_prob_true_thetas_ind[i] = np.take(log_probability, theta_idx)[0].mean()\n",
      "/home/SHARED/software/anaconda3/2020.07e/lib/python3.8/site-packages/numpy/core/_methods.py:188: RuntimeWarning: invalid value encountered in true_divide\n",
      "  ret = ret.dtype.type(ret / rcount)\n"
     ]
    },
    {
     "data": {
      "application/vnd.jupyter.widget-view+json": {
       "model_id": "c68a19aa84b34b23bd0fc2b4864ec332",
       "version_major": 2,
       "version_minor": 0
      },
      "text/plain": [
       "HBox(children=(FloatProgress(value=0.0, description='Drawing 5000 posterior samples', max=5000.0, style=Progre…"
      ]
     },
     "metadata": {},
     "output_type": "display_data"
    },
    {
     "name": "stdout",
     "output_type": "stream",
     "text": [
      "\n"
     ]
    },
    {
     "data": {
      "application/vnd.jupyter.widget-view+json": {
       "model_id": "98953bdbb43842309d9062247ba557db",
       "version_major": 2,
       "version_minor": 0
      },
      "text/plain": [
       "HBox(children=(FloatProgress(value=0.0, description='Drawing 5000 posterior samples', max=5000.0, style=Progre…"
      ]
     },
     "metadata": {},
     "output_type": "display_data"
    },
    {
     "name": "stdout",
     "output_type": "stream",
     "text": [
      "\n"
     ]
    },
    {
     "data": {
      "application/vnd.jupyter.widget-view+json": {
       "model_id": "818eb3469ce24a57968f5b2bb68ac17a",
       "version_major": 2,
       "version_minor": 0
      },
      "text/plain": [
       "HBox(children=(FloatProgress(value=0.0, description='Drawing 5000 posterior samples', max=5000.0, style=Progre…"
      ]
     },
     "metadata": {},
     "output_type": "display_data"
    },
    {
     "name": "stdout",
     "output_type": "stream",
     "text": [
      "\n"
     ]
    },
    {
     "data": {
      "application/vnd.jupyter.widget-view+json": {
       "model_id": "6269d52431da4054b6425ea8e4e81c0a",
       "version_major": 2,
       "version_minor": 0
      },
      "text/plain": [
       "HBox(children=(FloatProgress(value=0.0, description='Drawing 5000 posterior samples', max=5000.0, style=Progre…"
      ]
     },
     "metadata": {},
     "output_type": "display_data"
    },
    {
     "name": "stdout",
     "output_type": "stream",
     "text": [
      "\n"
     ]
    },
    {
     "data": {
      "application/vnd.jupyter.widget-view+json": {
       "model_id": "c7f597eab07d47a4baf2a9515244da23",
       "version_major": 2,
       "version_minor": 0
      },
      "text/plain": [
       "HBox(children=(FloatProgress(value=0.0, description='Drawing 5000 posterior samples', max=5000.0, style=Progre…"
      ]
     },
     "metadata": {},
     "output_type": "display_data"
    },
    {
     "name": "stdout",
     "output_type": "stream",
     "text": [
      "\n"
     ]
    },
    {
     "data": {
      "application/vnd.jupyter.widget-view+json": {
       "model_id": "f4b0e948d48843409434f1c0dc8b8e81",
       "version_major": 2,
       "version_minor": 0
      },
      "text/plain": [
       "HBox(children=(FloatProgress(value=0.0, description='Drawing 5000 posterior samples', max=5000.0, style=Progre…"
      ]
     },
     "metadata": {},
     "output_type": "display_data"
    },
    {
     "name": "stdout",
     "output_type": "stream",
     "text": [
      "\n"
     ]
    },
    {
     "data": {
      "application/vnd.jupyter.widget-view+json": {
       "model_id": "f7e89f9e64f6435a92b5eb1d3dba40cb",
       "version_major": 2,
       "version_minor": 0
      },
      "text/plain": [
       "HBox(children=(FloatProgress(value=0.0, description='Drawing 5000 posterior samples', max=5000.0, style=Progre…"
      ]
     },
     "metadata": {},
     "output_type": "display_data"
    },
    {
     "name": "stdout",
     "output_type": "stream",
     "text": [
      "\n"
     ]
    },
    {
     "data": {
      "application/vnd.jupyter.widget-view+json": {
       "model_id": "c8163379914f44e2934a6bc0da0f100b",
       "version_major": 2,
       "version_minor": 0
      },
      "text/plain": [
       "HBox(children=(FloatProgress(value=0.0, description='Drawing 5000 posterior samples', max=5000.0, style=Progre…"
      ]
     },
     "metadata": {},
     "output_type": "display_data"
    },
    {
     "name": "stdout",
     "output_type": "stream",
     "text": [
      "\n"
     ]
    },
    {
     "data": {
      "application/vnd.jupyter.widget-view+json": {
       "model_id": "6ca3e36fa0e449c09cb600525b89e809",
       "version_major": 2,
       "version_minor": 0
      },
      "text/plain": [
       "HBox(children=(FloatProgress(value=0.0, description='Drawing 5000 posterior samples', max=5000.0, style=Progre…"
      ]
     },
     "metadata": {},
     "output_type": "display_data"
    },
    {
     "name": "stdout",
     "output_type": "stream",
     "text": [
      "\n"
     ]
    },
    {
     "data": {
      "application/vnd.jupyter.widget-view+json": {
       "model_id": "da7129d6f1824ef094de2e54e9ff4519",
       "version_major": 2,
       "version_minor": 0
      },
      "text/plain": [
       "HBox(children=(FloatProgress(value=0.0, description='Drawing 5000 posterior samples', max=5000.0, style=Progre…"
      ]
     },
     "metadata": {},
     "output_type": "display_data"
    },
    {
     "name": "stdout",
     "output_type": "stream",
     "text": [
      "\n"
     ]
    },
    {
     "data": {
      "application/vnd.jupyter.widget-view+json": {
       "model_id": "1e8b9d9428014ab0aaa0182cdd481ce2",
       "version_major": 2,
       "version_minor": 0
      },
      "text/plain": [
       "HBox(children=(FloatProgress(value=0.0, description='Drawing 5000 posterior samples', max=5000.0, style=Progre…"
      ]
     },
     "metadata": {},
     "output_type": "display_data"
    },
    {
     "name": "stdout",
     "output_type": "stream",
     "text": [
      "\n"
     ]
    },
    {
     "data": {
      "application/vnd.jupyter.widget-view+json": {
       "model_id": "b8f9f88593f8449a9de4cbdfd8992e4d",
       "version_major": 2,
       "version_minor": 0
      },
      "text/plain": [
       "HBox(children=(FloatProgress(value=0.0, description='Drawing 5000 posterior samples', max=5000.0, style=Progre…"
      ]
     },
     "metadata": {},
     "output_type": "display_data"
    },
    {
     "name": "stdout",
     "output_type": "stream",
     "text": [
      "\n"
     ]
    },
    {
     "data": {
      "application/vnd.jupyter.widget-view+json": {
       "model_id": "d512e9381ec64ac895e4a7581fefc1a5",
       "version_major": 2,
       "version_minor": 0
      },
      "text/plain": [
       "HBox(children=(FloatProgress(value=0.0, description='Drawing 5000 posterior samples', max=5000.0, style=Progre…"
      ]
     },
     "metadata": {},
     "output_type": "display_data"
    },
    {
     "name": "stdout",
     "output_type": "stream",
     "text": [
      "\n"
     ]
    },
    {
     "data": {
      "application/vnd.jupyter.widget-view+json": {
       "model_id": "d53cfbf1865144bcb868b8305513afde",
       "version_major": 2,
       "version_minor": 0
      },
      "text/plain": [
       "HBox(children=(FloatProgress(value=0.0, description='Drawing 5000 posterior samples', max=5000.0, style=Progre…"
      ]
     },
     "metadata": {},
     "output_type": "display_data"
    },
    {
     "name": "stdout",
     "output_type": "stream",
     "text": [
      "\n"
     ]
    },
    {
     "data": {
      "application/vnd.jupyter.widget-view+json": {
       "model_id": "8aa1b362e23f4d22839f746e64f8c5a9",
       "version_major": 2,
       "version_minor": 0
      },
      "text/plain": [
       "HBox(children=(FloatProgress(value=0.0, description='Drawing 5000 posterior samples', max=5000.0, style=Progre…"
      ]
     },
     "metadata": {},
     "output_type": "display_data"
    },
    {
     "name": "stdout",
     "output_type": "stream",
     "text": [
      "\n"
     ]
    },
    {
     "data": {
      "application/vnd.jupyter.widget-view+json": {
       "model_id": "74aed87811864c84a96650244fddeb8b",
       "version_major": 2,
       "version_minor": 0
      },
      "text/plain": [
       "HBox(children=(FloatProgress(value=0.0, description='Drawing 5000 posterior samples', max=5000.0, style=Progre…"
      ]
     },
     "metadata": {},
     "output_type": "display_data"
    },
    {
     "name": "stdout",
     "output_type": "stream",
     "text": [
      "\n"
     ]
    }
   ],
   "source": [
    "# create time series\n",
    "unique_series_PF = createYHatList(DataY_test, series_len, num_unique,\n",
    "                stat_method='full', stat_typ=None, embed_type=None)\n",
    "unique_series_full_PF = createYHatList(DataY_test, series_len, num_unique,\n",
    "                    stat_method='full', stat_typ=None, embed_type=None)\n",
    "\n",
    "# storage\n",
    "E2_1_arr = np.empty((5, 18))\n",
    "\n",
    "# loop through all 18\n",
    "for idx in range(18):\n",
    "    # ------------- Set Up\n",
    "    # set true theta\n",
    "    true_theta = test_params[idx]\n",
    "    \n",
    "    # set series\n",
    "    y_hat_PF = unique_series_PF[idx]\n",
    "    y_hat_full_PF = unique_series_full_PF[idx]\n",
    "    \n",
    "    # ------------- Parameter Space\n",
    "    # sample posterior and create log probability\n",
    "    # - given observation(s), sample posterior, evaluate probability, and plot\n",
    "    posterior_samples_PF = posterior.sample((n_samples,), x=y_hat_PF) # type - tensor object\n",
    "    # posterior_samples_simulations = bulk_simulate(posterior_samples, num_days, n_samples, ensemble_path, model_path)\n",
    "    log_probability_PF = posterior.log_prob(posterior_samples_PF, x=y_hat_PF).unsqueeze(1) # type - tensor object\n",
    "\n",
    "    \n",
    "    # calculate determinent, average euclidean distance, and average log prob\n",
    "    mean_param = posterior_samples_PF.mean(axis=0)\n",
    "    median_param = np.quantile(posterior_samples_PF, q=0.5, axis=0)\n",
    "    # euclidean distance\n",
    "    euc_dist = norm(true_theta-mean_param)\n",
    "    \n",
    "    # probability stuff\n",
    "    log_prob_true_thetas_ind, log_prob_true_thetas_all, log_prob_true_thetas_flag = genProbThetas(true_theta,\n",
    "                                        posterior_samples_PF, log_probability_PF, theta_prec=4, mult_factor=10)\n",
    "    log_prob_out = log_prob_true_thetas_ind.mean()\n",
    "    \n",
    "    # covariance of the distribution\n",
    "    cov_sample = cov(posterior_samples_PF.T)\n",
    "    # determinant of the distribution\n",
    "    det_sample = det(cov_sample)\n",
    "    \n",
    "    cov_inv_temp = np.linalg.inv(cov_sample)\n",
    "    dist_temp = distance.mahalanobis(true_theta,mean_param,cov_inv_temp)\n",
    "    \n",
    "    # ------------- Streamflow Space\n",
    "    boots_params, boots_logprob, idxs = randBootstrap(posterior_samples_PF, log_probability_PF)\n",
    "    # will need to edit this portion\n",
    "    y_sims = genSimulation(DataX_test, boots_params, lstm_out_list,\n",
    "                           add_noise=True,f_noise=1e-2,lstm_idx=lstm_idx, y_len=y_len)\n",
    "\n",
    "    y_hat_full_PF = convertNumpy(y_hat_full_PF[0,:], toTorch=False)\n",
    "    \n",
    "    # calculate NSEs\n",
    "    NSE_arr = np.empty(y_sims.shape[0])\n",
    "    for k in range(y_sims.shape[0]):\n",
    "        y_o = y_sims[k,:]\n",
    "        y_o = convertNumpy(y_o, toTorch=False)\n",
    "        NSE_arr[k] = compute_stats(y_o, y_hat_full_PF)[1]\n",
    "        del y_o\n",
    "\n",
    "    NSE_ave = NSE_arr.mean()\n",
    "    NSE_std = NSE_arr.std()\n",
    "    \n",
    "    # ------------- Put together\n",
    "    E2_1_arr[:,idx] = [dist_temp, det_sample, log_prob_out, NSE_ave, NSE_std]\n",
    "\n",
    "    del true_theta, y_hat_full_PF, y_hat_PF, posterior_samples_PF, log_probability_PF, mean_param, median_param\n",
    "    del euc_dist, log_prob_true_thetas_ind, log_prob_true_thetas_all, log_prob_true_thetas_flag\n",
    "    del log_prob_out, cov_sample, det_sample, boots_params, boots_logprob, idxs, y_sims\n",
    "    del NSE_arr, NSE_ave, NSE_std, cov_inv_temp, dist_temp\n",
    "    "
   ]
  },
  {
   "cell_type": "markdown",
   "metadata": {},
   "source": [
    "# -------------------------------------"
   ]
  },
  {
   "cell_type": "markdown",
   "metadata": {},
   "source": [
    "### *Dimension 2a* - Using heuristic summaries (compressions) of full time series\n",
    "### Loading SBI Posteriors"
   ]
  },
  {
   "cell_type": "code",
   "execution_count": 15,
   "metadata": {},
   "outputs": [
    {
     "name": "stdout",
     "output_type": "stream",
     "text": [
      "0819_01_mod2_02_05_lstm_A_0209_01_[ 4 12 13]_surrogate\n",
      "warning: file exists\n",
      "/home/qh8373/SBI_TAYLOR/data/06_interp_out/experiments/0819_01_mod2_02_05_lstm_A_0209_01_[ 4 12 13]_surrogate/\n"
     ]
    }
   ],
   "source": [
    "# Directories\n",
    "sbi_run  = '0819_01_mod2_02_05_lstm_A_0209_01_[ 4 12 13]_surrogate'\n",
    "print(sbi_run)\n",
    "sbi_dir = f'/home/qh8373/SBI_TAYLOR/data/05_sbi_out/{sbi_run}/'\n",
    "save_dir = f'/home/qh8373/SBI_TAYLOR/data/06_interp_out/experiments/{sbi_run}/'\n",
    "\n",
    "try:\n",
    "    os.mkdir(f'{save_dir}')\n",
    "except:\n",
    "    print('warning: file exists')\n",
    "    pass\n",
    "\n",
    "print(save_dir)\n",
    "\n",
    "lstm_name = '02_05_lstm_A'\n",
    "lstm_path = f'/home/qh8373/SBI_TAYLOR/data/04_lstm_out/{lstm_name}/'\n",
    "\n",
    "# load lstm info\n",
    "with open(lstm_path+'list_df_cond.pkl', 'rb') as fp:\n",
    "    list_df_cond = pickle.load(fp)"
   ]
  },
  {
   "cell_type": "markdown",
   "metadata": {},
   "source": [
    "### a. Interpretive plots for each synthetic observations, parameters only"
   ]
  },
  {
   "cell_type": "markdown",
   "metadata": {},
   "source": [
    "#### Selection Criteria and Load Posterior"
   ]
  },
  {
   "cell_type": "code",
   "execution_count": 16,
   "metadata": {},
   "outputs": [],
   "source": [
    "# Selection Criteria\n",
    "sub = 1 # Posterior Sub (Lsim=0 to 10)\n",
    "idx = 1 #PF:LSTM, 0=82, 1=83, .... #Observation\n",
    "lstm_idx = 0 #LSTM number in ensemble, nb: should be the same idx as that used in inference = 0\n",
    "n_samples = 5000 \n",
    "sbi_dir_sub = f'{sbi_dir}{sub}/'\n",
    "\n",
    "stat_method = 'summary'\n",
    "stat_typ = np.array([4,12,13])\n",
    "embed_type = None\n",
    "out_dim = 3\n",
    "\n",
    "# load posterior\n",
    "with open(sbi_dir_sub+'posterior.pkl', 'rb') as fp:\n",
    "    posterior = pickle.load(fp)"
   ]
  },
  {
   "cell_type": "markdown",
   "metadata": {},
   "source": [
    "#### General loading for posterior sampling"
   ]
  },
  {
   "cell_type": "code",
   "execution_count": 17,
   "metadata": {},
   "outputs": [],
   "source": [
    "'''\n",
    "ParFlow truth loads\n",
    "lstm_df_cond should be loaded\n",
    "to test ParFlow truths on models trained with LSTMs and previous tested with LSTM synthetic truths\n",
    "'''\n",
    "DataX_test, DataY_test, series_len, lstm_out_list = parseListDf(list_df_cond)\n",
    "test_params, num_params, num_unique, DataX_test = parseUniqueParams(DataX_test, series_len)\n",
    "\n",
    "\n",
    "'''\n",
    "sample observation (y_hat) and 'correct' parameter (true_theta)\n",
    "    y_hat_full is the full timeseries (important for embed and summary stat method)\n",
    "'''\n",
    "true_theta = test_params[idx]"
   ]
  },
  {
   "cell_type": "markdown",
   "metadata": {},
   "source": [
    "#### Sample Posterior (Emulated)"
   ]
  },
  {
   "cell_type": "code",
   "execution_count": 18,
   "metadata": {},
   "outputs": [
    {
     "data": {
      "application/vnd.jupyter.widget-view+json": {
       "model_id": "9b461f1e3f23437da46e287ee997ff0e",
       "version_major": 2,
       "version_minor": 0
      },
      "text/plain": [
       "HBox(children=(FloatProgress(value=0.0, description='Drawing 5000 posterior samples', max=5000.0, style=Progre…"
      ]
     },
     "metadata": {},
     "output_type": "display_data"
    },
    {
     "name": "stdout",
     "output_type": "stream",
     "text": [
      "\n",
      "the theta value is tensor([0.5995, 0.8495]) \n",
      "\n",
      "Emulated\n"
     ]
    },
    {
     "name": "stderr",
     "output_type": "stream",
     "text": [
      "<ipython-input-18-fc0f29b1d899>:21: UserWarning: To copy construct from a tensor, it is recommended to use sourceTensor.clone().detach() or sourceTensor.clone().detach().requires_grad_(True), rather than torch.tensor(sourceTensor).\n",
      "  points=torch.tensor(true_theta),\n"
     ]
    },
    {
     "data": {
      "image/png": "[encoded data removed]",
      "text/plain": [
       "<Figure size 432x432 with 4 Axes>"
      ]
     },
     "metadata": {
      "needs_background": "light"
     },
     "output_type": "display_data"
    }
   ],
   "source": [
    "# emulated streamflow\n",
    "y_hat_full = reshape_y(simulate(DataX=DataX_test, theta=true_theta, lstm=lstm_out_list[lstm_idx]))\n",
    "y_hat = createYHat(y_hat_full, stat_method=stat_method, stat_typ=stat_typ, embed_type=embed_type)\n",
    "\n",
    "'''\n",
    "sample posterior and create log probability\n",
    "'''\n",
    "# emulated\n",
    "# - given observation(s), sample posterior, evaluate probability, and plot\n",
    "posterior_samples = posterior.sample((n_samples,), x=y_hat) # type - tensor object\n",
    "# posterior_samples_simulations = bulk_simulate(posterior_samples, num_days, n_samples, ensemble_path, model_path)\n",
    "log_probability = posterior.log_prob(posterior_samples, x=y_hat).unsqueeze(1) # type - tensor object\n",
    "\n",
    "'''\n",
    "Pairplot\n",
    "'''\n",
    "print('the theta value is', true_theta, '\\n')\n",
    "\n",
    "print('Emulated')\n",
    "fig, ax = analysis.pairplot(posterior_samples, \n",
    "                               points=torch.tensor(true_theta),\n",
    "                               limits=[[0, 1],[0, 1]], \n",
    "                               figsize=(6,6)) # \n",
    "fig.savefig(f'{save_dir}pair_plot_lstmidx_{lstm_idx}_sub_{sub}_runidx_{idx}_emulated.png')\n",
    "fig.savefig(f'{save_dir}pair_plot_lstmidx_{lstm_idx}_sub_{sub}_runidx_{idx}_emulated.eps', format='eps')\n",
    "\n",
    "plt.show()"
   ]
  },
  {
   "cell_type": "markdown",
   "metadata": {},
   "source": [
    "#### Sample Posterior (ParFlow)\n",
    "* nb: to check for bias"
   ]
  },
  {
   "cell_type": "code",
   "execution_count": 19,
   "metadata": {},
   "outputs": [
    {
     "name": "stderr",
     "output_type": "stream",
     "text": [
      "/home/qh8373/SBI_TAYLOR/sbi_taylor/scripts/05_utils/sbiutils.py:110: UserWarning: To copy construct from a tensor, it is recommended to use sourceTensor.clone().detach() or sourceTensor.clone().detach().requires_grad_(True), rather than torch.tensor(sourceTensor).\n",
      "  return torch.tensor(y_out)\n"
     ]
    },
    {
     "data": {
      "application/vnd.jupyter.widget-view+json": {
       "model_id": "0dcef1bf34cf45c8868e974bb7b390d5",
       "version_major": 2,
       "version_minor": 0
      },
      "text/plain": [
       "HBox(children=(FloatProgress(value=0.0, description='Drawing 5000 posterior samples', max=5000.0, style=Progre…"
      ]
     },
     "metadata": {},
     "output_type": "display_data"
    },
    {
     "name": "stderr",
     "output_type": "stream",
     "text": [
      "<ipython-input-19-e3e1d5de5aa7>:26: UserWarning: To copy construct from a tensor, it is recommended to use sourceTensor.clone().detach() or sourceTensor.clone().detach().requires_grad_(True), rather than torch.tensor(sourceTensor).\n",
      "  points=torch.tensor(true_theta),\n"
     ]
    },
    {
     "name": "stdout",
     "output_type": "stream",
     "text": [
      "\n",
      "the theta value is tensor([0.5995, 0.8495]) \n",
      "\n",
      "PARFLOW\n"
     ]
    },
    {
     "data": {
      "image/png": "[encoded data removed]",
      "text/plain": [
       "<Figure size 432x432 with 4 Axes>"
      ]
     },
     "metadata": {
      "needs_background": "light"
     },
     "output_type": "display_data"
    }
   ],
   "source": [
    "# PF\n",
    "unique_series_PF = createYHatList(DataY_test, series_len, num_unique,\n",
    "                stat_method=stat_method, stat_typ=stat_typ, embed_type=embed_type)\n",
    "unique_series_full_PF = createYHatList(DataY_test, series_len, num_unique,\n",
    "                    stat_method='full', stat_typ=None, embed_type=None)\n",
    "y_hat_PF = unique_series_PF[idx]\n",
    "y_hat_full_PF = unique_series_full_PF[idx]\n",
    "\n",
    "'''\n",
    "sample posterior and create log probability\n",
    "'''\n",
    "# PF\n",
    "# - given observation(s), sample posterior, evaluate probability, and plot\n",
    "posterior_samples_PF = posterior.sample((n_samples,), x=y_hat_PF) # type - tensor object\n",
    "# posterior_samples_simulations = bulk_simulate(posterior_samples, num_days, n_samples, ensemble_path, model_path)\n",
    "log_probability_PF = posterior.log_prob(posterior_samples_PF, x=y_hat_PF).unsqueeze(1) # type - tensor object\n",
    "\n",
    "\n",
    "'''\n",
    "Pairplot\n",
    "'''\n",
    "print('the theta value is', true_theta, '\\n')\n",
    "\n",
    "print('PARFLOW')\n",
    "fig, ax = analysis.pairplot(posterior_samples_PF, \n",
    "                               points=torch.tensor(true_theta),\n",
    "                               limits=[[0, 1],[0, 1]], \n",
    "                               figsize=(6,6)) # \n",
    "fig.savefig(f'{save_dir}pair_plot_lstmidx_{lstm_idx}_sub_{sub}_runidx_{idx}_PF.png')\n",
    "fig.savefig(f'{save_dir}pair_plot_lstmidx_{lstm_idx}_sub_{sub}_runidx_{idx}_PF.eps', format='eps')\n",
    "\n",
    "plt.show()\n",
    "\n"
   ]
  },
  {
   "cell_type": "markdown",
   "metadata": {},
   "source": [
    "### b. Interpretive plots for each synthetic observations, streamflow timeseries only"
   ]
  },
  {
   "cell_type": "markdown",
   "metadata": {},
   "source": [
    "#### Bootstrap + Get Truth (Emulated)"
   ]
  },
  {
   "cell_type": "code",
   "execution_count": 20,
   "metadata": {},
   "outputs": [],
   "source": [
    "'''\n",
    "bootstrap\n",
    "'''\n",
    "# emulated\n",
    "boots_params, boots_logprob, idxs = randBootstrap(posterior_samples, log_probability)\n",
    "\n",
    "'''\n",
    "get 'truth'\n",
    "'''\n",
    "# emulated\n",
    "y_hat_plot = y_hat_full.T.detach().numpy()\n",
    "y_len = len(y_hat_plot)"
   ]
  },
  {
   "cell_type": "markdown",
   "metadata": {},
   "source": [
    "#### Run Forward Simulations (emulators)"
   ]
  },
  {
   "cell_type": "code",
   "execution_count": 21,
   "metadata": {},
   "outputs": [
    {
     "name": "stdout",
     "output_type": "stream",
     "text": [
      "Caution, multiple emulators available\n"
     ]
    }
   ],
   "source": [
    "# generate forward simulations\n",
    "if len(lstm_out_list) > 1:\n",
    "    print('Caution, multiple emulators available')\n",
    "\n",
    "y_sims = genSimulation(DataX_test, boots_params, lstm_out_list,\n",
    "                       add_noise=True,f_noise=1e-2,lstm_idx=lstm_idx, y_len=y_len)\n",
    "\n"
   ]
  },
  {
   "cell_type": "markdown",
   "metadata": {},
   "source": [
    "#### Plot time series (emulators)"
   ]
  },
  {
   "cell_type": "code",
   "execution_count": 22,
   "metadata": {},
   "outputs": [
    {
     "name": "stderr",
     "output_type": "stream",
     "text": [
      "The PostScript backend does not support transparency; partially transparent artists will be rendered opaque.\n",
      "The PostScript backend does not support transparency; partially transparent artists will be rendered opaque.\n",
      "The PostScript backend does not support transparency; partially transparent artists will be rendered opaque.\n",
      "The PostScript backend does not support transparency; partially transparent artists will be rendered opaque.\n",
      "The PostScript backend does not support transparency; partially transparent artists will be rendered opaque.\n"
     ]
    },
    {
     "name": "stdout",
     "output_type": "stream",
     "text": [
      "emulated\n"
     ]
    },
    {
     "data": {
      "image/png": "[encoded data removed]",
      "text/plain": [
       "<Figure size 720x360 with 1 Axes>"
      ]
     },
     "metadata": {
      "needs_background": "light"
     },
     "output_type": "display_data"
    }
   ],
   "source": [
    "x = np.linspace(0,len(y_hat_plot)-1, len(y_hat_plot))\n",
    "\n",
    "# emulated\n",
    "print('emulated')\n",
    "fig, ax = plt.subplots(figsize=(10, 5))\n",
    "sub_sub = \"{:02d}\".format(idx)\n",
    "\n",
    "# ax.plot(y_sims.T, color='blue', alpha=0.25, zorder=0)# , label='y_sims')\n",
    "ax.plot(y_sims.T.min(axis=1), color='blue', linewidth=1, zorder=0, label='min')\n",
    "ax.plot(y_sims.T.max(axis=1), color='blue', linewidth=1, zorder=0, label='max')\n",
    "ax.plot(np.mean(y_sims.T,axis=1), color='red', linewidth=1, label='mean', zorder=2)\n",
    "ax.plot(y_hat_plot, color='green', linewidth=2, label='y_hat', zorder=1)\n",
    "ax.fill_between(x, y_sims.T.min(axis=1), y_sims.T.max(axis=1), color='blue', zorder=0, alpha=0.5)\n",
    "\n",
    "ax.set_ylim(0,1)\n",
    "ax.legend()\n",
    "fig.savefig(f'{save_dir}streamflow_series_{sub}_runidx_{idx}_emulated.png')\n",
    "fig.savefig(f'{save_dir}streamflow_series_{sub}_runidx_{idx}_emulated.eps', format='eps')\n",
    "plt.show()\n"
   ]
  },
  {
   "cell_type": "markdown",
   "metadata": {},
   "source": [
    "#### Bootstrap + Get Truth (ParFlow)"
   ]
  },
  {
   "cell_type": "code",
   "execution_count": 23,
   "metadata": {},
   "outputs": [],
   "source": [
    "'''\n",
    "bootstrap\n",
    "'''\n",
    "# PARFLOW\n",
    "boots_params_PF, boots_logprob_PF, idxs_PF = randBootstrap(posterior_samples_PF, log_probability_PF)\n",
    "\n",
    "'''\n",
    "get 'truth'\n",
    "'''\n",
    "# PARFLOW\n",
    "y_hat_plot_PF = y_hat_full_PF.T.detach().numpy()\n",
    "y_len = len(y_hat_plot_PF)\n"
   ]
  },
  {
   "cell_type": "markdown",
   "metadata": {},
   "source": [
    "#### Run Forward Simulations (ParFlow)"
   ]
  },
  {
   "cell_type": "code",
   "execution_count": 24,
   "metadata": {},
   "outputs": [
    {
     "name": "stdout",
     "output_type": "stream",
     "text": [
      "Caution, multiple emulators available\n"
     ]
    }
   ],
   "source": [
    "# generate forward simulations\n",
    "if len(lstm_out_list) > 1:\n",
    "    print('Caution, multiple emulators available')\n",
    "\n",
    "y_sims_PF = genSimulation(DataX_test, boots_params_PF, lstm_out_list,\n",
    "                          add_noise=True,f_noise=1e-02, lstm_idx=lstm_idx, y_len=y_len)\n",
    "\n"
   ]
  },
  {
   "cell_type": "markdown",
   "metadata": {},
   "source": [
    "#### Plot time series (ParFlow)"
   ]
  },
  {
   "cell_type": "code",
   "execution_count": 25,
   "metadata": {
    "scrolled": true
   },
   "outputs": [
    {
     "name": "stderr",
     "output_type": "stream",
     "text": [
      "The PostScript backend does not support transparency; partially transparent artists will be rendered opaque.\n",
      "The PostScript backend does not support transparency; partially transparent artists will be rendered opaque.\n",
      "The PostScript backend does not support transparency; partially transparent artists will be rendered opaque.\n",
      "The PostScript backend does not support transparency; partially transparent artists will be rendered opaque.\n",
      "The PostScript backend does not support transparency; partially transparent artists will be rendered opaque.\n"
     ]
    },
    {
     "name": "stdout",
     "output_type": "stream",
     "text": [
      "Parflow\n"
     ]
    },
    {
     "data": {
      "image/png": "[encoded data removed]",
      "text/plain": [
       "<Figure size 720x360 with 1 Axes>"
      ]
     },
     "metadata": {
      "needs_background": "light"
     },
     "output_type": "display_data"
    }
   ],
   "source": [
    "# PARFLOW\n",
    "print('Parflow')\n",
    "fig, ax = plt.subplots(figsize=(10, 5))\n",
    "sub_sub = \"{:02d}\".format(idx)\n",
    "\n",
    "# ax.plot(y_sims_PF.T, color='blue', alpha=0.25, zorder=0)# , label='y_sims')\n",
    "ax.plot(y_sims_PF.T.min(axis=1), color='blue', linewidth=1, zorder=0, label='min')\n",
    "ax.plot(y_sims_PF.T.max(axis=1), color='blue', linewidth=1, zorder=0, label='max')\n",
    "ax.plot(np.mean(y_sims_PF.T,axis=1), color='red', linewidth=1, label='mean', zorder=2)\n",
    "ax.plot(y_hat_plot_PF, color='green', linewidth=2, label='y_hat', zorder=1)\n",
    "ax.fill_between(x, y_sims_PF.T.min(axis=1), y_sims_PF.T.max(axis=1), color='blue', zorder=0, alpha=0.5)\n",
    "\n",
    "ax.set_ylim(0,1)\n",
    "ax.legend()\n",
    "fig.savefig(f'{save_dir}streamflow_series_{sub}_runidx_{idx}_PF.png')\n",
    "fig.savefig(f'{save_dir}streamflow_series_{sub}_runidx_{idx}_PF.eps', format='eps')\n",
    "plt.show()"
   ]
  },
  {
   "cell_type": "markdown",
   "metadata": {},
   "source": [
    "#### Experiment 2_2a Bulk (ParFlow Truth using summary stat)"
   ]
  },
  {
   "cell_type": "code",
   "execution_count": 26,
   "metadata": {},
   "outputs": [
    {
     "name": "stderr",
     "output_type": "stream",
     "text": [
      "/home/qh8373/SBI_TAYLOR/sbi_taylor/scripts/05_utils/sbiutils.py:110: UserWarning: To copy construct from a tensor, it is recommended to use sourceTensor.clone().detach() or sourceTensor.clone().detach().requires_grad_(True), rather than torch.tensor(sourceTensor).\n",
      "  return torch.tensor(y_out)\n"
     ]
    },
    {
     "data": {
      "application/vnd.jupyter.widget-view+json": {
       "model_id": "b283f6ef974e4ba08fb0aa7dfc3f45df",
       "version_major": 2,
       "version_minor": 0
      },
      "text/plain": [
       "HBox(children=(FloatProgress(value=0.0, description='Drawing 5000 posterior samples', max=5000.0, style=Progre…"
      ]
     },
     "metadata": {},
     "output_type": "display_data"
    },
    {
     "name": "stdout",
     "output_type": "stream",
     "text": [
      "\n"
     ]
    },
    {
     "data": {
      "application/vnd.jupyter.widget-view+json": {
       "model_id": "dd46df32deb94511892c72b73889637f",
       "version_major": 2,
       "version_minor": 0
      },
      "text/plain": [
       "HBox(children=(FloatProgress(value=0.0, description='Drawing 5000 posterior samples', max=5000.0, style=Progre…"
      ]
     },
     "metadata": {},
     "output_type": "display_data"
    },
    {
     "name": "stdout",
     "output_type": "stream",
     "text": [
      "\n"
     ]
    },
    {
     "data": {
      "application/vnd.jupyter.widget-view+json": {
       "model_id": "48fb0368755744bfa51ead3f991c96b9",
       "version_major": 2,
       "version_minor": 0
      },
      "text/plain": [
       "HBox(children=(FloatProgress(value=0.0, description='Drawing 5000 posterior samples', max=5000.0, style=Progre…"
      ]
     },
     "metadata": {},
     "output_type": "display_data"
    },
    {
     "name": "stdout",
     "output_type": "stream",
     "text": [
      "\n"
     ]
    },
    {
     "data": {
      "application/vnd.jupyter.widget-view+json": {
       "model_id": "be96c9798a34471f8db518fe740f8572",
       "version_major": 2,
       "version_minor": 0
      },
      "text/plain": [
       "HBox(children=(FloatProgress(value=0.0, description='Drawing 5000 posterior samples', max=5000.0, style=Progre…"
      ]
     },
     "metadata": {},
     "output_type": "display_data"
    },
    {
     "name": "stdout",
     "output_type": "stream",
     "text": [
      "\n"
     ]
    },
    {
     "data": {
      "application/vnd.jupyter.widget-view+json": {
       "model_id": "a7a5f1a907fc4a80ae36c51aa2fa3e75",
       "version_major": 2,
       "version_minor": 0
      },
      "text/plain": [
       "HBox(children=(FloatProgress(value=0.0, description='Drawing 5000 posterior samples', max=5000.0, style=Progre…"
      ]
     },
     "metadata": {},
     "output_type": "display_data"
    },
    {
     "name": "stdout",
     "output_type": "stream",
     "text": [
      "\n"
     ]
    },
    {
     "name": "stderr",
     "output_type": "stream",
     "text": [
      "/home/qh8373/SBI_TAYLOR/sbi_taylor/scripts/05_utils/posteriorsamputils.py:97: RuntimeWarning: Mean of empty slice.\n",
      "  log_prob_true_thetas_ind[i] = np.take(log_probability, theta_idx)[0].mean()\n",
      "/home/SHARED/software/anaconda3/2020.07e/lib/python3.8/site-packages/numpy/core/_methods.py:188: RuntimeWarning: invalid value encountered in true_divide\n",
      "  ret = ret.dtype.type(ret / rcount)\n"
     ]
    },
    {
     "data": {
      "application/vnd.jupyter.widget-view+json": {
       "model_id": "522a78463ef14306946cc9d75c0e4380",
       "version_major": 2,
       "version_minor": 0
      },
      "text/plain": [
       "HBox(children=(FloatProgress(value=0.0, description='Drawing 5000 posterior samples', max=5000.0, style=Progre…"
      ]
     },
     "metadata": {},
     "output_type": "display_data"
    },
    {
     "name": "stdout",
     "output_type": "stream",
     "text": [
      "\n"
     ]
    },
    {
     "data": {
      "application/vnd.jupyter.widget-view+json": {
       "model_id": "99337ce92a4b4071b68c6fd93e002d37",
       "version_major": 2,
       "version_minor": 0
      },
      "text/plain": [
       "HBox(children=(FloatProgress(value=0.0, description='Drawing 5000 posterior samples', max=5000.0, style=Progre…"
      ]
     },
     "metadata": {},
     "output_type": "display_data"
    },
    {
     "name": "stdout",
     "output_type": "stream",
     "text": [
      "\n"
     ]
    },
    {
     "data": {
      "application/vnd.jupyter.widget-view+json": {
       "model_id": "198423e14da4406bbc5d31601380e382",
       "version_major": 2,
       "version_minor": 0
      },
      "text/plain": [
       "HBox(children=(FloatProgress(value=0.0, description='Drawing 5000 posterior samples', max=5000.0, style=Progre…"
      ]
     },
     "metadata": {},
     "output_type": "display_data"
    },
    {
     "name": "stdout",
     "output_type": "stream",
     "text": [
      "\n"
     ]
    },
    {
     "data": {
      "application/vnd.jupyter.widget-view+json": {
       "model_id": "3370d5adde974286b6c40974fa7c78be",
       "version_major": 2,
       "version_minor": 0
      },
      "text/plain": [
       "HBox(children=(FloatProgress(value=0.0, description='Drawing 5000 posterior samples', max=5000.0, style=Progre…"
      ]
     },
     "metadata": {},
     "output_type": "display_data"
    },
    {
     "name": "stdout",
     "output_type": "stream",
     "text": [
      "\n"
     ]
    },
    {
     "data": {
      "application/vnd.jupyter.widget-view+json": {
       "model_id": "16aceeda5f7642888e104d6ede358b00",
       "version_major": 2,
       "version_minor": 0
      },
      "text/plain": [
       "HBox(children=(FloatProgress(value=0.0, description='Drawing 5000 posterior samples', max=5000.0, style=Progre…"
      ]
     },
     "metadata": {},
     "output_type": "display_data"
    },
    {
     "name": "stdout",
     "output_type": "stream",
     "text": [
      "\n"
     ]
    },
    {
     "data": {
      "application/vnd.jupyter.widget-view+json": {
       "model_id": "1d8ebb1cc30b43928eaea5141d66e7b5",
       "version_major": 2,
       "version_minor": 0
      },
      "text/plain": [
       "HBox(children=(FloatProgress(value=0.0, description='Drawing 5000 posterior samples', max=5000.0, style=Progre…"
      ]
     },
     "metadata": {},
     "output_type": "display_data"
    },
    {
     "name": "stdout",
     "output_type": "stream",
     "text": [
      "\n"
     ]
    },
    {
     "data": {
      "application/vnd.jupyter.widget-view+json": {
       "model_id": "358b9ac51b8d4eef8b6bc89edf15ad05",
       "version_major": 2,
       "version_minor": 0
      },
      "text/plain": [
       "HBox(children=(FloatProgress(value=0.0, description='Drawing 5000 posterior samples', max=5000.0, style=Progre…"
      ]
     },
     "metadata": {},
     "output_type": "display_data"
    },
    {
     "name": "stdout",
     "output_type": "stream",
     "text": [
      "\n"
     ]
    },
    {
     "data": {
      "application/vnd.jupyter.widget-view+json": {
       "model_id": "21907c14c056496194426705dc558172",
       "version_major": 2,
       "version_minor": 0
      },
      "text/plain": [
       "HBox(children=(FloatProgress(value=0.0, description='Drawing 5000 posterior samples', max=5000.0, style=Progre…"
      ]
     },
     "metadata": {},
     "output_type": "display_data"
    },
    {
     "name": "stdout",
     "output_type": "stream",
     "text": [
      "\n"
     ]
    },
    {
     "data": {
      "application/vnd.jupyter.widget-view+json": {
       "model_id": "618f09155e3640f2862f6f8e4a6f5de8",
       "version_major": 2,
       "version_minor": 0
      },
      "text/plain": [
       "HBox(children=(FloatProgress(value=0.0, description='Drawing 5000 posterior samples', max=5000.0, style=Progre…"
      ]
     },
     "metadata": {},
     "output_type": "display_data"
    },
    {
     "name": "stdout",
     "output_type": "stream",
     "text": [
      "\n"
     ]
    },
    {
     "data": {
      "application/vnd.jupyter.widget-view+json": {
       "model_id": "8a19c5c1914e439d8779568de8c5e748",
       "version_major": 2,
       "version_minor": 0
      },
      "text/plain": [
       "HBox(children=(FloatProgress(value=0.0, description='Drawing 5000 posterior samples', max=5000.0, style=Progre…"
      ]
     },
     "metadata": {},
     "output_type": "display_data"
    },
    {
     "name": "stdout",
     "output_type": "stream",
     "text": [
      "\n"
     ]
    },
    {
     "data": {
      "application/vnd.jupyter.widget-view+json": {
       "model_id": "0cca28e99886427aa82e2f390016e175",
       "version_major": 2,
       "version_minor": 0
      },
      "text/plain": [
       "HBox(children=(FloatProgress(value=0.0, description='Drawing 5000 posterior samples', max=5000.0, style=Progre…"
      ]
     },
     "metadata": {},
     "output_type": "display_data"
    },
    {
     "name": "stdout",
     "output_type": "stream",
     "text": [
      "\n"
     ]
    },
    {
     "data": {
      "application/vnd.jupyter.widget-view+json": {
       "model_id": "a23a70375b084a4587366f94bea545b1",
       "version_major": 2,
       "version_minor": 0
      },
      "text/plain": [
       "HBox(children=(FloatProgress(value=0.0, description='Drawing 5000 posterior samples', max=5000.0, style=Progre…"
      ]
     },
     "metadata": {},
     "output_type": "display_data"
    },
    {
     "name": "stdout",
     "output_type": "stream",
     "text": [
      "\n"
     ]
    },
    {
     "data": {
      "application/vnd.jupyter.widget-view+json": {
       "model_id": "6eb802b671d844ec862ad32db743b363",
       "version_major": 2,
       "version_minor": 0
      },
      "text/plain": [
       "HBox(children=(FloatProgress(value=0.0, description='Drawing 5000 posterior samples', max=5000.0, style=Progre…"
      ]
     },
     "metadata": {},
     "output_type": "display_data"
    },
    {
     "name": "stdout",
     "output_type": "stream",
     "text": [
      "\n"
     ]
    }
   ],
   "source": [
    "# create time series\n",
    "unique_series_PF = createYHatList(DataY_test, series_len, num_unique,\n",
    "                stat_method=stat_method, stat_typ=stat_typ, embed_type=embed_type)\n",
    "unique_series_full_PF = createYHatList(DataY_test, series_len, num_unique,\n",
    "                    stat_method='full', stat_typ=None, embed_type=None)\n",
    "\n",
    "# storage\n",
    "E2_2a_arr = np.empty((5, 18))\n",
    "\n",
    "# loop through all 18\n",
    "for idx in range(18):\n",
    "    # ------------- Set Up\n",
    "    # set true theta\n",
    "    true_theta = test_params[idx]\n",
    "    \n",
    "    # set series\n",
    "    y_hat_PF = unique_series_PF[idx]\n",
    "    y_hat_full_PF = unique_series_full_PF[idx]\n",
    "    \n",
    "    # ------------- Parameter Space\n",
    "    # sample posterior and create log probability\n",
    "    # - given observation(s), sample posterior, evaluate probability, and plot\n",
    "    posterior_samples_PF = posterior.sample((n_samples,), x=y_hat_PF) # type - tensor object\n",
    "    # posterior_samples_simulations = bulk_simulate(posterior_samples, num_days, n_samples, ensemble_path, model_path)\n",
    "    log_probability_PF = posterior.log_prob(posterior_samples_PF, x=y_hat_PF).unsqueeze(1) # type - tensor object\n",
    "\n",
    "    \n",
    "    # calculate determinent, average euclidean distance, and average log prob\n",
    "    mean_param = posterior_samples_PF.mean(axis=0)\n",
    "    median_param = np.quantile(posterior_samples_PF, q=0.5, axis=0)\n",
    "    # euclidean distance\n",
    "    euc_dist = norm(true_theta-mean_param)\n",
    "    \n",
    "    # probability stuff\n",
    "    log_prob_true_thetas_ind, log_prob_true_thetas_all, log_prob_true_thetas_flag = genProbThetas(true_theta,\n",
    "                                        posterior_samples_PF, log_probability_PF, theta_prec=4, mult_factor=10)\n",
    "    log_prob_out = log_prob_true_thetas_ind.mean()\n",
    "    \n",
    "    # covariance of the distribution\n",
    "    cov_sample = cov(posterior_samples_PF.T)\n",
    "    # determinant of the distribution\n",
    "    det_sample = det(cov_sample)\n",
    "    \n",
    "    cov_inv_temp = np.linalg.inv(cov_sample)\n",
    "    dist_temp = distance.mahalanobis(true_theta,mean_param,cov_inv_temp)\n",
    "    \n",
    "    # ------------- Streamflow Space\n",
    "    boots_params, boots_logprob, idxs = randBootstrap(posterior_samples_PF, log_probability_PF)\n",
    "    # will need to edit this portion\n",
    "    y_sims = genSimulation(DataX_test, boots_params, lstm_out_list,\n",
    "                           add_noise=True,f_noise=1e-2,lstm_idx=lstm_idx, y_len=y_len)\n",
    "\n",
    "    y_hat_full_PF = convertNumpy(y_hat_full_PF[0,:], toTorch=False)\n",
    "    \n",
    "    # calculate NSEs\n",
    "    NSE_arr = np.empty(y_sims.shape[0])\n",
    "    for k in range(y_sims.shape[0]):\n",
    "        y_o = y_sims[k,:]\n",
    "        y_o = convertNumpy(y_o, toTorch=False)\n",
    "        NSE_arr[k] = compute_stats(y_o, y_hat_full_PF)[1]\n",
    "        del y_o\n",
    "\n",
    "    NSE_ave = NSE_arr.mean()\n",
    "    NSE_std = NSE_arr.std()\n",
    "    \n",
    "    # ------------- Put together\n",
    "    E2_2a_arr[:,idx] = [dist_temp, det_sample, log_prob_out, NSE_ave, NSE_std]\n",
    "\n",
    "    del true_theta, y_hat_full_PF, y_hat_PF, posterior_samples_PF, log_probability_PF, mean_param, median_param\n",
    "    del euc_dist, log_prob_true_thetas_ind, log_prob_true_thetas_all, log_prob_true_thetas_flag\n",
    "    del log_prob_out, cov_sample, det_sample, boots_params, boots_logprob, idxs, y_sims\n",
    "    del NSE_arr, NSE_ave, NSE_std, dist_temp, cov_inv_temp\n",
    "    "
   ]
  },
  {
   "cell_type": "markdown",
   "metadata": {},
   "source": [
    "# -------------------------------------"
   ]
  },
  {
   "cell_type": "markdown",
   "metadata": {},
   "source": [
    "### *Dimension 2b* - Using machine-learned summaries (compressions) of full time series\n",
    "### Loading SBI Posteriors"
   ]
  },
  {
   "cell_type": "code",
   "execution_count": 27,
   "metadata": {},
   "outputs": [
    {
     "name": "stdout",
     "output_type": "stream",
     "text": [
      "0819_01_mod2_02_05_lstm_A_0209_01_embed_MLP_3_surrogate\n",
      "warning: file exists\n",
      "/home/qh8373/SBI_TAYLOR/data/06_interp_out/experiments/0819_01_mod2_02_05_lstm_A_0209_01_embed_MLP_3_surrogate/\n"
     ]
    }
   ],
   "source": [
    "# Directories\n",
    "sbi_run  = '0819_01_mod2_02_05_lstm_A_0209_01_embed_MLP_3_surrogate'\n",
    "print(sbi_run)\n",
    "sbi_dir = f'/home/qh8373/SBI_TAYLOR/data/05_sbi_out/{sbi_run}/'\n",
    "save_dir = f'/home/qh8373/SBI_TAYLOR/data/06_interp_out/experiments/{sbi_run}/'\n",
    "\n",
    "try:\n",
    "    os.mkdir(f'{save_dir}')\n",
    "except:\n",
    "    print('warning: file exists')\n",
    "    pass\n",
    "\n",
    "print(save_dir)\n",
    "\n",
    "lstm_name = '02_05_lstm_A'\n",
    "lstm_path = f'/home/qh8373/SBI_TAYLOR/data/04_lstm_out/{lstm_name}/'\n",
    "\n",
    "# load lstm info\n",
    "with open(lstm_path+'list_df_cond.pkl', 'rb') as fp:\n",
    "    list_df_cond = pickle.load(fp)"
   ]
  },
  {
   "cell_type": "markdown",
   "metadata": {},
   "source": [
    "### a. Interpretive plots for each synthetic observations, parameters only"
   ]
  },
  {
   "cell_type": "markdown",
   "metadata": {},
   "source": [
    "#### Selection Criteria and Load Posterior"
   ]
  },
  {
   "cell_type": "code",
   "execution_count": 28,
   "metadata": {},
   "outputs": [],
   "source": [
    "# Selection Criteria\n",
    "sub = 0 # Posterior Sub (Lsim=0 to 10)\n",
    "idx = 1 #PF:LSTM, 0=82, 1=83, .... #Observation\n",
    "lstm_idx = 0 #LSTM number in ensemble, nb: should be the same idx as that used in inference = 0\n",
    "n_samples = 5000 \n",
    "sbi_dir_sub = f'{sbi_dir}{sub}/'\n",
    "\n",
    "stat_method = 'embed'\n",
    "stat_typ = None\n",
    "embed_type = 'MLP'\n",
    "out_dim = 3\n",
    "\n",
    "# load posterior\n",
    "with open(sbi_dir_sub+'posterior.pkl', 'rb') as fp:\n",
    "    posterior = pickle.load(fp)"
   ]
  },
  {
   "cell_type": "markdown",
   "metadata": {},
   "source": [
    "#### General loading for posterior sampling"
   ]
  },
  {
   "cell_type": "code",
   "execution_count": 29,
   "metadata": {},
   "outputs": [],
   "source": [
    "'''\n",
    "ParFlow truth loads\n",
    "lstm_df_cond should be loaded\n",
    "to test ParFlow truths on models trained with LSTMs and previous tested with LSTM synthetic truths\n",
    "'''\n",
    "DataX_test, DataY_test, series_len, lstm_out_list = parseListDf(list_df_cond)\n",
    "test_params, num_params, num_unique, DataX_test = parseUniqueParams(DataX_test, series_len)\n",
    "\n",
    "\n",
    "'''\n",
    "sample observation (y_hat) and 'correct' parameter (true_theta)\n",
    "    y_hat_full is the full timeseries (important for embed and summary stat method)\n",
    "'''\n",
    "true_theta = test_params[idx]"
   ]
  },
  {
   "cell_type": "markdown",
   "metadata": {},
   "source": [
    "#### Sample Posterior (Emulated)"
   ]
  },
  {
   "cell_type": "code",
   "execution_count": 30,
   "metadata": {},
   "outputs": [
    {
     "data": {
      "application/vnd.jupyter.widget-view+json": {
       "model_id": "47432ff7073b4a2d9d7603de38cc8738",
       "version_major": 2,
       "version_minor": 0
      },
      "text/plain": [
       "HBox(children=(FloatProgress(value=0.0, description='Drawing 5000 posterior samples', max=5000.0, style=Progre…"
      ]
     },
     "metadata": {},
     "output_type": "display_data"
    },
    {
     "name": "stdout",
     "output_type": "stream",
     "text": [
      "\n",
      "the theta value is tensor([0.5995, 0.8495]) \n",
      "\n",
      "Emulated\n"
     ]
    },
    {
     "name": "stderr",
     "output_type": "stream",
     "text": [
      "<ipython-input-30-fc0f29b1d899>:21: UserWarning: To copy construct from a tensor, it is recommended to use sourceTensor.clone().detach() or sourceTensor.clone().detach().requires_grad_(True), rather than torch.tensor(sourceTensor).\n",
      "  points=torch.tensor(true_theta),\n"
     ]
    },
    {
     "data": {
      "image/png": "[encoded data removed]",
      "text/plain": [
       "<Figure size 432x432 with 4 Axes>"
      ]
     },
     "metadata": {
      "needs_background": "light"
     },
     "output_type": "display_data"
    }
   ],
   "source": [
    "# emulated streamflow\n",
    "y_hat_full = reshape_y(simulate(DataX=DataX_test, theta=true_theta, lstm=lstm_out_list[lstm_idx]))\n",
    "y_hat = createYHat(y_hat_full, stat_method=stat_method, stat_typ=stat_typ, embed_type=embed_type)\n",
    "\n",
    "'''\n",
    "sample posterior and create log probability\n",
    "'''\n",
    "# emulated\n",
    "# - given observation(s), sample posterior, evaluate probability, and plot\n",
    "posterior_samples = posterior.sample((n_samples,), x=y_hat) # type - tensor object\n",
    "# posterior_samples_simulations = bulk_simulate(posterior_samples, num_days, n_samples, ensemble_path, model_path)\n",
    "log_probability = posterior.log_prob(posterior_samples, x=y_hat).unsqueeze(1) # type - tensor object\n",
    "\n",
    "'''\n",
    "Pairplot\n",
    "'''\n",
    "print('the theta value is', true_theta, '\\n')\n",
    "\n",
    "print('Emulated')\n",
    "fig, ax = analysis.pairplot(posterior_samples, \n",
    "                               points=torch.tensor(true_theta),\n",
    "                               limits=[[0, 1],[0, 1]], \n",
    "                               figsize=(6,6)) # \n",
    "fig.savefig(f'{save_dir}pair_plot_lstmidx_{lstm_idx}_sub_{sub}_runidx_{idx}_emulated.png')\n",
    "fig.savefig(f'{save_dir}pair_plot_lstmidx_{lstm_idx}_sub_{sub}_runidx_{idx}_emulated.eps', format='eps')\n",
    "\n",
    "plt.show()"
   ]
  },
  {
   "cell_type": "markdown",
   "metadata": {},
   "source": [
    "#### Sample Posterior (ParFlow)\n",
    "* nb: to check for bias"
   ]
  },
  {
   "cell_type": "code",
   "execution_count": 31,
   "metadata": {},
   "outputs": [
    {
     "name": "stderr",
     "output_type": "stream",
     "text": [
      "/home/qh8373/SBI_TAYLOR/sbi_taylor/scripts/05_utils/sbiutils.py:110: UserWarning: To copy construct from a tensor, it is recommended to use sourceTensor.clone().detach() or sourceTensor.clone().detach().requires_grad_(True), rather than torch.tensor(sourceTensor).\n",
      "  return torch.tensor(y_out)\n"
     ]
    },
    {
     "data": {
      "application/vnd.jupyter.widget-view+json": {
       "model_id": "a7e69d4711ef43a894bd7a0b9aab36ea",
       "version_major": 2,
       "version_minor": 0
      },
      "text/plain": [
       "HBox(children=(FloatProgress(value=0.0, description='Drawing 5000 posterior samples', max=5000.0, style=Progre…"
      ]
     },
     "metadata": {},
     "output_type": "display_data"
    },
    {
     "name": "stderr",
     "output_type": "stream",
     "text": [
      "<ipython-input-31-e3e1d5de5aa7>:26: UserWarning: To copy construct from a tensor, it is recommended to use sourceTensor.clone().detach() or sourceTensor.clone().detach().requires_grad_(True), rather than torch.tensor(sourceTensor).\n",
      "  points=torch.tensor(true_theta),\n"
     ]
    },
    {
     "name": "stdout",
     "output_type": "stream",
     "text": [
      "\n",
      "the theta value is tensor([0.5995, 0.8495]) \n",
      "\n",
      "PARFLOW\n"
     ]
    },
    {
     "data": {
      "image/png": "[encoded data removed]",
      "text/plain": [
       "<Figure size 432x432 with 4 Axes>"
      ]
     },
     "metadata": {
      "needs_background": "light"
     },
     "output_type": "display_data"
    }
   ],
   "source": [
    "# PF\n",
    "unique_series_PF = createYHatList(DataY_test, series_len, num_unique,\n",
    "                stat_method=stat_method, stat_typ=stat_typ, embed_type=embed_type)\n",
    "unique_series_full_PF = createYHatList(DataY_test, series_len, num_unique,\n",
    "                    stat_method='full', stat_typ=None, embed_type=None)\n",
    "y_hat_PF = unique_series_PF[idx]\n",
    "y_hat_full_PF = unique_series_full_PF[idx]\n",
    "\n",
    "'''\n",
    "sample posterior and create log probability\n",
    "'''\n",
    "# PF\n",
    "# - given observation(s), sample posterior, evaluate probability, and plot\n",
    "posterior_samples_PF = posterior.sample((n_samples,), x=y_hat_PF) # type - tensor object\n",
    "# posterior_samples_simulations = bulk_simulate(posterior_samples, num_days, n_samples, ensemble_path, model_path)\n",
    "log_probability_PF = posterior.log_prob(posterior_samples_PF, x=y_hat_PF).unsqueeze(1) # type - tensor object\n",
    "\n",
    "\n",
    "'''\n",
    "Pairplot\n",
    "'''\n",
    "print('the theta value is', true_theta, '\\n')\n",
    "\n",
    "print('PARFLOW')\n",
    "fig, ax = analysis.pairplot(posterior_samples_PF, \n",
    "                               points=torch.tensor(true_theta),\n",
    "                               limits=[[0, 1],[0, 1]], \n",
    "                               figsize=(6,6)) # \n",
    "fig.savefig(f'{save_dir}pair_plot_lstmidx_{lstm_idx}_sub_{sub}_runidx_{idx}_PF.png')\n",
    "fig.savefig(f'{save_dir}pair_plot_lstmidx_{lstm_idx}_sub_{sub}_runidx_{idx}_PF.eps', format='eps')\n",
    "\n",
    "plt.show()\n",
    "\n"
   ]
  },
  {
   "cell_type": "markdown",
   "metadata": {},
   "source": [
    "### b. Interpretive plots for each synthetic observations, streamflow timeseries only"
   ]
  },
  {
   "cell_type": "markdown",
   "metadata": {},
   "source": [
    "#### Bootstrap + Get Truth (Emulated)"
   ]
  },
  {
   "cell_type": "code",
   "execution_count": 32,
   "metadata": {},
   "outputs": [],
   "source": [
    "'''\n",
    "bootstrap\n",
    "'''\n",
    "# emulated\n",
    "boots_params, boots_logprob, idxs = randBootstrap(posterior_samples, log_probability)\n",
    "\n",
    "'''\n",
    "get 'truth'\n",
    "'''\n",
    "# emulated\n",
    "y_hat_plot = y_hat_full.T.detach().numpy()\n",
    "y_len = len(y_hat_plot)"
   ]
  },
  {
   "cell_type": "markdown",
   "metadata": {},
   "source": [
    "#### Run Forward Simulations (emulators)"
   ]
  },
  {
   "cell_type": "code",
   "execution_count": 33,
   "metadata": {},
   "outputs": [
    {
     "name": "stdout",
     "output_type": "stream",
     "text": [
      "Caution, multiple emulators available\n"
     ]
    }
   ],
   "source": [
    "# generate forward simulations\n",
    "if len(lstm_out_list) > 1:\n",
    "    print('Caution, multiple emulators available')\n",
    "\n",
    "y_sims = genSimulation(DataX_test, boots_params, lstm_out_list,\n",
    "                       add_noise=True,f_noise=1e-2,lstm_idx=lstm_idx, y_len=y_len)\n"
   ]
  },
  {
   "cell_type": "markdown",
   "metadata": {},
   "source": [
    "#### Plot time series (emulators)"
   ]
  },
  {
   "cell_type": "code",
   "execution_count": 34,
   "metadata": {},
   "outputs": [
    {
     "name": "stderr",
     "output_type": "stream",
     "text": [
      "The PostScript backend does not support transparency; partially transparent artists will be rendered opaque.\n",
      "The PostScript backend does not support transparency; partially transparent artists will be rendered opaque.\n",
      "The PostScript backend does not support transparency; partially transparent artists will be rendered opaque.\n",
      "The PostScript backend does not support transparency; partially transparent artists will be rendered opaque.\n",
      "The PostScript backend does not support transparency; partially transparent artists will be rendered opaque.\n"
     ]
    },
    {
     "name": "stdout",
     "output_type": "stream",
     "text": [
      "emulated\n"
     ]
    },
    {
     "data": {
      "image/png": "[encoded data removed]",
      "text/plain": [
       "<Figure size 720x360 with 1 Axes>"
      ]
     },
     "metadata": {
      "needs_background": "light"
     },
     "output_type": "display_data"
    }
   ],
   "source": [
    "x = np.linspace(0,len(y_hat_plot)-1, len(y_hat_plot))\n",
    "\n",
    "# emulated\n",
    "print('emulated')\n",
    "fig, ax = plt.subplots(figsize=(10, 5))\n",
    "sub_sub = \"{:02d}\".format(idx)\n",
    "\n",
    "# ax.plot(y_sims.T, color='blue', alpha=0.25, zorder=0)# , label='y_sims')\n",
    "ax.plot(y_sims.T.min(axis=1), color='blue', linewidth=1, zorder=0, label='min')\n",
    "ax.plot(y_sims.T.max(axis=1), color='blue', linewidth=1, zorder=0, label='max')\n",
    "ax.plot(np.mean(y_sims.T,axis=1), color='red', linewidth=1, label='mean', zorder=2)\n",
    "ax.plot(y_hat_plot, color='green', linewidth=2, label='y_hat', zorder=1)\n",
    "ax.fill_between(x, y_sims.T.min(axis=1), y_sims.T.max(axis=1), color='blue', zorder=0, alpha=0.5)\n",
    "\n",
    "ax.set_ylim(0,1)\n",
    "ax.legend()\n",
    "fig.savefig(f'{save_dir}streamflow_series_{sub}_runidx_{idx}_emulated.png')\n",
    "fig.savefig(f'{save_dir}streamflow_series_{sub}_runidx_{idx}_emulated.eps', format='eps')\n",
    "plt.show()\n"
   ]
  },
  {
   "cell_type": "markdown",
   "metadata": {},
   "source": [
    "#### Bootstrap + Get Truth (ParFlow)"
   ]
  },
  {
   "cell_type": "code",
   "execution_count": 35,
   "metadata": {},
   "outputs": [],
   "source": [
    "'''\n",
    "bootstrap\n",
    "'''\n",
    "# PARFLOW\n",
    "boots_params_PF, boots_logprob_PF, idxs_PF = randBootstrap(posterior_samples_PF, log_probability_PF)\n",
    "\n",
    "'''\n",
    "get 'truth'\n",
    "'''\n",
    "# PARFLOW\n",
    "y_hat_plot_PF = y_hat_full_PF.T.detach().numpy()\n",
    "y_len = len(y_hat_plot_PF)\n"
   ]
  },
  {
   "cell_type": "markdown",
   "metadata": {},
   "source": [
    "#### Run Forward Simulations (ParFlow)"
   ]
  },
  {
   "cell_type": "code",
   "execution_count": 36,
   "metadata": {},
   "outputs": [
    {
     "name": "stdout",
     "output_type": "stream",
     "text": [
      "Caution, multiple emulators available\n"
     ]
    }
   ],
   "source": [
    "# generate forward simulations\n",
    "if len(lstm_out_list) > 1:\n",
    "    print('Caution, multiple emulators available')\n",
    "\n",
    "y_sims_PF = genSimulation(DataX_test, boots_params_PF, lstm_out_list,\n",
    "                          add_noise=True,f_noise=1e-02, lstm_idx=lstm_idx, y_len=y_len)\n",
    "\n"
   ]
  },
  {
   "cell_type": "markdown",
   "metadata": {},
   "source": [
    "#### Plot time series (ParFlow)"
   ]
  },
  {
   "cell_type": "code",
   "execution_count": 37,
   "metadata": {
    "scrolled": false
   },
   "outputs": [
    {
     "name": "stderr",
     "output_type": "stream",
     "text": [
      "The PostScript backend does not support transparency; partially transparent artists will be rendered opaque.\n",
      "The PostScript backend does not support transparency; partially transparent artists will be rendered opaque.\n",
      "The PostScript backend does not support transparency; partially transparent artists will be rendered opaque.\n",
      "The PostScript backend does not support transparency; partially transparent artists will be rendered opaque.\n",
      "The PostScript backend does not support transparency; partially transparent artists will be rendered opaque.\n"
     ]
    },
    {
     "name": "stdout",
     "output_type": "stream",
     "text": [
      "Parflow\n"
     ]
    },
    {
     "data": {
      "image/png": "[encoded data removed]",
      "text/plain": [
       "<Figure size 720x360 with 1 Axes>"
      ]
     },
     "metadata": {
      "needs_background": "light"
     },
     "output_type": "display_data"
    }
   ],
   "source": [
    "# PARFLOW\n",
    "print('Parflow')\n",
    "fig, ax = plt.subplots(figsize=(10, 5))\n",
    "sub_sub = \"{:02d}\".format(idx)\n",
    "\n",
    "# ax.plot(y_sims_PF.T, color='blue', alpha=0.25, zorder=0)# , label='y_sims')\n",
    "ax.plot(y_sims_PF.T.min(axis=1), color='blue', linewidth=1, zorder=0, label='min')\n",
    "ax.plot(y_sims_PF.T.max(axis=1), color='blue', linewidth=1, zorder=0, label='max')\n",
    "ax.plot(np.mean(y_sims_PF.T,axis=1), color='red', linewidth=1, label='mean', zorder=2)\n",
    "ax.plot(y_hat_plot_PF, color='green', linewidth=2, label='y_hat', zorder=1)\n",
    "ax.fill_between(x, y_sims_PF.T.min(axis=1), y_sims_PF.T.max(axis=1), color='blue', zorder=0, alpha=0.5)\n",
    "\n",
    "ax.set_ylim(0,1)\n",
    "ax.legend()\n",
    "fig.savefig(f'{save_dir}streamflow_series_{sub}_runidx_{idx}_PF.png')\n",
    "fig.savefig(f'{save_dir}streamflow_series_{sub}_runidx_{idx}_PF.eps', format='eps')\n",
    "plt.show()"
   ]
  },
  {
   "cell_type": "markdown",
   "metadata": {},
   "source": [
    "#### Experiment 2_2b Bulk (ParFlow Truth using ML Summary)"
   ]
  },
  {
   "cell_type": "code",
   "execution_count": 38,
   "metadata": {},
   "outputs": [
    {
     "name": "stderr",
     "output_type": "stream",
     "text": [
      "/home/qh8373/SBI_TAYLOR/sbi_taylor/scripts/05_utils/sbiutils.py:110: UserWarning: To copy construct from a tensor, it is recommended to use sourceTensor.clone().detach() or sourceTensor.clone().detach().requires_grad_(True), rather than torch.tensor(sourceTensor).\n",
      "  return torch.tensor(y_out)\n"
     ]
    },
    {
     "data": {
      "application/vnd.jupyter.widget-view+json": {
       "model_id": "c8ed3caf06a84ba9903b7fcd178eaff5",
       "version_major": 2,
       "version_minor": 0
      },
      "text/plain": [
       "HBox(children=(FloatProgress(value=0.0, description='Drawing 5000 posterior samples', max=5000.0, style=Progre…"
      ]
     },
     "metadata": {},
     "output_type": "display_data"
    },
    {
     "name": "stdout",
     "output_type": "stream",
     "text": [
      "\n"
     ]
    },
    {
     "data": {
      "application/vnd.jupyter.widget-view+json": {
       "model_id": "56f6cb5a8a774239abde73692765cfe7",
       "version_major": 2,
       "version_minor": 0
      },
      "text/plain": [
       "HBox(children=(FloatProgress(value=0.0, description='Drawing 5000 posterior samples', max=5000.0, style=Progre…"
      ]
     },
     "metadata": {},
     "output_type": "display_data"
    },
    {
     "name": "stdout",
     "output_type": "stream",
     "text": [
      "\n"
     ]
    },
    {
     "name": "stderr",
     "output_type": "stream",
     "text": [
      "/home/qh8373/SBI_TAYLOR/sbi_taylor/scripts/05_utils/posteriorsamputils.py:97: RuntimeWarning: Mean of empty slice.\n",
      "  log_prob_true_thetas_ind[i] = np.take(log_probability, theta_idx)[0].mean()\n",
      "/home/SHARED/software/anaconda3/2020.07e/lib/python3.8/site-packages/numpy/core/_methods.py:188: RuntimeWarning: invalid value encountered in true_divide\n",
      "  ret = ret.dtype.type(ret / rcount)\n"
     ]
    },
    {
     "data": {
      "application/vnd.jupyter.widget-view+json": {
       "model_id": "b9664751e49544e5b553cc7e259ed128",
       "version_major": 2,
       "version_minor": 0
      },
      "text/plain": [
       "HBox(children=(FloatProgress(value=0.0, description='Drawing 5000 posterior samples', max=5000.0, style=Progre…"
      ]
     },
     "metadata": {},
     "output_type": "display_data"
    },
    {
     "name": "stdout",
     "output_type": "stream",
     "text": [
      "\n"
     ]
    },
    {
     "data": {
      "application/vnd.jupyter.widget-view+json": {
       "model_id": "4e8c9848047744d898720e048205ac73",
       "version_major": 2,
       "version_minor": 0
      },
      "text/plain": [
       "HBox(children=(FloatProgress(value=0.0, description='Drawing 5000 posterior samples', max=5000.0, style=Progre…"
      ]
     },
     "metadata": {},
     "output_type": "display_data"
    },
    {
     "name": "stdout",
     "output_type": "stream",
     "text": [
      "\n"
     ]
    },
    {
     "data": {
      "application/vnd.jupyter.widget-view+json": {
       "model_id": "8773b66911e9446fa75bccf5750d9d18",
       "version_major": 2,
       "version_minor": 0
      },
      "text/plain": [
       "HBox(children=(FloatProgress(value=0.0, description='Drawing 5000 posterior samples', max=5000.0, style=Progre…"
      ]
     },
     "metadata": {},
     "output_type": "display_data"
    },
    {
     "name": "stdout",
     "output_type": "stream",
     "text": [
      "\n"
     ]
    },
    {
     "data": {
      "application/vnd.jupyter.widget-view+json": {
       "model_id": "73088d2ea93a44de8d8f1846c105dee1",
       "version_major": 2,
       "version_minor": 0
      },
      "text/plain": [
       "HBox(children=(FloatProgress(value=0.0, description='Drawing 5000 posterior samples', max=5000.0, style=Progre…"
      ]
     },
     "metadata": {},
     "output_type": "display_data"
    },
    {
     "name": "stdout",
     "output_type": "stream",
     "text": [
      "\n"
     ]
    },
    {
     "data": {
      "application/vnd.jupyter.widget-view+json": {
       "model_id": "ab14792abe364961be3f6325ef49f735",
       "version_major": 2,
       "version_minor": 0
      },
      "text/plain": [
       "HBox(children=(FloatProgress(value=0.0, description='Drawing 5000 posterior samples', max=5000.0, style=Progre…"
      ]
     },
     "metadata": {},
     "output_type": "display_data"
    },
    {
     "name": "stdout",
     "output_type": "stream",
     "text": [
      "\n"
     ]
    },
    {
     "data": {
      "application/vnd.jupyter.widget-view+json": {
       "model_id": "73613844e7074b65a45b87c245e6f6fe",
       "version_major": 2,
       "version_minor": 0
      },
      "text/plain": [
       "HBox(children=(FloatProgress(value=0.0, description='Drawing 5000 posterior samples', max=5000.0, style=Progre…"
      ]
     },
     "metadata": {},
     "output_type": "display_data"
    },
    {
     "name": "stdout",
     "output_type": "stream",
     "text": [
      "\n"
     ]
    },
    {
     "data": {
      "application/vnd.jupyter.widget-view+json": {
       "model_id": "dbaea3b9b72f498ba66d6d9afb731fd6",
       "version_major": 2,
       "version_minor": 0
      },
      "text/plain": [
       "HBox(children=(FloatProgress(value=0.0, description='Drawing 5000 posterior samples', max=5000.0, style=Progre…"
      ]
     },
     "metadata": {},
     "output_type": "display_data"
    },
    {
     "name": "stdout",
     "output_type": "stream",
     "text": [
      "\n"
     ]
    },
    {
     "data": {
      "application/vnd.jupyter.widget-view+json": {
       "model_id": "671d83b431844e34ab096582f6c8c48a",
       "version_major": 2,
       "version_minor": 0
      },
      "text/plain": [
       "HBox(children=(FloatProgress(value=0.0, description='Drawing 5000 posterior samples', max=5000.0, style=Progre…"
      ]
     },
     "metadata": {},
     "output_type": "display_data"
    },
    {
     "name": "stdout",
     "output_type": "stream",
     "text": [
      "\n"
     ]
    },
    {
     "data": {
      "application/vnd.jupyter.widget-view+json": {
       "model_id": "97704d9133784da1905ed59694156980",
       "version_major": 2,
       "version_minor": 0
      },
      "text/plain": [
       "HBox(children=(FloatProgress(value=0.0, description='Drawing 5000 posterior samples', max=5000.0, style=Progre…"
      ]
     },
     "metadata": {},
     "output_type": "display_data"
    },
    {
     "name": "stdout",
     "output_type": "stream",
     "text": [
      "\n"
     ]
    },
    {
     "data": {
      "application/vnd.jupyter.widget-view+json": {
       "model_id": "10e9df2c56f84bad8b9f88d3e72f73ec",
       "version_major": 2,
       "version_minor": 0
      },
      "text/plain": [
       "HBox(children=(FloatProgress(value=0.0, description='Drawing 5000 posterior samples', max=5000.0, style=Progre…"
      ]
     },
     "metadata": {},
     "output_type": "display_data"
    },
    {
     "name": "stdout",
     "output_type": "stream",
     "text": [
      "\n"
     ]
    },
    {
     "data": {
      "application/vnd.jupyter.widget-view+json": {
       "model_id": "44ad2fc93f684ab58c18b79276222b27",
       "version_major": 2,
       "version_minor": 0
      },
      "text/plain": [
       "HBox(children=(FloatProgress(value=0.0, description='Drawing 5000 posterior samples', max=5000.0, style=Progre…"
      ]
     },
     "metadata": {},
     "output_type": "display_data"
    },
    {
     "name": "stdout",
     "output_type": "stream",
     "text": [
      "\n"
     ]
    },
    {
     "data": {
      "application/vnd.jupyter.widget-view+json": {
       "model_id": "fcc8c7aa555941efbdf66335ccaab310",
       "version_major": 2,
       "version_minor": 0
      },
      "text/plain": [
       "HBox(children=(FloatProgress(value=0.0, description='Drawing 5000 posterior samples', max=5000.0, style=Progre…"
      ]
     },
     "metadata": {},
     "output_type": "display_data"
    },
    {
     "name": "stdout",
     "output_type": "stream",
     "text": [
      "\n"
     ]
    },
    {
     "data": {
      "application/vnd.jupyter.widget-view+json": {
       "model_id": "216973cedc5d4be0aaf085bcc770373d",
       "version_major": 2,
       "version_minor": 0
      },
      "text/plain": [
       "HBox(children=(FloatProgress(value=0.0, description='Drawing 5000 posterior samples', max=5000.0, style=Progre…"
      ]
     },
     "metadata": {},
     "output_type": "display_data"
    },
    {
     "name": "stdout",
     "output_type": "stream",
     "text": [
      "\n"
     ]
    },
    {
     "data": {
      "application/vnd.jupyter.widget-view+json": {
       "model_id": "2da0ec6ea7f8477a9ab15cd90635d34a",
       "version_major": 2,
       "version_minor": 0
      },
      "text/plain": [
       "HBox(children=(FloatProgress(value=0.0, description='Drawing 5000 posterior samples', max=5000.0, style=Progre…"
      ]
     },
     "metadata": {},
     "output_type": "display_data"
    },
    {
     "name": "stdout",
     "output_type": "stream",
     "text": [
      "\n"
     ]
    },
    {
     "data": {
      "application/vnd.jupyter.widget-view+json": {
       "model_id": "66d318b7350e42c88e37d3af4b63e0c3",
       "version_major": 2,
       "version_minor": 0
      },
      "text/plain": [
       "HBox(children=(FloatProgress(value=0.0, description='Drawing 5000 posterior samples', max=5000.0, style=Progre…"
      ]
     },
     "metadata": {},
     "output_type": "display_data"
    },
    {
     "name": "stdout",
     "output_type": "stream",
     "text": [
      "\n"
     ]
    },
    {
     "data": {
      "application/vnd.jupyter.widget-view+json": {
       "model_id": "5fe754d7cc24488f9c5d505ec0cfd2b3",
       "version_major": 2,
       "version_minor": 0
      },
      "text/plain": [
       "HBox(children=(FloatProgress(value=0.0, description='Drawing 5000 posterior samples', max=5000.0, style=Progre…"
      ]
     },
     "metadata": {},
     "output_type": "display_data"
    },
    {
     "name": "stdout",
     "output_type": "stream",
     "text": [
      "\n"
     ]
    }
   ],
   "source": [
    "# create time series\n",
    "unique_series_PF = createYHatList(DataY_test, series_len, num_unique,\n",
    "                stat_method=stat_method, stat_typ=stat_typ, embed_type=embed_type)\n",
    "unique_series_full_PF = createYHatList(DataY_test, series_len, num_unique,\n",
    "                    stat_method='full', stat_typ=None, embed_type=None)\n",
    "\n",
    "# storage\n",
    "E2_2b_arr = np.empty((5, 18))\n",
    "\n",
    "# loop through all 18\n",
    "for idx in range(18):\n",
    "    # ------------- Set Up\n",
    "    # set true theta\n",
    "    true_theta = test_params[idx]\n",
    "    \n",
    "    # set series\n",
    "    y_hat_PF = unique_series_PF[idx]\n",
    "    y_hat_full_PF = unique_series_full_PF[idx]\n",
    "    \n",
    "    # ------------- Parameter Space\n",
    "    # sample posterior and create log probability\n",
    "    # - given observation(s), sample posterior, evaluate probability, and plot\n",
    "    posterior_samples_PF = posterior.sample((n_samples,), x=y_hat_PF) # type - tensor object\n",
    "    # posterior_samples_simulations = bulk_simulate(posterior_samples, num_days, n_samples, ensemble_path, model_path)\n",
    "    log_probability_PF = posterior.log_prob(posterior_samples_PF, x=y_hat_PF).unsqueeze(1) # type - tensor object\n",
    "\n",
    "    \n",
    "    # calculate determinent, average euclidean distance, and average log prob\n",
    "    mean_param = posterior_samples_PF.mean(axis=0)\n",
    "    median_param = np.quantile(posterior_samples_PF, q=0.5, axis=0)\n",
    "    # euclidean distance\n",
    "    euc_dist = norm(true_theta-mean_param)\n",
    "    \n",
    "    # probability stuff\n",
    "    log_prob_true_thetas_ind, log_prob_true_thetas_all, log_prob_true_thetas_flag = genProbThetas(true_theta,\n",
    "                                        posterior_samples_PF, log_probability_PF, theta_prec=4, mult_factor=10)\n",
    "    log_prob_out = log_prob_true_thetas_ind.mean()\n",
    "    \n",
    "    # covariance of the distribution\n",
    "    cov_sample = cov(posterior_samples_PF.T)\n",
    "    # determinant of the distribution\n",
    "    det_sample = det(cov_sample)\n",
    "    \n",
    "    cov_inv_temp = np.linalg.inv(cov_sample)\n",
    "    dist_temp = distance.mahalanobis(true_theta,mean_param,cov_inv_temp)\n",
    "    \n",
    "    # ------------- Streamflow Space\n",
    "    boots_params, boots_logprob, idxs = randBootstrap(posterior_samples_PF, log_probability_PF)\n",
    "    # will need to edit this portion\n",
    "    y_sims = genSimulation(DataX_test, boots_params, lstm_out_list,\n",
    "                           add_noise=True,f_noise=1e-2,lstm_idx=lstm_idx, y_len=y_len)\n",
    "\n",
    "    y_hat_full_PF = convertNumpy(y_hat_full_PF[0,:], toTorch=False)\n",
    "    \n",
    "    # calculate NSEs\n",
    "    NSE_arr = np.empty(y_sims.shape[0])\n",
    "    for k in range(y_sims.shape[0]):\n",
    "        y_o = y_sims[k,:]\n",
    "        y_o = convertNumpy(y_o, toTorch=False)\n",
    "        NSE_arr[k] = compute_stats(y_o, y_hat_full_PF)[1]\n",
    "        del y_o\n",
    "\n",
    "    NSE_ave = NSE_arr.mean()\n",
    "    NSE_std = NSE_arr.std()\n",
    "    \n",
    "    # ------------- Put together\n",
    "    E2_2b_arr[:,idx] = [dist_temp, det_sample, log_prob_out, NSE_ave, NSE_std]\n",
    "\n",
    "    del true_theta, y_hat_full_PF, y_hat_PF, posterior_samples_PF, log_probability_PF, mean_param, median_param\n",
    "    del euc_dist, log_prob_true_thetas_ind, log_prob_true_thetas_all, log_prob_true_thetas_flag\n",
    "    del log_prob_out, cov_sample, det_sample, boots_params, boots_logprob, idxs, y_sims\n",
    "    del NSE_arr, NSE_ave, NSE_std, cov_inv_temp, dist_temp\n",
    "    "
   ]
  },
  {
   "cell_type": "markdown",
   "metadata": {},
   "source": [
    "# -------------------------------------"
   ]
  },
  {
   "cell_type": "markdown",
   "metadata": {},
   "source": [
    "### *Dimension 3a* - Ensemble of weakly-trained surrogates -  Increase the diversity of our system representations to combat bias."
   ]
  },
  {
   "cell_type": "markdown",
   "metadata": {},
   "source": [
    "# -------------------------------------\n",
    "# *TBD*"
   ]
  },
  {
   "cell_type": "markdown",
   "metadata": {},
   "source": [
    "### *Dimension 3b* - Ensemble of weakly-trained surrogates -  Increase the diversity of our system representations to combat bias.\n",
    "### Loading SBI Posteriors"
   ]
  },
  {
   "cell_type": "code",
   "execution_count": 39,
   "metadata": {},
   "outputs": [
    {
     "name": "stdout",
     "output_type": "stream",
     "text": [
      "0819_01_mod2_02_09_lstm_C_0210_01_full_surrogate\n",
      "warning: file exists\n",
      "/home/qh8373/SBI_TAYLOR/data/06_interp_out/experiments/0819_01_mod2_02_09_lstm_C_0210_01_full_surrogate/\n"
     ]
    }
   ],
   "source": [
    "# Directories\n",
    "sbi_run  = '0819_01_mod2_02_09_lstm_C_0210_01_full_surrogate'\n",
    "print(sbi_run)\n",
    "sbi_dir = f'/home/qh8373/SBI_TAYLOR/data/05_sbi_out/{sbi_run}/'\n",
    "save_dir = f'/home/qh8373/SBI_TAYLOR/data/06_interp_out/experiments/{sbi_run}/'\n",
    "\n",
    "try:\n",
    "    os.mkdir(f'{save_dir}')\n",
    "except:\n",
    "    print('warning: file exists')\n",
    "    pass\n",
    "\n",
    "print(save_dir)\n",
    "\n",
    "lstm_name = '02_09_lstm_C'\n",
    "lstm_path = f'/home/qh8373/SBI_TAYLOR/data/04_lstm_out/{lstm_name}/'\n",
    "\n",
    "# load lstm info\n",
    "with open(lstm_path+'list_df_cond.pkl', 'rb') as fp:\n",
    "    list_df_cond = pickle.load(fp)"
   ]
  },
  {
   "cell_type": "markdown",
   "metadata": {},
   "source": [
    "### a. Interpretive plots for each synthetic observations, parameters only"
   ]
  },
  {
   "cell_type": "markdown",
   "metadata": {},
   "source": [
    "#### Selection Criteria and Load Posterior"
   ]
  },
  {
   "cell_type": "code",
   "execution_count": 40,
   "metadata": {},
   "outputs": [],
   "source": [
    "# Selection Criteria\n",
    "sub = 0 # Posterior Sub (Lsim=0 to 10)\n",
    "idx = 1 #PF:LSTM, 0=82, 1=83, .... #Observation\n",
    "lstm_idx = 0 #LSTM number in ensemble, nb: should be the same idx as that used in inference = 0\n",
    "n_samples = 5000 \n",
    "sbi_dir_sub = f'{sbi_dir}{sub}/'\n",
    "\n",
    "stat_method = 'full'\n",
    "stat_typ = None\n",
    "embed_type = None\n",
    "out_dim = None\n",
    "\n",
    "add_noise = False\n",
    "f_noise = 1e-2\n",
    "rand_lstm = True\n",
    "\n",
    "# load posterior\n",
    "with open(sbi_dir_sub+'posterior.pkl', 'rb') as fp:\n",
    "    posterior = pickle.load(fp)"
   ]
  },
  {
   "cell_type": "markdown",
   "metadata": {},
   "source": [
    "#### General loading for posterior sampling"
   ]
  },
  {
   "cell_type": "code",
   "execution_count": 41,
   "metadata": {},
   "outputs": [],
   "source": [
    "'''\n",
    "ParFlow truth loads\n",
    "lstm_df_cond should be loaded\n",
    "to test ParFlow truths on models trained with LSTMs and previous tested with LSTM synthetic truths\n",
    "'''\n",
    "DataX_test, DataY_test, series_len, lstm_out_list = parseListDf(list_df_cond)\n",
    "test_params, num_params, num_unique, DataX_test = parseUniqueParams(DataX_test, series_len)\n",
    "\n",
    "\n",
    "'''\n",
    "sample observation (y_hat) and 'correct' parameter (true_theta)\n",
    "    y_hat_full is the full timeseries (important for embed and summary stat method)\n",
    "'''\n",
    "true_theta = test_params[idx]"
   ]
  },
  {
   "cell_type": "markdown",
   "metadata": {},
   "source": [
    "#### Sample Posterior (Emulated)"
   ]
  },
  {
   "cell_type": "code",
   "execution_count": 42,
   "metadata": {},
   "outputs": [
    {
     "data": {
      "application/vnd.jupyter.widget-view+json": {
       "model_id": "13ef3682510a4fcbb170223c65383782",
       "version_major": 2,
       "version_minor": 0
      },
      "text/plain": [
       "HBox(children=(FloatProgress(value=0.0, description='Drawing 5000 posterior samples', max=5000.0, style=Progre…"
      ]
     },
     "metadata": {},
     "output_type": "display_data"
    },
    {
     "name": "stdout",
     "output_type": "stream",
     "text": [
      "\n",
      "the theta value is tensor([0.5995, 0.8495]) \n",
      "\n",
      "Emulated\n"
     ]
    },
    {
     "name": "stderr",
     "output_type": "stream",
     "text": [
      "<ipython-input-42-fc0f29b1d899>:21: UserWarning: To copy construct from a tensor, it is recommended to use sourceTensor.clone().detach() or sourceTensor.clone().detach().requires_grad_(True), rather than torch.tensor(sourceTensor).\n",
      "  points=torch.tensor(true_theta),\n"
     ]
    },
    {
     "data": {
      "image/png": "[encoded data removed]",
      "text/plain": [
       "<Figure size 432x432 with 4 Axes>"
      ]
     },
     "metadata": {
      "needs_background": "light"
     },
     "output_type": "display_data"
    }
   ],
   "source": [
    "# emulated streamflow\n",
    "y_hat_full = reshape_y(simulate(DataX=DataX_test, theta=true_theta, lstm=lstm_out_list[lstm_idx]))\n",
    "y_hat = createYHat(y_hat_full, stat_method=stat_method, stat_typ=stat_typ, embed_type=embed_type)\n",
    "\n",
    "'''\n",
    "sample posterior and create log probability\n",
    "'''\n",
    "# emulated\n",
    "# - given observation(s), sample posterior, evaluate probability, and plot\n",
    "posterior_samples = posterior.sample((n_samples,), x=y_hat) # type - tensor object\n",
    "# posterior_samples_simulations = bulk_simulate(posterior_samples, num_days, n_samples, ensemble_path, model_path)\n",
    "log_probability = posterior.log_prob(posterior_samples, x=y_hat).unsqueeze(1) # type - tensor object\n",
    "\n",
    "'''\n",
    "Pairplot\n",
    "'''\n",
    "print('the theta value is', true_theta, '\\n')\n",
    "\n",
    "print('Emulated')\n",
    "fig, ax = analysis.pairplot(posterior_samples, \n",
    "                               points=torch.tensor(true_theta),\n",
    "                               limits=[[0, 1],[0, 1]], \n",
    "                               figsize=(6,6)) # \n",
    "fig.savefig(f'{save_dir}pair_plot_lstmidx_{lstm_idx}_sub_{sub}_runidx_{idx}_emulated.png')\n",
    "fig.savefig(f'{save_dir}pair_plot_lstmidx_{lstm_idx}_sub_{sub}_runidx_{idx}_emulated.eps', format='eps')\n",
    "\n",
    "plt.show()"
   ]
  },
  {
   "cell_type": "markdown",
   "metadata": {},
   "source": [
    "#### Sample Posterior (ParFlow)\n",
    "* nb: to check for bias"
   ]
  },
  {
   "cell_type": "code",
   "execution_count": 43,
   "metadata": {},
   "outputs": [
    {
     "name": "stderr",
     "output_type": "stream",
     "text": [
      "/home/qh8373/SBI_TAYLOR/sbi_taylor/scripts/05_utils/sbiutils.py:110: UserWarning: To copy construct from a tensor, it is recommended to use sourceTensor.clone().detach() or sourceTensor.clone().detach().requires_grad_(True), rather than torch.tensor(sourceTensor).\n",
      "  return torch.tensor(y_out)\n"
     ]
    },
    {
     "data": {
      "application/vnd.jupyter.widget-view+json": {
       "model_id": "8af80f929b0f4783bdf96bbdd36b7d51",
       "version_major": 2,
       "version_minor": 0
      },
      "text/plain": [
       "HBox(children=(FloatProgress(value=0.0, description='Drawing 5000 posterior samples', max=5000.0, style=Progre…"
      ]
     },
     "metadata": {},
     "output_type": "display_data"
    },
    {
     "name": "stderr",
     "output_type": "stream",
     "text": [
      "<ipython-input-43-e3e1d5de5aa7>:26: UserWarning: To copy construct from a tensor, it is recommended to use sourceTensor.clone().detach() or sourceTensor.clone().detach().requires_grad_(True), rather than torch.tensor(sourceTensor).\n",
      "  points=torch.tensor(true_theta),\n"
     ]
    },
    {
     "name": "stdout",
     "output_type": "stream",
     "text": [
      "\n",
      "the theta value is tensor([0.5995, 0.8495]) \n",
      "\n",
      "PARFLOW\n"
     ]
    },
    {
     "data": {
      "image/png": "[encoded data removed]",
      "text/plain": [
       "<Figure size 432x432 with 4 Axes>"
      ]
     },
     "metadata": {
      "needs_background": "light"
     },
     "output_type": "display_data"
    }
   ],
   "source": [
    "# PF\n",
    "unique_series_PF = createYHatList(DataY_test, series_len, num_unique,\n",
    "                stat_method=stat_method, stat_typ=stat_typ, embed_type=embed_type)\n",
    "unique_series_full_PF = createYHatList(DataY_test, series_len, num_unique,\n",
    "                    stat_method='full', stat_typ=None, embed_type=None)\n",
    "y_hat_PF = unique_series_PF[idx]\n",
    "y_hat_full_PF = unique_series_full_PF[idx]\n",
    "\n",
    "'''\n",
    "sample posterior and create log probability\n",
    "'''\n",
    "# PF\n",
    "# - given observation(s), sample posterior, evaluate probability, and plot\n",
    "posterior_samples_PF = posterior.sample((n_samples,), x=y_hat_PF) # type - tensor object\n",
    "# posterior_samples_simulations = bulk_simulate(posterior_samples, num_days, n_samples, ensemble_path, model_path)\n",
    "log_probability_PF = posterior.log_prob(posterior_samples_PF, x=y_hat_PF).unsqueeze(1) # type - tensor object\n",
    "\n",
    "\n",
    "'''\n",
    "Pairplot\n",
    "'''\n",
    "print('the theta value is', true_theta, '\\n')\n",
    "\n",
    "print('PARFLOW')\n",
    "fig, ax = analysis.pairplot(posterior_samples_PF, \n",
    "                               points=torch.tensor(true_theta),\n",
    "                               limits=[[0, 1],[0, 1]], \n",
    "                               figsize=(6,6)) # \n",
    "fig.savefig(f'{save_dir}pair_plot_lstmidx_{lstm_idx}_sub_{sub}_runidx_{idx}_PF.png')\n",
    "fig.savefig(f'{save_dir}pair_plot_lstmidx_{lstm_idx}_sub_{sub}_runidx_{idx}_PF.eps', format='eps')\n",
    "\n",
    "plt.show()\n",
    "\n"
   ]
  },
  {
   "cell_type": "markdown",
   "metadata": {},
   "source": [
    "### b. Interpretive plots for each synthetic observations, streamflow timeseries only"
   ]
  },
  {
   "cell_type": "markdown",
   "metadata": {},
   "source": [
    "#### Bootstrap + Get Truth (Emulated)"
   ]
  },
  {
   "cell_type": "code",
   "execution_count": 44,
   "metadata": {},
   "outputs": [],
   "source": [
    "'''\n",
    "bootstrap\n",
    "'''\n",
    "# emulated\n",
    "boots_params, boots_logprob, idxs = randBootstrap(posterior_samples, log_probability)\n",
    "\n",
    "'''\n",
    "get 'truth'\n",
    "'''\n",
    "# emulated\n",
    "y_hat_plot = y_hat_full.T.detach().numpy()\n",
    "y_len = len(y_hat_plot)"
   ]
  },
  {
   "cell_type": "markdown",
   "metadata": {},
   "source": [
    "#### Run Forward Simulations (emulators)"
   ]
  },
  {
   "cell_type": "code",
   "execution_count": 45,
   "metadata": {},
   "outputs": [
    {
     "name": "stdout",
     "output_type": "stream",
     "text": [
      "Caution, multiple emulators available\n",
      "10\n",
      "0.03954172879457474\n"
     ]
    }
   ],
   "source": [
    "# generate forward simulations\n",
    "if len(lstm_out_list) > 1:\n",
    "    print('Caution, multiple emulators available')\n",
    "\n",
    "y_sims = genSimulation(DataX_test, boots_params, lstm_out_list,\n",
    "                       add_noise=add_noise, f_noise=f_noise,\n",
    "                       rand_lstm=rand_lstm,\n",
    "                       lstm_idx=lstm_idx, y_len=y_len)\n",
    "print(len(lstm_out_list))\n",
    "print(y_sims[0,200])"
   ]
  },
  {
   "cell_type": "markdown",
   "metadata": {},
   "source": [
    "#### Plot time series (emulators)"
   ]
  },
  {
   "cell_type": "code",
   "execution_count": 46,
   "metadata": {},
   "outputs": [
    {
     "name": "stderr",
     "output_type": "stream",
     "text": [
      "The PostScript backend does not support transparency; partially transparent artists will be rendered opaque.\n",
      "The PostScript backend does not support transparency; partially transparent artists will be rendered opaque.\n",
      "The PostScript backend does not support transparency; partially transparent artists will be rendered opaque.\n",
      "The PostScript backend does not support transparency; partially transparent artists will be rendered opaque.\n",
      "The PostScript backend does not support transparency; partially transparent artists will be rendered opaque.\n"
     ]
    },
    {
     "name": "stdout",
     "output_type": "stream",
     "text": [
      "emulated\n"
     ]
    },
    {
     "data": {
      "image/png": "[encoded data removed]",
      "text/plain": [
       "<Figure size 720x360 with 1 Axes>"
      ]
     },
     "metadata": {
      "needs_background": "light"
     },
     "output_type": "display_data"
    }
   ],
   "source": [
    "x = np.linspace(0,len(y_hat_plot)-1, len(y_hat_plot))\n",
    "\n",
    "# emulated\n",
    "print('emulated')\n",
    "fig, ax = plt.subplots(figsize=(10, 5))\n",
    "sub_sub = \"{:02d}\".format(idx)\n",
    "\n",
    "# ax.plot(y_sims.T, color='blue', alpha=0.25, zorder=0)# , label='y_sims')\n",
    "ax.plot(y_sims.T.min(axis=1), color='blue', linewidth=1, zorder=0, label='min')\n",
    "ax.plot(y_sims.T.max(axis=1), color='blue', linewidth=1, zorder=0, label='max')\n",
    "ax.plot(np.mean(y_sims.T,axis=1), color='red', linewidth=1, label='mean', zorder=2)\n",
    "ax.plot(y_hat_plot, color='green', linewidth=2, label='y_hat', zorder=1)\n",
    "ax.fill_between(x, y_sims.T.min(axis=1), y_sims.T.max(axis=1), color='blue', zorder=0, alpha=0.5)\n",
    "\n",
    "ax.set_ylim(0,1)\n",
    "ax.legend()\n",
    "fig.savefig(f'{save_dir}streamflow_series_{sub}_runidx_{idx}_emulated.png')\n",
    "fig.savefig(f'{save_dir}streamflow_series_{sub}_runidx_{idx}_emulated.eps', format='eps')\n",
    "plt.show()\n"
   ]
  },
  {
   "cell_type": "markdown",
   "metadata": {},
   "source": [
    "#### Bootstrap + Get Truth (ParFlow)"
   ]
  },
  {
   "cell_type": "code",
   "execution_count": 47,
   "metadata": {},
   "outputs": [],
   "source": [
    "'''\n",
    "bootstrap\n",
    "'''\n",
    "# PARFLOW\n",
    "boots_params_PF, boots_logprob_PF, idxs_PF = randBootstrap(posterior_samples_PF, log_probability_PF)\n",
    "\n",
    "'''\n",
    "get 'truth'\n",
    "'''\n",
    "# PARFLOW\n",
    "y_hat_plot_PF = y_hat_full_PF.T.detach().numpy()\n",
    "y_len = len(y_hat_plot_PF)\n"
   ]
  },
  {
   "cell_type": "markdown",
   "metadata": {},
   "source": [
    "#### Run Forward Simulations (ParFlow)"
   ]
  },
  {
   "cell_type": "code",
   "execution_count": 48,
   "metadata": {},
   "outputs": [
    {
     "name": "stdout",
     "output_type": "stream",
     "text": [
      "Caution, multiple emulators available\n",
      "10\n",
      "0.023749373853206635\n"
     ]
    }
   ],
   "source": [
    "# generate forward simulations\n",
    "if len(lstm_out_list) > 1:\n",
    "    print('Caution, multiple emulators available')\n",
    "\n",
    "y_sims_PF = genSimulation(DataX_test, boots_params_PF, lstm_out_list,\n",
    "                          add_noise=add_noise, f_noise=f_noise,\n",
    "                           rand_lstm=rand_lstm,\n",
    "                           lstm_idx=lstm_idx, y_len=y_len)\n",
    "\n",
    "print(len(lstm_out_list))\n",
    "print(y_sims_PF[0,200])"
   ]
  },
  {
   "cell_type": "markdown",
   "metadata": {},
   "source": [
    "#### Plot time series (ParFlow)"
   ]
  },
  {
   "cell_type": "code",
   "execution_count": 49,
   "metadata": {
    "scrolled": true
   },
   "outputs": [
    {
     "name": "stderr",
     "output_type": "stream",
     "text": [
      "The PostScript backend does not support transparency; partially transparent artists will be rendered opaque.\n",
      "The PostScript backend does not support transparency; partially transparent artists will be rendered opaque.\n",
      "The PostScript backend does not support transparency; partially transparent artists will be rendered opaque.\n",
      "The PostScript backend does not support transparency; partially transparent artists will be rendered opaque.\n",
      "The PostScript backend does not support transparency; partially transparent artists will be rendered opaque.\n"
     ]
    },
    {
     "name": "stdout",
     "output_type": "stream",
     "text": [
      "Parflow\n"
     ]
    },
    {
     "data": {
      "image/png": "[encoded data removed]",
      "text/plain": [
       "<Figure size 720x360 with 1 Axes>"
      ]
     },
     "metadata": {
      "needs_background": "light"
     },
     "output_type": "display_data"
    }
   ],
   "source": [
    "# PARFLOW\n",
    "print('Parflow')\n",
    "fig, ax = plt.subplots(figsize=(10, 5))\n",
    "sub_sub = \"{:02d}\".format(idx)\n",
    "\n",
    "# ax.plot(y_sims_PF.T, color='blue', alpha=0.25, zorder=0)# , label='y_sims')\n",
    "ax.plot(y_sims_PF.T.min(axis=1), color='blue', linewidth=1, zorder=0, label='min')\n",
    "ax.plot(y_sims_PF.T.max(axis=1), color='blue', linewidth=1, zorder=0, label='max')\n",
    "ax.plot(np.mean(y_sims_PF.T,axis=1), color='red', linewidth=1, label='mean', zorder=2)\n",
    "ax.plot(y_hat_plot_PF, color='green', linewidth=2, label='y_hat', zorder=1)\n",
    "ax.fill_between(x, y_sims_PF.T.min(axis=1), y_sims_PF.T.max(axis=1), color='blue', zorder=0, alpha=0.5)\n",
    "\n",
    "ax.set_ylim(0,1)\n",
    "ax.legend()\n",
    "fig.savefig(f'{save_dir}streamflow_series_{sub}_runidx_{idx}_PF.png')\n",
    "fig.savefig(f'{save_dir}streamflow_series_{sub}_runidx_{idx}_PF.eps', format='eps')\n",
    "plt.show()"
   ]
  },
  {
   "cell_type": "markdown",
   "metadata": {},
   "source": [
    "#### Experiment 2_3b Bulk (ParFlow Truth using Ensemble)"
   ]
  },
  {
   "cell_type": "code",
   "execution_count": 168,
   "metadata": {},
   "outputs": [
    {
     "name": "stderr",
     "output_type": "stream",
     "text": [
      "/home/qh8373/SBI_TAYLOR/sbi_taylor/scripts/05_utils/sbiutils.py:110: UserWarning: To copy construct from a tensor, it is recommended to use sourceTensor.clone().detach() or sourceTensor.clone().detach().requires_grad_(True), rather than torch.tensor(sourceTensor).\n",
      "  return torch.tensor(y_out)\n"
     ]
    },
    {
     "data": {
      "application/vnd.jupyter.widget-view+json": {
       "model_id": "d895bdae911f400dbb5cb4e6f1537c61",
       "version_major": 2,
       "version_minor": 0
      },
      "text/plain": [
       "HBox(children=(FloatProgress(value=0.0, description='Drawing 5000 posterior samples', max=5000.0, style=Progre…"
      ]
     },
     "metadata": {},
     "output_type": "display_data"
    },
    {
     "name": "stdout",
     "output_type": "stream",
     "text": [
      "\n"
     ]
    },
    {
     "data": {
      "application/vnd.jupyter.widget-view+json": {
       "model_id": "b85b236787454255887d6754e26366f6",
       "version_major": 2,
       "version_minor": 0
      },
      "text/plain": [
       "HBox(children=(FloatProgress(value=0.0, description='Drawing 5000 posterior samples', max=5000.0, style=Progre…"
      ]
     },
     "metadata": {},
     "output_type": "display_data"
    },
    {
     "name": "stdout",
     "output_type": "stream",
     "text": [
      "\n"
     ]
    },
    {
     "data": {
      "application/vnd.jupyter.widget-view+json": {
       "model_id": "2475a3a3dc1a4562b0b4004716639b3c",
       "version_major": 2,
       "version_minor": 0
      },
      "text/plain": [
       "HBox(children=(FloatProgress(value=0.0, description='Drawing 5000 posterior samples', max=5000.0, style=Progre…"
      ]
     },
     "metadata": {},
     "output_type": "display_data"
    },
    {
     "name": "stdout",
     "output_type": "stream",
     "text": [
      "\n"
     ]
    },
    {
     "data": {
      "application/vnd.jupyter.widget-view+json": {
       "model_id": "e48828665e324344ade9060eaad23957",
       "version_major": 2,
       "version_minor": 0
      },
      "text/plain": [
       "HBox(children=(FloatProgress(value=0.0, description='Drawing 5000 posterior samples', max=5000.0, style=Progre…"
      ]
     },
     "metadata": {},
     "output_type": "display_data"
    },
    {
     "name": "stdout",
     "output_type": "stream",
     "text": [
      "\n"
     ]
    },
    {
     "data": {
      "application/vnd.jupyter.widget-view+json": {
       "model_id": "d617c8f4e48247128c33247e256d2a23",
       "version_major": 2,
       "version_minor": 0
      },
      "text/plain": [
       "HBox(children=(FloatProgress(value=0.0, description='Drawing 5000 posterior samples', max=5000.0, style=Progre…"
      ]
     },
     "metadata": {},
     "output_type": "display_data"
    },
    {
     "name": "stdout",
     "output_type": "stream",
     "text": [
      "\n"
     ]
    },
    {
     "name": "stderr",
     "output_type": "stream",
     "text": [
      "/home/qh8373/SBI_TAYLOR/sbi_taylor/scripts/05_utils/posteriorsamputils.py:97: RuntimeWarning: Mean of empty slice.\n",
      "  log_prob_true_thetas_ind[i] = np.take(log_probability, theta_idx)[0].mean()\n",
      "/home/SHARED/software/anaconda3/2020.07e/lib/python3.8/site-packages/numpy/core/_methods.py:188: RuntimeWarning: invalid value encountered in true_divide\n",
      "  ret = ret.dtype.type(ret / rcount)\n"
     ]
    },
    {
     "data": {
      "application/vnd.jupyter.widget-view+json": {
       "model_id": "9b23c7179ed54a8db0f4e4957a26205a",
       "version_major": 2,
       "version_minor": 0
      },
      "text/plain": [
       "HBox(children=(FloatProgress(value=0.0, description='Drawing 5000 posterior samples', max=5000.0, style=Progre…"
      ]
     },
     "metadata": {},
     "output_type": "display_data"
    },
    {
     "name": "stdout",
     "output_type": "stream",
     "text": [
      "\n"
     ]
    },
    {
     "data": {
      "application/vnd.jupyter.widget-view+json": {
       "model_id": "53a63a48246e4da588b8a145122b73af",
       "version_major": 2,
       "version_minor": 0
      },
      "text/plain": [
       "HBox(children=(FloatProgress(value=0.0, description='Drawing 5000 posterior samples', max=5000.0, style=Progre…"
      ]
     },
     "metadata": {},
     "output_type": "display_data"
    },
    {
     "name": "stdout",
     "output_type": "stream",
     "text": [
      "\n"
     ]
    },
    {
     "data": {
      "application/vnd.jupyter.widget-view+json": {
       "model_id": "9c4f4b72631d431bac2a3fc5592ab5ae",
       "version_major": 2,
       "version_minor": 0
      },
      "text/plain": [
       "HBox(children=(FloatProgress(value=0.0, description='Drawing 5000 posterior samples', max=5000.0, style=Progre…"
      ]
     },
     "metadata": {},
     "output_type": "display_data"
    },
    {
     "name": "stdout",
     "output_type": "stream",
     "text": [
      "\n"
     ]
    },
    {
     "data": {
      "application/vnd.jupyter.widget-view+json": {
       "model_id": "c771ffee8b994765937b47fe4a2e5e30",
       "version_major": 2,
       "version_minor": 0
      },
      "text/plain": [
       "HBox(children=(FloatProgress(value=0.0, description='Drawing 5000 posterior samples', max=5000.0, style=Progre…"
      ]
     },
     "metadata": {},
     "output_type": "display_data"
    },
    {
     "name": "stdout",
     "output_type": "stream",
     "text": [
      "\n"
     ]
    },
    {
     "data": {
      "application/vnd.jupyter.widget-view+json": {
       "model_id": "3bdb520460b54788a0e50f7e87890858",
       "version_major": 2,
       "version_minor": 0
      },
      "text/plain": [
       "HBox(children=(FloatProgress(value=0.0, description='Drawing 5000 posterior samples', max=5000.0, style=Progre…"
      ]
     },
     "metadata": {},
     "output_type": "display_data"
    },
    {
     "name": "stdout",
     "output_type": "stream",
     "text": [
      "\n"
     ]
    },
    {
     "data": {
      "application/vnd.jupyter.widget-view+json": {
       "model_id": "a430413fe9b34122bbe4ef32cdd7928f",
       "version_major": 2,
       "version_minor": 0
      },
      "text/plain": [
       "HBox(children=(FloatProgress(value=0.0, description='Drawing 5000 posterior samples', max=5000.0, style=Progre…"
      ]
     },
     "metadata": {},
     "output_type": "display_data"
    },
    {
     "name": "stdout",
     "output_type": "stream",
     "text": [
      "\n"
     ]
    },
    {
     "data": {
      "application/vnd.jupyter.widget-view+json": {
       "model_id": "517b8183dbcd46249ad365c4b7b66ca6",
       "version_major": 2,
       "version_minor": 0
      },
      "text/plain": [
       "HBox(children=(FloatProgress(value=0.0, description='Drawing 5000 posterior samples', max=5000.0, style=Progre…"
      ]
     },
     "metadata": {},
     "output_type": "display_data"
    },
    {
     "name": "stdout",
     "output_type": "stream",
     "text": [
      "\n"
     ]
    },
    {
     "data": {
      "application/vnd.jupyter.widget-view+json": {
       "model_id": "8f2d8c8811de4fc4bf77c53ce216794f",
       "version_major": 2,
       "version_minor": 0
      },
      "text/plain": [
       "HBox(children=(FloatProgress(value=0.0, description='Drawing 5000 posterior samples', max=5000.0, style=Progre…"
      ]
     },
     "metadata": {},
     "output_type": "display_data"
    },
    {
     "name": "stdout",
     "output_type": "stream",
     "text": [
      "\n"
     ]
    },
    {
     "data": {
      "application/vnd.jupyter.widget-view+json": {
       "model_id": "170906ff1ce64463b36110fc829d9492",
       "version_major": 2,
       "version_minor": 0
      },
      "text/plain": [
       "HBox(children=(FloatProgress(value=0.0, description='Drawing 5000 posterior samples', max=5000.0, style=Progre…"
      ]
     },
     "metadata": {},
     "output_type": "display_data"
    },
    {
     "name": "stdout",
     "output_type": "stream",
     "text": [
      "\n"
     ]
    },
    {
     "data": {
      "application/vnd.jupyter.widget-view+json": {
       "model_id": "7550163503bf46efab848990c97b5ef1",
       "version_major": 2,
       "version_minor": 0
      },
      "text/plain": [
       "HBox(children=(FloatProgress(value=0.0, description='Drawing 5000 posterior samples', max=5000.0, style=Progre…"
      ]
     },
     "metadata": {},
     "output_type": "display_data"
    },
    {
     "name": "stdout",
     "output_type": "stream",
     "text": [
      "\n"
     ]
    },
    {
     "data": {
      "application/vnd.jupyter.widget-view+json": {
       "model_id": "0e1d32fe423f45448223ef6f09ac5fd7",
       "version_major": 2,
       "version_minor": 0
      },
      "text/plain": [
       "HBox(children=(FloatProgress(value=0.0, description='Drawing 5000 posterior samples', max=5000.0, style=Progre…"
      ]
     },
     "metadata": {},
     "output_type": "display_data"
    },
    {
     "name": "stdout",
     "output_type": "stream",
     "text": [
      "\n"
     ]
    },
    {
     "data": {
      "application/vnd.jupyter.widget-view+json": {
       "model_id": "ffafb8ee7d40417795d0cc47a2cc7a6e",
       "version_major": 2,
       "version_minor": 0
      },
      "text/plain": [
       "HBox(children=(FloatProgress(value=0.0, description='Drawing 5000 posterior samples', max=5000.0, style=Progre…"
      ]
     },
     "metadata": {},
     "output_type": "display_data"
    },
    {
     "name": "stdout",
     "output_type": "stream",
     "text": [
      "\n"
     ]
    },
    {
     "data": {
      "application/vnd.jupyter.widget-view+json": {
       "model_id": "7444caa58034449181ae66f1e446db47",
       "version_major": 2,
       "version_minor": 0
      },
      "text/plain": [
       "HBox(children=(FloatProgress(value=0.0, description='Drawing 5000 posterior samples', max=5000.0, style=Progre…"
      ]
     },
     "metadata": {},
     "output_type": "display_data"
    },
    {
     "name": "stdout",
     "output_type": "stream",
     "text": [
      "\n"
     ]
    }
   ],
   "source": [
    "# create time series\n",
    "unique_series_PF = createYHatList(DataY_test, series_len, num_unique,\n",
    "                stat_method=stat_method, stat_typ=stat_typ, embed_type=embed_type)\n",
    "unique_series_full_PF = createYHatList(DataY_test, series_len, num_unique,\n",
    "                    stat_method='full', stat_typ=None, embed_type=None)\n",
    "\n",
    "# storage\n",
    "E2_3b_arr = np.empty((5, 18))\n",
    "\n",
    "# loop through all 18\n",
    "for idx in range(18):\n",
    "    # ------------- Set Up\n",
    "    # set true theta\n",
    "    true_theta = test_params[idx]\n",
    "    \n",
    "    # set series\n",
    "    y_hat_PF = unique_series_PF[idx]\n",
    "    y_hat_full_PF = unique_series_full_PF[idx]\n",
    "    \n",
    "    # ------------- Parameter Space\n",
    "    # sample posterior and create log probability\n",
    "    # - given observation(s), sample posterior, evaluate probability, and plot\n",
    "    posterior_samples_PF = posterior.sample((n_samples,), x=y_hat_PF) # type - tensor object\n",
    "    # posterior_samples_simulations = bulk_simulate(posterior_samples, num_days, n_samples, ensemble_path, model_path)\n",
    "    log_probability_PF = posterior.log_prob(posterior_samples_PF, x=y_hat_PF).unsqueeze(1) # type - tensor object\n",
    "\n",
    "    \n",
    "    # calculate determinent, average euclidean distance, and average log prob\n",
    "    mean_param = posterior_samples_PF.mean(axis=0)\n",
    "    median_param = np.quantile(posterior_samples_PF, q=0.5, axis=0)\n",
    "    # euclidean distance\n",
    "    euc_dist = norm(true_theta-mean_param)\n",
    "    \n",
    "    # probability stuff\n",
    "    log_prob_true_thetas_ind, log_prob_true_thetas_all, log_prob_true_thetas_flag = genProbThetas(true_theta,\n",
    "                                        posterior_samples_PF, log_probability_PF, theta_prec=4, mult_factor=10)\n",
    "    log_prob_out = log_prob_true_thetas_ind.mean()\n",
    "    \n",
    "    # covariance of the distribution\n",
    "    cov_sample = cov(posterior_samples_PF.T)\n",
    "    # determinant of the distribution\n",
    "    det_sample = det(cov_sample)\n",
    "    \n",
    "    cov_inv_temp = np.linalg.inv(cov_sample)\n",
    "    dist_temp = distance.mahalanobis(true_theta,mean_param,cov_inv_temp)\n",
    "    \n",
    "    # ------------- Streamflow Space\n",
    "    boots_params, boots_logprob, idxs = randBootstrap(posterior_samples_PF, log_probability_PF)\n",
    "    # will need to edit this portion\n",
    "    y_sims = genSimulation(DataX_test, boots_params, lstm_out_list,\n",
    "                       add_noise=add_noise, f_noise=f_noise,\n",
    "                       rand_lstm=rand_lstm,\n",
    "                       lstm_idx=lstm_idx, y_len=y_len)\n",
    "\n",
    "    y_hat_full_PF = convertNumpy(y_hat_full_PF[0,:], toTorch=False)\n",
    "    \n",
    "    # calculate NSEs\n",
    "    NSE_arr = np.empty(y_sims.shape[0])\n",
    "    for k in range(y_sims.shape[0]):\n",
    "        y_o = y_sims[k,:]\n",
    "        y_o = convertNumpy(y_o, toTorch=False)\n",
    "        NSE_arr[k] = compute_stats(y_o, y_hat_full_PF)[1]\n",
    "        del y_o\n",
    "\n",
    "    NSE_ave = NSE_arr.mean()\n",
    "    NSE_std = NSE_arr.std()\n",
    "    \n",
    "    # ------------- Put together\n",
    "    E2_3b_arr[:,idx] = [dist_temp, det_sample, log_prob_out, NSE_ave, NSE_std]\n",
    "\n",
    "    del true_theta, y_hat_full_PF, y_hat_PF, posterior_samples_PF, log_probability_PF, mean_param, median_param\n",
    "    del euc_dist, log_prob_true_thetas_ind, log_prob_true_thetas_all, log_prob_true_thetas_flag\n",
    "    del log_prob_out, cov_sample, det_sample, boots_params, boots_logprob, idxs, y_sims\n",
    "    del NSE_arr, NSE_ave, NSE_std, cov_inv_temp, dist_temp\n",
    "    "
   ]
  },
  {
   "cell_type": "markdown",
   "metadata": {},
   "source": [
    "## End. Integrated Interpretive Plots"
   ]
  },
  {
   "cell_type": "code",
   "execution_count": 169,
   "metadata": {},
   "outputs": [
    {
     "data": {
      "image/png": "[encoded data removed]",
      "text/plain": [
       "<Figure size 1512x936 with 6 Axes>"
      ]
     },
     "metadata": {
      "needs_background": "light"
     },
     "output_type": "display_data"
    }
   ],
   "source": [
    "plt.rcParams.update({'font.size': 14})\n",
    "\n",
    "bar_name = \"Experiments in 2\"\n",
    "# idxs = [euc_dist, det_sample, log_prob_out, NSE_ave, NSE_std]\n",
    "exp_arr = np.empty((5, 18, 5))\n",
    "exp_list = [E1_1_arr, E2_1_arr, E2_2a_arr, E2_2b_arr, E2_3b_arr]\n",
    "label_list = [\"E1_1\", \"E2_1\", \"E2_2a\", \"E2_2b\", \"E2_3b\"]\n",
    "\n",
    "for exp in range(len(exp_list)):\n",
    "    exp_arr[:,:,exp] = exp_list[exp]\n",
    "\n",
    "# Create several box plots showing distributions\n",
    "fig, axs = plt.subplots(2, 3, figsize=(21,13))\n",
    "\n",
    "axs[0,0].set_title('Distance to true Param')\n",
    "axs[0,0].boxplot(exp_arr[0,:,:])\n",
    "\n",
    "axs[0,1].set_title('Determinant of covariance matrix')\n",
    "axs[0,1].boxplot(exp_arr[1,:,:])\n",
    "axs[0,1].set_yscale('log')\n",
    "\n",
    "axs[0,2].set_title('Distance / Determinant')\n",
    "axs[0,2].boxplot(exp_arr[0,:,:] / exp_arr[1,:,:])\n",
    "# axs[0,2].set_yscale('log')\n",
    "\n",
    "axs[1,0].set_title('Log Prob of True Theta')\n",
    "axs[1,0].boxplot(np.nan_to_num(exp_arr[2,:,:], nan=-5))\n",
    "\n",
    "axs[1,1].set_title('NSE Ave of Streamflow')\n",
    "axs[1,1].boxplot(exp_arr[3,:,:])\n",
    "\n",
    "axs[1,2].set_title('NSE STD of Streamflow')\n",
    "axs[1,2].boxplot(exp_arr[4,:,:])\n",
    "\n",
    "\n",
    "\n",
    "for j in range(2):\n",
    "    for k in range(3):\n",
    "\n",
    "        axs[j, k].set_xticklabels(label_list, rotation=45)\n",
    "\n",
    "\n",
    "# if save_bool:\n",
    "#     fig.savefig(f'{save_dir}bar_relation_{bar_name}.png')\n",
    "#     fig.savefig(f'{save_dir}bar_relation_{bar_name}.eps', format='eps')\n",
    "\n",
    "\n",
    "plt.show()\n",
    "plt.close()"
   ]
  },
  {
   "cell_type": "markdown",
   "metadata": {},
   "source": [
    "## End. Integrated Interpretive Plots"
   ]
  },
  {
   "cell_type": "code",
   "execution_count": 172,
   "metadata": {},
   "outputs": [
    {
     "data": {
      "image/png": "[encoded data removed]",
      "text/plain": [
       "<Figure size 1512x936 with 6 Axes>"
      ]
     },
     "metadata": {
      "needs_background": "light"
     },
     "output_type": "display_data"
    }
   ],
   "source": [
    "plt.rcParams.update({'font.size': 14})\n",
    "\n",
    "bar_name = \"Experiments in 2\"\n",
    "# idxs = [euc_dist, det_sample, log_prob_out, NSE_ave, NSE_std]\n",
    "exp_arr = np.empty((5, 18, 3))\n",
    "exp_list = [E1_1_arr, E2_1_arr, E2_3b_arr]\n",
    "label_list = [\"E1_1\", \"E2_1\", \"E2_3b\"]\n",
    "\n",
    "for exp in range(len(exp_list)):\n",
    "    exp_arr[:,:,exp] = exp_list[exp]\n",
    "\n",
    "# Create several box plots showing distributions\n",
    "fig, axs = plt.subplots(2, 3, figsize=(21,13))\n",
    "\n",
    "axs[0,0].set_title('Distance to true Param')\n",
    "axs[0,0].boxplot(exp_arr[0,:,:])\n",
    "\n",
    "axs[0,1].set_title('Determinant of covariance matrix')\n",
    "axs[0,1].boxplot(exp_arr[1,:,:])\n",
    "axs[0,1].set_yscale('log')\n",
    "\n",
    "axs[0,2].set_title('Distance / Determinant')\n",
    "axs[0,2].boxplot(exp_arr[0,:,:] / exp_arr[1,:,:])\n",
    "# axs[0,2].set_yscale('log')\n",
    "\n",
    "axs[1,0].set_title('Log Prob of True Theta')\n",
    "axs[1,0].boxplot(np.nan_to_num(exp_arr[2,:,:], nan=-5))\n",
    "\n",
    "axs[1,1].set_title('NSE Ave of Streamflow')\n",
    "axs[1,1].boxplot(exp_arr[3,:,:])\n",
    "\n",
    "axs[1,2].set_title('NSE STD of Streamflow')\n",
    "axs[1,2].boxplot(exp_arr[4,:,:])\n",
    "\n",
    "\n",
    "\n",
    "for j in range(2):\n",
    "    for k in range(3):\n",
    "\n",
    "        axs[j, k].set_xticklabels(label_list, rotation=45)\n",
    "\n",
    "\n",
    "# if save_bool:\n",
    "#     fig.savefig(f'{save_dir}bar_relation_{bar_name}.png')\n",
    "#     fig.savefig(f'{save_dir}bar_relation_{bar_name}.eps', format='eps')\n",
    "\n",
    "\n",
    "plt.show()\n",
    "plt.close()"
   ]
  },
  {
   "cell_type": "code",
   "execution_count": null,
   "metadata": {},
   "outputs": [],
   "source": []
  },
  {
   "cell_type": "code",
   "execution_count": null,
   "metadata": {},
   "outputs": [],
   "source": []
  }
 ],
 "metadata": {
  "kernelspec": {
   "display_name": "Python 3",
   "language": "python",
   "name": "python3"
  },
  "language_info": {
   "codemirror_mode": {
    "name": "ipython",
    "version": 3
   },
   "file_extension": ".py",
   "mimetype": "text/x-python",
   "name": "python",
   "nbconvert_exporter": "python",
   "pygments_lexer": "ipython3",
   "version": "3.8.3"
  }
 },
 "nbformat": 4,
 "nbformat_minor": 4
}
