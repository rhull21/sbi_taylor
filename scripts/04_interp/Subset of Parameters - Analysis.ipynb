{
 "cells": [
  {
   "cell_type": "code",
   "execution_count": null,
   "metadata": {},
   "outputs": [],
   "source": [
    "# Created 4/18\n",
    "# This script is for taking from Experiments 2 and 3 a random set of parameters bootstrapped with idx=1\n",
    "\n",
    "# Recall that 2 is biased whereas 3 is not"
   ]
  },
  {
   "cell_type": "code",
   "execution_count": 1,
   "metadata": {},
   "outputs": [
    {
     "name": "stderr",
     "output_type": "stream",
     "text": [
      "/home/SHARED/software/anaconda3/2020.07e/lib/python3.8/site-packages/setuptools/distutils_patch.py:25: UserWarning: Distutils was imported before Setuptools. This usage is discouraged and may exhibit undesirable behaviors or errors. Please use Setuptools' objects directly or at least import Setuptools first.\n",
      "  warnings.warn(\n"
     ]
    }
   ],
   "source": [
    "import torch\n",
    "import numpy as np\n",
    "import matplotlib.pyplot as plt\n",
    "import sys\n",
    "from sklearn.preprocessing import StandardScaler\n",
    "import pickle\n",
    "\n",
    "# user defined functions\n",
    "sys.path.append('/home/qh8373/SBI_TAYLOR/sbi_taylor/scripts/05_utils/')\n",
    "from genutils import PFread, plot_stuff, convertNumpy\n",
    "from ensembleutils import assembleYears, assembleAllForcings, parseAllMetadata, returnDF_ens, returnAOC_ens, _ret_MinMax, _ret_AOCMinMax\n",
    "from assessutils import compute_stats\n",
    "from scalerutils import scaled_ens_Values, scaledForcingData, scaledAOCData\n",
    "from posteriorsamputils import statTheta, genProbThetas, gen_Fit_Series_Wrapper\n",
    "from summaryutils import summary, setStatSim\n",
    "from sbiutils import retStatTyp, parseListDf, parseUniqueParams\n",
    "from sbiutils import reshape_y, createYHatList, createYHat\n",
    "from interputils import *\n",
    "\n"
   ]
  },
  {
   "cell_type": "code",
   "execution_count": 2,
   "metadata": {},
   "outputs": [],
   "source": [
    "true_param = torch.tensor([0.5995, 0.8495])\n",
    "\n",
    "#Experiment 1\n",
    "out_params1 = torch.tensor([[0.5842, 0.8277],\n",
    "                        [0.5857, 0.8688],\n",
    "                        [0.6122, 0.8656],\n",
    "                        [0.5626, 0.8653],\n",
    "                        [0.5586, 0.8719],\n",
    "                        [0.5944, 0.8536],\n",
    "                        [0.5982, 0.8266],\n",
    "                        [0.5970, 0.8729],\n",
    "                        [0.5692, 0.8506],\n",
    "                        [0.5925, 0.8856]])\n",
    "\n",
    "#Experiment 2\n",
    "out_params2 = torch.tensor([[0.5081, 0.8182],\n",
    "                        [0.5173, 0.8396],\n",
    "                        [0.5144, 0.8168],\n",
    "                        [0.5075, 0.8016],\n",
    "                        [0.5314, 0.8098],\n",
    "                        [0.4991, 0.8484],\n",
    "                        [0.5344, 0.8120],\n",
    "                        [0.5302, 0.8034],\n",
    "                        [0.5107, 0.8104],\n",
    "                        [0.5242, 0.8302]])\n",
    "\n",
    "#Experiment 3\n",
    "out_params3 = torch.tensor([[0.5616, 0.8797],\n",
    "                        [0.6077, 0.8615],\n",
    "                        [0.5542, 0.8075],\n",
    "                        [0.5749, 0.8803],\n",
    "                        [0.5820, 0.8978],\n",
    "                        [0.6046, 0.9015],\n",
    "                        [0.5994, 0.8707],\n",
    "                        [0.5702, 0.8161],\n",
    "                        [0.5699, 0.8458],\n",
    "                        [0.6268, 0.8924]])\n",
    "\n",
    "#Real Observation\n",
    "out_params_real = torch.tensor([0.7923, 0.9165])\n"
   ]
  },
  {
   "cell_type": "code",
   "execution_count": 3,
   "metadata": {},
   "outputs": [
    {
     "name": "stdout",
     "output_type": "stream",
     "text": [
      "torch.Size([3, 10, 2])\n"
     ]
    },
    {
     "data": {
      "image/png": "[encoded data removed]",
      "text/plain": [
       "<Figure size 720x360 with 2 Axes>"
      ]
     },
     "metadata": {
      "needs_background": "light"
     },
     "output_type": "display_data"
    }
   ],
   "source": [
    "lis_ts = [out_params1, out_params2, out_params3]\n",
    "\n",
    "box_ts = torch.empty((len(lis_ts),10, 2))\n",
    "print(box_ts.shape)\n",
    "for ts in range(3):\n",
    "    box_ts[ts, :, :] = lis_ts[ts]\n",
    "\n",
    "fig, axs = plt.subplots(1, 2, figsize=(10, 5))\n",
    "    \n",
    "axs[0].boxplot(box_ts[:,:,0], showbox=False)\n",
    "axs[0].plot(torch.tensor([-1,2,5]), torch.ones(3)*true_param[0], color='green', linestyle='--')\n",
    "axs[1].boxplot(box_ts[:,:,1], showbox=False)\n",
    "axs[1].plot(torch.tensor([-1,2,5]), torch.ones(3)*true_param[1], color='green', linestyle='--', )\n",
    "\n",
    "axs[0].set_title('K')\n",
    "axs[1].set_title('M')\n",
    "\n",
    "\n",
    "axs[0].set_xlim(0.5, 3.5)\n",
    "axs[1].set_xlim(0.5, 3.5) \n",
    "\n",
    "axs[0].set_ylim(0.40, 0.65)\n",
    "axs[1].set_ylim(0.75, 0.95) \n",
    "\n",
    "plt.show()"
   ]
  },
  {
   "cell_type": "markdown",
   "metadata": {},
   "source": [
    "from `https://verde.princeton.edu/pun/sys/dashboard/files/fs//home/qh8373/SBI_TAYLOR/sbi_taylor/scripts/02_ensemble/ensemble_agg.py`\n",
    "\n",
    "`scale_AOC, trans_AOC = scaled_ens_Values(min_AOC_list, max_AOC_list, dist_range=[0,1])`\n",
    "* ^obj scaler            ^ fxn finding appropriate scaler\n",
    "\n",
    "`AOC_ens_scale_l = scaledAOCData(scale_AOC, AOC_ens_l)`\n",
    "* ^ scaled data.                 ^ scaler.   ^ data\n",
    "\n",
    "**Don't Forget to Log Transform**"
   ]
  },
  {
   "cell_type": "code",
   "execution_count": 7,
   "metadata": {},
   "outputs": [],
   "source": [
    "path_import = '/home/qh8373/SBI_TAYLOR/data/03_ensemble_out/_ensemble_0819_01_mod2/'\n",
    "\n",
    "with open(path_import+\"scale_AOC.txt\", \"rb\") as fp:\n",
    "    scale_AOC = pickle.load(fp)\n",
    "    \n",
    "with open(path_import+\"scale_info.txt\") as f:\n",
    "    scale_info = f.readlines()"
   ]
  },
  {
   "cell_type": "code",
   "execution_count": 8,
   "metadata": {},
   "outputs": [
    {
     "data": {
      "text/plain": [
       "[\"Parameters and Targets: ['DLWR', 'DSWR', 'Press', 'APCP', 'Temp', 'SPFH', 'UGRD', 'VGRD', 'Flow']\\n\",\n",
       " 'Minimum Value: [131.57680826533917, 59.55822718868428, 67165.15745244661, 0.0, 256.23392507213964, 0.0009262882518199012, -3.106308692100393, -5.5145734912762086, 0.0]\\n',\n",
       " 'Maximum Value: [304.1469982105988, 322.83072986660244, 70024.25349997445, 0.00033398801808942456, 287.8801881353583, 0.0082333420682075, 9.457972524311984, 7.735435428054212, 8499.45168720763] \\n',\n",
       " 'Minimum AOC Value: [-3.0, -8.0]\\n',\n",
       " 'Maximum AOC Value: [1.0, -4.0] \\n']"
      ]
     },
     "execution_count": 8,
     "metadata": {},
     "output_type": "execute_result"
    }
   ],
   "source": [
    "scale_info"
   ]
  },
  {
   "cell_type": "code",
   "execution_count": 9,
   "metadata": {},
   "outputs": [
    {
     "data": {
      "text/plain": [
       "[MinMaxScaler(feature_range=[0, 1]), MinMaxScaler(feature_range=[0, 1])]"
      ]
     },
     "execution_count": 9,
     "metadata": {},
     "output_type": "execute_result"
    }
   ],
   "source": [
    "scale_AOC"
   ]
  },
  {
   "cell_type": "code",
   "execution_count": 39,
   "metadata": {},
   "outputs": [
    {
     "name": "stdout",
     "output_type": "stream",
     "text": [
      "Mean after unscaling, K and M\n",
      "[[-0.65816    -4.56455998]\n",
      " [-0.92908    -4.72384   ]\n",
      " [-0.65948    -4.53867998]]\n",
      "Mean after unscaling and converting to 10**, K and M\n",
      "[[2.22150052e-01 2.76330940e-05]\n",
      " [1.18373661e-01 1.90676430e-05]\n",
      " [2.23755254e-01 3.00573276e-05]]\n"
     ]
    }
   ],
   "source": [
    "scale_AOC[0].inverse_transform(out_params2[:,0].reshape(-1,1))\n",
    "\n",
    "scaled_ts = np.empty(box_ts.shape)\n",
    "# for each experiment\n",
    "for ts in range(len(box_ts)):\n",
    "    # for each attributes\n",
    "    for each in range(len(scale_AOC)):\n",
    "        # get scaler\n",
    "        scaler = scale_AOC[each]\n",
    "        # inverse scale and save\n",
    "        scaled_ts[ts,:,each] = scaler.inverse_transform(box_ts[ts,:,each].reshape(-1,1)).flatten()\n",
    "\n",
    "print('Mean after unscaling, K and M')\n",
    "print(scaled_ts.mean(axis=(1)))\n",
    "\n",
    "scaled_ts = 10**scaled_ts\n",
    "\n",
    "print('Mean after unscaling and converting to 10**, K and M')\n",
    "print(scaled_ts.mean(axis=(1)))"
   ]
  },
  {
   "cell_type": "markdown",
   "metadata": {},
   "source": [
    "#### New Ensemble 0418_01\n",
    "* This brought to supporting information for new ensemble in:\n",
    "`~/SBI_TAYLOR/sbi_taylor/scripts/00_supporting/`\n",
    "* 0418_01_K_1995.txt\n",
    "* 0418_01_M_1995.txt"
   ]
  },
  {
   "cell_type": "code",
   "execution_count": 42,
   "metadata": {},
   "outputs": [
    {
     "name": "stdout",
     "output_type": "stream",
     "text": [
      "Experiment 2, K\n",
      "[0.10774569 0.11727354 0.11418262 0.10715192 0.13353653 0.0991745\n",
      " 0.13727768 0.13206874 0.11035702 0.12496837]\n",
      "Experiment 2, M\n",
      "[1.87413110e-05 2.28244387e-05 1.85012041e-05 1.60842168e-05\n",
      " 1.73460309e-05 2.47514124e-05 1.77010858e-05 1.63530935e-05\n",
      " 1.74421508e-05 2.09314862e-05]\n"
     ]
    }
   ],
   "source": [
    "print('Experiment 2, K')\n",
    "print(scaled_ts[1,:,0])\n",
    "\n",
    "print('Experiment 2, M')\n",
    "print(scaled_ts[1,:,1])"
   ]
  },
  {
   "cell_type": "markdown",
   "metadata": {},
   "source": [
    "#### New Ensemble 0418_02\n",
    "* This brought to supporting information for new ensemble in:\n",
    "`~/SBI_TAYLOR/sbi_taylor/scripts/00_supporting/`\n",
    "* 0418_02_K_1995.txt\n",
    "* 0418_02_M_1995.txt"
   ]
  },
  {
   "cell_type": "code",
   "execution_count": 41,
   "metadata": {},
   "outputs": [
    {
     "name": "stdout",
     "output_type": "stream",
     "text": [
      "Experiment 3, K\n",
      "[0.17636001 0.26964971 0.16474035 0.19934249 0.21281394 0.26205959\n",
      " 0.24980431 0.19089744 0.19037061 0.32151408]\n",
      "Experiment 3, M\n",
      "[3.30217451e-05 2.79254448e-05 1.69824373e-05 3.32047291e-05\n",
      " 3.90121705e-05 4.03645343e-05 3.03948502e-05 1.83823066e-05\n",
      " 2.41657306e-05 3.71193280e-05]\n"
     ]
    }
   ],
   "source": [
    "print('Experiment 3, K')\n",
    "print(scaled_ts[2,:,0])\n",
    "\n",
    "print('Experiment 3, M')\n",
    "print(scaled_ts[2,:,1])"
   ]
  },
  {
   "cell_type": "markdown",
   "metadata": {},
   "source": [
    "#### Real Parameters"
   ]
  },
  {
   "cell_type": "code",
   "execution_count": 10,
   "metadata": {},
   "outputs": [
    {
     "data": {
      "text/plain": [
       "tensor([0.7923, 0.9165])"
      ]
     },
     "execution_count": 10,
     "metadata": {},
     "output_type": "execute_result"
    }
   ],
   "source": [
    "out_params_real"
   ]
  },
  {
   "cell_type": "code",
   "execution_count": 15,
   "metadata": {},
   "outputs": [
    {
     "name": "stdout",
     "output_type": "stream",
     "text": [
      "Mean after unscaling, K and M\n",
      "[ 0.16919994 -4.33400011]\n",
      "Mean after unscaling and converting to 10**, K and M\n",
      "[1.47638609e+00 4.63446802e-05]\n"
     ]
    }
   ],
   "source": [
    "scaled_ts_real = np.empty(out_params_real.shape)\n",
    "\n",
    "# for each attributes\n",
    "for each in range(len(scale_AOC)):\n",
    "    # get scaler\n",
    "    scaler = scale_AOC[each]\n",
    "    # inverse scale and save\n",
    "    scaled_ts_real[each] = scaler.inverse_transform(out_params_real[each].reshape(-1,1)).flatten()\n",
    "\n",
    "print('Mean after unscaling, K and M')\n",
    "print(scaled_ts_real)\n",
    "\n",
    "scaled_ts_real = 10**scaled_ts_real\n",
    "\n",
    "print('Mean after unscaling and converting to 10**, K and M')\n",
    "print(scaled_ts_real)"
   ]
  },
  {
   "cell_type": "markdown",
   "metadata": {},
   "source": [
    "# "
   ]
  }
 ],
 "metadata": {
  "kernelspec": {
   "display_name": "Python 3",
   "language": "python",
   "name": "python3"
  },
  "language_info": {
   "codemirror_mode": {
    "name": "ipython",
    "version": 3
   },
   "file_extension": ".py",
   "mimetype": "text/x-python",
   "name": "python",
   "nbconvert_exporter": "python",
   "pygments_lexer": "ipython3",
   "version": "3.8.3"
  }
 },
 "nbformat": 4,
 "nbformat_minor": 4
}
