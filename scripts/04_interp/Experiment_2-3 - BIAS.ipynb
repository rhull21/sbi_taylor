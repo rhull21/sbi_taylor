{
 "cells": [
  {
   "cell_type": "markdown",
   "metadata": {},
   "source": [
    "# 1. Experiment 2: \n",
    "\"find parameters for synthetic observation(s) reserved from the process-based model upon which the surrogate model was trained\"\n",
    "1. Build Surrogate of ParFlow streamflow, `lstm_A`\n",
    "2. Construct amortized (full) P(`theta | q_surr_all`) via a Neural Density Estimator, or `NDE`\n",
    "3. Sample posterior, P(`theta | q_surr_all = q_PF_obs`)\n",
    "4. Interpretive Plots\n",
    "\n",
    "##### --------\n",
    "* Steps 1, 2 and embedded in the `lstm_sbi.py` 'run' script\n",
    "* steps 3, 4 are shown below. \n",
    "* See `/home/qh8373/SBI_TAYLOR/sbi_taylor/psuedocode-sbi-experiments.md` for full details about the experiment"
   ]
  },
  {
   "cell_type": "markdown",
   "metadata": {},
   "source": [
    "* NOTES:\n",
    "    * Many Workflows tested and lent from:\n",
    "        * `AGU_Synthesis.ipynb`\n",
    "        * `SBI_Interp_Agg.ipynb`\n",
    "        * `test_lstm_sbi.ipynb`"
   ]
  },
  {
   "cell_type": "code",
   "execution_count": 1,
   "metadata": {},
   "outputs": [
    {
     "name": "stderr",
     "output_type": "stream",
     "text": [
      "/home/SHARED/software/anaconda3/2020.07e/lib/python3.8/site-packages/setuptools/distutils_patch.py:25: UserWarning: Distutils was imported before Setuptools. This usage is discouraged and may exhibit undesirable behaviors or errors. Please use Setuptools' objects directly or at least import Setuptools first.\n",
      "  warnings.warn(\n"
     ]
    }
   ],
   "source": [
    "import os\n",
    "import os.path\n",
    "import sys\n",
    "import shutil\n",
    "from pprint import pprint\n",
    "from datetime import datetime\n",
    "from copy import copy\n",
    "from copy import deepcopy\n",
    "import pickle\n",
    "\n",
    "from parflowio.pyParflowio import PFData\n",
    "\n",
    "import pandas as pd\n",
    "import numpy as np\n",
    "import numpy.ma as ma\n",
    "import matplotlib.pyplot as plt\n",
    "import matplotlib.colors as colors\n",
    "import matplotlib.image as mpimg\n",
    "import matplotlib.cm as cm\n",
    "import matplotlib.cbook as cbook\n",
    "from matplotlib.path import Path\n",
    "from matplotlib.patches import PathPatch\n",
    "\n",
    "from sklearn.preprocessing import MinMaxScaler\n",
    "from sklearn.preprocessing import QuantileTransformer\n",
    "from sklearn.preprocessing import PowerTransformer\n",
    "\n",
    "from sklearn.utils import shuffle\n",
    "from sklearn.metrics import mean_squared_error\n",
    "import glob\n",
    "\n",
    "\n",
    "from sklearn.preprocessing import MinMaxScaler\n",
    "from sklearn.preprocessing import StandardScaler\n",
    "from sklearn.metrics import r2_score, mean_squared_error\n",
    "\n",
    "\n",
    "# -- Libararies  \n",
    "import os\n",
    "import sys\n",
    "import pickle\n",
    "import torch\n",
    "from random import *\n",
    "\n",
    "# for SBI\n",
    "from sbi import utils as utils\n",
    "from sbi import analysis as analysis\n",
    "from sbi import inference\n",
    "from sbi.inference.base import infer\n",
    "from sbi.inference import SNPE, simulate_for_sbi, prepare_for_sbi\n",
    "from sbi.types import Array, OneOrMore, ScalarFloat\n",
    "\n",
    "from matplotlib import pyplot as plt\n",
    "\n",
    "import numpy as np\n",
    "from numpy import cov\n",
    "from numpy.linalg import det, norm # determinant, norm (used to calculate 'euclidean' distance)\n",
    "\n",
    "import random\n",
    "from numpy.random import normal\n",
    "import matplotlib.pyplot as plt\n",
    "import matplotlib.pyplot as plt\n",
    "import matplotlib.tri as tri\n",
    "from seaborn import pairplot\n",
    "from seaborn import jointplot\n",
    "import pandas as pd\n",
    "from parflowio.pyParflowio import PFData\n",
    "# import pygmmis <- This was the default but it doesn't work very well\n",
    "from sklearn.mixture import GaussianMixture as GMM\n",
    "import sys\n",
    "import os\n",
    "from datetime import datetime\n",
    "\n",
    "# for machine learning\n",
    "import torch\n",
    "import torch.nn as nn\n",
    "from torch.utils.data import TensorDataset # for refactoring x and y\n",
    "from torch.utils.data import DataLoader # for batch submission\n",
    "from torch.autograd import Variable\n",
    "import torch.nn.functional as F\n",
    "from torch.distributions import Independent, Uniform\n",
    "from torch.distributions.log_normal import LogNormal\n",
    "\n",
    "# for scaling\n",
    "from sklearn.preprocessing import MinMaxScaler\n",
    "\n",
    "# for stats\n",
    "sys.path.append('/home/qh8373/SBI_TAYLOR/sbi_taylor/scripts/05_utils/')\n",
    "from assessutils import compute_stats\n",
    "import re\n",
    "from scipy.stats import mode\n",
    "\n",
    "# helpers\n",
    "sys.path.append('/home/qh8373/SBI_TAYLOR/sbi_taylor/scripts/03_sbi_lstm/')\n",
    "from sbi_build import simulate\n",
    "\n",
    "# Path to the SandTank Repo\n",
    "dev_path = '/home/SHARED/ML_TV/HydroGEN/modules/'\n",
    "#Add Sand Tank path to the sys path\n",
    "sys.path.append(dev_path)\n",
    "from transform import float32_clamp_scaling\n",
    "\n",
    "# user defined functions\n",
    "sys.path.append('/home/qh8373/SBI_TAYLOR/sbi_taylor/scripts/05_utils/')\n",
    "from genutils import PFread, plot_stuff, convertNumpy\n",
    "from ensembleutils import assembleYears, assembleAllForcings, parseAllMetadata, returnDF_ens, returnAOC_ens, _ret_MinMax, _ret_AOCMinMax\n",
    "from assessutils import compute_stats\n",
    "from scalerutils import scaled_ens_Values, scaledForcingData, scaledAOCData\n",
    "from posteriorsamputils import statTheta, genProbThetas, gen_Fit_Series_Wrapper\n",
    "from summaryutils import summary, setStatSim\n",
    "from sbiutils import retStatTyp, parseListDf, parseUniqueParams\n",
    "from sbiutils import reshape_y, createYHatList, createYHat\n",
    "from interputils import *\n",
    "\n",
    "import matplotlib.pyplot as plt\n",
    "import pandas as pd\n",
    "import numpy as np\n",
    "import numpy.ma as ma\n",
    "import matplotlib.pyplot as plt\n",
    "import matplotlib.colors as colors\n",
    "import matplotlib.image as mpimg\n",
    "import matplotlib.cm as cm\n",
    "import matplotlib.cbook as cbook\n",
    "from matplotlib.path import Path\n",
    "from matplotlib.patches import PathPatch\n",
    "import matplotlib.tri as tri\n",
    "import pickle\n",
    "import sys\n",
    "import torch\n",
    "\n",
    "import scipy\n",
    "from scipy.spatial import distance"
   ]
  },
  {
   "cell_type": "markdown",
   "metadata": {},
   "source": [
    "## 3. Sample posterior, P(`theta | q_surr_all = q_PF_obs`)\n",
    "* Default routine samples each posterior just once"
   ]
  },
  {
   "cell_type": "markdown",
   "metadata": {},
   "source": [
    "## 4. Interpretive Plots\n"
   ]
  },
  {
   "cell_type": "markdown",
   "metadata": {},
   "source": [
    "# -------------------------------------"
   ]
  },
  {
   "cell_type": "markdown",
   "metadata": {},
   "source": [
    "### *Dimension 1* - Using the single surrogate model from `lstm_A`\n",
    "### Loading SBI Posteriors"
   ]
  },
  {
   "cell_type": "code",
   "execution_count": 2,
   "metadata": {},
   "outputs": [
    {
     "name": "stdout",
     "output_type": "stream",
     "text": [
      "0819_01_mod2_02_05_lstm_A_0206_01_full_surrogate\n",
      "warning: file exists\n",
      "/home/qh8373/SBI_TAYLOR/data/06_interp_out/experiments/0819_01_mod2_02_05_lstm_A_0206_01_full_surrogate/\n"
     ]
    }
   ],
   "source": [
    "# Directories\n",
    "sbi_run  = '0819_01_mod2_02_05_lstm_A_0206_01_full_surrogate'\n",
    "print(sbi_run)\n",
    "sbi_dir = f'/home/qh8373/SBI_TAYLOR/data/05_sbi_out/{sbi_run}/'\n",
    "save_dir = f'/home/qh8373/SBI_TAYLOR/data/06_interp_out/experiments/{sbi_run}/'\n",
    "\n",
    "try:\n",
    "    os.mkdir(f'{save_dir}')\n",
    "except:\n",
    "    print('warning: file exists')\n",
    "    pass\n",
    "\n",
    "print(save_dir)\n",
    "\n",
    "lstm_name = '02_05_lstm_A'\n",
    "lstm_path = f'/home/qh8373/SBI_TAYLOR/data/04_lstm_out/{lstm_name}/'\n",
    "\n",
    "# load lstm info\n",
    "with open(lstm_path+'list_df_cond.pkl', 'rb') as fp:\n",
    "    list_df_cond = pickle.load(fp)"
   ]
  },
  {
   "cell_type": "markdown",
   "metadata": {},
   "source": [
    "### a. Interpretive plots for each synthetic observations, parameters only"
   ]
  },
  {
   "cell_type": "markdown",
   "metadata": {},
   "source": [
    "#### Selection Criteria and Load Posterior"
   ]
  },
  {
   "cell_type": "code",
   "execution_count": 3,
   "metadata": {},
   "outputs": [],
   "source": [
    "# Selection Criteria\n",
    "sub = 0 # Posterior Sub (Lsim=0 to 10)\n",
    "idx = 1 #PF:LSTM, 0=82, 1=83, .... #Observation\n",
    "lstm_idx = 0 #LSTM number in ensemble, nb: should be the same idx as that used in inference = 0\n",
    "n_samples = 5000 \n",
    "sbi_dir_sub = f'{sbi_dir}{sub}/'\n",
    "\n",
    "add_noise=True\n",
    "f_noise=1e-2\n",
    "\n",
    "# load posterior\n",
    "with open(sbi_dir_sub+'posterior.pkl', 'rb') as fp:\n",
    "    posterior = pickle.load(fp)"
   ]
  },
  {
   "cell_type": "markdown",
   "metadata": {},
   "source": [
    "#### General loading for posterior sampling"
   ]
  },
  {
   "cell_type": "code",
   "execution_count": 4,
   "metadata": {},
   "outputs": [],
   "source": [
    "'''\n",
    "ParFlow truth loads\n",
    "lstm_df_cond should be loaded\n",
    "to test ParFlow truths on models trained with LSTMs and previous tested with LSTM synthetic truths\n",
    "'''\n",
    "DataX_test, DataY_test, series_len, lstm_out_list = parseListDf(list_df_cond)\n",
    "test_params, num_params, num_unique, DataX_test = parseUniqueParams(DataX_test, series_len)\n",
    "\n",
    "\n",
    "'''\n",
    "sample observation (y_hat) and 'correct' parameter (true_theta)\n",
    "    y_hat_full is the full timeseries (important for embed and summary stat method)\n",
    "'''\n",
    "true_theta = test_params[idx]"
   ]
  },
  {
   "cell_type": "markdown",
   "metadata": {},
   "source": [
    "#### Load y_hat_emulated"
   ]
  },
  {
   "cell_type": "code",
   "execution_count": 5,
   "metadata": {},
   "outputs": [
    {
     "name": "stderr",
     "output_type": "stream",
     "text": [
      "/home/qh8373/SBI_TAYLOR/sbi_taylor/scripts/05_utils/sbiutils.py:110: UserWarning: To copy construct from a tensor, it is recommended to use sourceTensor.clone().detach() or sourceTensor.clone().detach().requires_grad_(True), rather than torch.tensor(sourceTensor).\n",
      "  return torch.tensor(y_out)\n"
     ]
    }
   ],
   "source": [
    "# emulated streamflow\n",
    "y_hat_full = reshape_y(simulate(DataX=DataX_test, theta=true_theta, lstm=lstm_out_list[lstm_idx]))\n",
    "y_hat = createYHat(y_hat_full, stat_method='full', stat_typ=None, embed_type=None)\n"
   ]
  },
  {
   "cell_type": "markdown",
   "metadata": {},
   "source": [
    "#### Sample Posterior (ParFlow)\n",
    "* nb: to check for bias"
   ]
  },
  {
   "cell_type": "code",
   "execution_count": 6,
   "metadata": {},
   "outputs": [
    {
     "data": {
      "application/vnd.jupyter.widget-view+json": {
       "model_id": "4f99f0d1b2704a239c9ffe1e59edb3cb",
       "version_major": 2,
       "version_minor": 0
      },
      "text/plain": [
       "HBox(children=(FloatProgress(value=0.0, description='Drawing 5000 posterior samples', max=5000.0, style=Progre…"
      ]
     },
     "metadata": {},
     "output_type": "display_data"
    },
    {
     "name": "stdout",
     "output_type": "stream",
     "text": [
      "\n",
      "the theta value is tensor([0.5995, 0.8495]) \n",
      "\n",
      "PARFLOW\n"
     ]
    },
    {
     "name": "stderr",
     "output_type": "stream",
     "text": [
      "<ipython-input-6-42710865eae3>:26: UserWarning: To copy construct from a tensor, it is recommended to use sourceTensor.clone().detach() or sourceTensor.clone().detach().requires_grad_(True), rather than torch.tensor(sourceTensor).\n",
      "  points=torch.tensor(true_theta),\n"
     ]
    },
    {
     "data": {
      "image/png": "[encoded data removed]",
      "text/plain": [
       "<Figure size 432x432 with 4 Axes>"
      ]
     },
     "metadata": {
      "needs_background": "light"
     },
     "output_type": "display_data"
    }
   ],
   "source": [
    "# PF\n",
    "unique_series_PF = createYHatList(DataY_test, series_len, num_unique,\n",
    "                stat_method='full', stat_typ=None, embed_type=None)\n",
    "unique_series_full_PF = createYHatList(DataY_test, series_len, num_unique,\n",
    "                    stat_method='full', stat_typ=None, embed_type=None)\n",
    "y_hat_PF = unique_series_PF[idx]\n",
    "y_hat_full_PF = unique_series_full_PF[idx]\n",
    "\n",
    "'''\n",
    "sample posterior and create log probability\n",
    "'''\n",
    "# PF\n",
    "# - given observation(s), sample posterior, evaluate probability, and plot\n",
    "posterior_samples_PF = posterior.sample((n_samples,), x=y_hat_PF) # type - tensor object\n",
    "# posterior_samples_simulations = bulk_simulate(posterior_samples, num_days, n_samples, ensemble_path, model_path)\n",
    "log_probability_PF = posterior.log_prob(posterior_samples_PF, x=y_hat_PF).unsqueeze(1) # type - tensor object\n",
    "\n",
    "\n",
    "'''\n",
    "Pairplot\n",
    "'''\n",
    "print('the theta value is', true_theta, '\\n')\n",
    "\n",
    "print('PARFLOW')\n",
    "fig, ax = analysis.pairplot(posterior_samples_PF, \n",
    "                               points=torch.tensor(true_theta),\n",
    "                               limits=[[0, 1],[0, 1]], \n",
    "                               figsize=(6,6)) # \n",
    "# fig.savefig(f'{save_dir}pair_plot_lstmidx_{lstm_idx}_sub_{sub}_runidx_{idx}_PF.png')\n",
    "# fig.savefig(f'{save_dir}pair_plot_lstmidx_{lstm_idx}_sub_{sub}_runidx_{idx}_PF.eps', format='eps')\n",
    "\n",
    "plt.show()\n",
    "\n"
   ]
  },
  {
   "cell_type": "markdown",
   "metadata": {},
   "source": [
    "### b. Interpretive plots for each synthetic observations, streamflow timeseries only"
   ]
  },
  {
   "cell_type": "markdown",
   "metadata": {},
   "source": [
    "#### Bootstrap + Get Truth (ParFlow)"
   ]
  },
  {
   "cell_type": "code",
   "execution_count": 7,
   "metadata": {},
   "outputs": [],
   "source": [
    "'''\n",
    "bootstrap\n",
    "'''\n",
    "# PARFLOW\n",
    "boots_params_PF, boots_logprob_PF, idxs_PF = randBootstrap(posterior_samples_PF, log_probability_PF)\n",
    "\n",
    "'''\n",
    "get 'truth'\n",
    "'''\n",
    "# PARFLOW\n",
    "y_hat_plot_PF = y_hat_full_PF.T.detach().numpy()\n",
    "y_len = len(y_hat_plot_PF)\n"
   ]
  },
  {
   "cell_type": "markdown",
   "metadata": {},
   "source": [
    "#### Run Forward Simulations (ParFlow)"
   ]
  },
  {
   "cell_type": "code",
   "execution_count": 8,
   "metadata": {},
   "outputs": [
    {
     "name": "stdout",
     "output_type": "stream",
     "text": [
      "Caution, multiple emulators available\n"
     ]
    }
   ],
   "source": [
    "# generate forward simulations\n",
    "if len(lstm_out_list) > 1:\n",
    "    print('Caution, multiple emulators available')\n",
    "\n",
    "y_sims_PF = genSimulation(DataX_test, boots_params_PF, lstm_out_list,\n",
    "                          add_noise=True,f_noise=1e-02, lstm_idx=lstm_idx, y_len=y_len)\n",
    "\n"
   ]
  },
  {
   "cell_type": "markdown",
   "metadata": {},
   "source": [
    "#### Plot time series (ParFlow)"
   ]
  },
  {
   "cell_type": "code",
   "execution_count": 9,
   "metadata": {
    "scrolled": false
   },
   "outputs": [
    {
     "name": "stdout",
     "output_type": "stream",
     "text": [
      "Parflow, 1 simulator\n"
     ]
    },
    {
     "data": {
      "image/png": "[encoded data removed]",
      "text/plain": [
       "<Figure size 720x360 with 1 Axes>"
      ]
     },
     "metadata": {
      "needs_background": "light"
     },
     "output_type": "display_data"
    }
   ],
   "source": [
    "x = np.linspace(0,len(y_hat_plot_PF)-1, len(y_hat_plot_PF))\n",
    "\n",
    "# PARFLOW\n",
    "print('Parflow, 1 simulator')\n",
    "fig, ax = plt.subplots(figsize=(10, 5))\n",
    "sub_sub = \"{:02d}\".format(idx)\n",
    "\n",
    "# ax.plot(y_sims_PF.T, color='blue', alpha=0.25, zorder=0)# , label='y_sims')\n",
    "ax.plot(y_sims_PF.T.min(axis=1), color='blue', linewidth=1, zorder=0, label='min')\n",
    "ax.plot(y_sims_PF.T.max(axis=1), color='blue', linewidth=1, zorder=0, label='max')\n",
    "ax.plot(np.mean(y_sims_PF.T,axis=1), color='red', linewidth=1, label='mean', zorder=2)\n",
    "ax.plot(y_hat_plot_PF, color='green', linewidth=2, label='y_hat', zorder=1)\n",
    "ax.fill_between(x, y_sims_PF.T.min(axis=1), y_sims_PF.T.max(axis=1), color='blue', zorder=0, alpha=0.5)\n",
    "\n",
    "ax.set_ylim(0,1)\n",
    "ax.legend()\n",
    "# fig.savefig(f'{save_dir}streamflow_series_{sub}_runidx_{idx}_PF.png')\n",
    "# fig.savefig(f'{save_dir}streamflow_series_{sub}_runidx_{idx}_PF.eps', format='eps')\n",
    "plt.show()"
   ]
  },
  {
   "cell_type": "markdown",
   "metadata": {},
   "source": [
    "### *Dimension 3b* - Ensemble of weakly-trained surrogates -  Increase the diversity of our system representations to combat bias.\n",
    "### Loading SBI Posteriors"
   ]
  },
  {
   "cell_type": "code",
   "execution_count": 10,
   "metadata": {},
   "outputs": [
    {
     "name": "stdout",
     "output_type": "stream",
     "text": [
      "0819_01_mod2_02_09_lstm_C_0210_01_full_surrogate\n",
      "warning: file exists\n",
      "/home/qh8373/SBI_TAYLOR/data/06_interp_out/experiments/0819_01_mod2_02_09_lstm_C_0210_01_full_surrogate/\n"
     ]
    }
   ],
   "source": [
    "# Directories\n",
    "sbi_run  = '0819_01_mod2_02_09_lstm_C_0210_01_full_surrogate'\n",
    "print(sbi_run)\n",
    "sbi_dir = f'/home/qh8373/SBI_TAYLOR/data/05_sbi_out/{sbi_run}/'\n",
    "save_dir = f'/home/qh8373/SBI_TAYLOR/data/06_interp_out/experiments/{sbi_run}/'\n",
    "\n",
    "try:\n",
    "    os.mkdir(f'{save_dir}')\n",
    "except:\n",
    "    print('warning: file exists')\n",
    "    pass\n",
    "\n",
    "print(save_dir)\n",
    "\n",
    "lstm_name = '02_09_lstm_C'\n",
    "lstm_path = f'/home/qh8373/SBI_TAYLOR/data/04_lstm_out/{lstm_name}/'\n",
    "\n",
    "# load lstm info\n",
    "with open(lstm_path+'list_df_cond.pkl', 'rb') as fp:\n",
    "    list_df_cond = pickle.load(fp)"
   ]
  },
  {
   "cell_type": "markdown",
   "metadata": {},
   "source": [
    "### a. Interpretive plots for each synthetic observations, parameters only"
   ]
  },
  {
   "cell_type": "markdown",
   "metadata": {},
   "source": [
    "#### Selection Criteria and Load Posterior"
   ]
  },
  {
   "cell_type": "code",
   "execution_count": 11,
   "metadata": {},
   "outputs": [],
   "source": [
    "# Selection Criteria\n",
    "sub = 0 # Posterior Sub (Lsim=0 to 10)\n",
    "idx = 1 #PF:LSTM, 0=82, 1=83, .... #Observation\n",
    "lstm_idx = 0 #LSTM number in ensemble, nb: should be the same idx as that used in inference = 0\n",
    "n_samples = 5000 \n",
    "sbi_dir_sub = f'{sbi_dir}{sub}/'\n",
    "\n",
    "stat_method = 'full'\n",
    "stat_typ = None\n",
    "embed_type = None\n",
    "out_dim = None\n",
    "\n",
    "add_noise = False\n",
    "f_noise = 1e-2\n",
    "rand_lstm = True\n",
    "\n",
    "# load posterior\n",
    "with open(sbi_dir_sub+'posterior.pkl', 'rb') as fp:\n",
    "    posterior = pickle.load(fp)"
   ]
  },
  {
   "cell_type": "markdown",
   "metadata": {},
   "source": [
    "#### General loading for posterior sampling"
   ]
  },
  {
   "cell_type": "code",
   "execution_count": 12,
   "metadata": {},
   "outputs": [],
   "source": [
    "'''\n",
    "ParFlow truth loads\n",
    "lstm_df_cond should be loaded\n",
    "to test ParFlow truths on models trained with LSTMs and previous tested with LSTM synthetic truths\n",
    "'''\n",
    "DataX_test, DataY_test, series_len, lstm_out_list = parseListDf(list_df_cond)\n",
    "test_params, num_params, num_unique, DataX_test = parseUniqueParams(DataX_test, series_len)\n",
    "\n",
    "\n",
    "'''\n",
    "sample observation (y_hat) and 'correct' parameter (true_theta)\n",
    "    y_hat_full is the full timeseries (important for embed and summary stat method)\n",
    "'''\n",
    "true_theta = test_params[idx]"
   ]
  },
  {
   "cell_type": "markdown",
   "metadata": {},
   "source": [
    "#### Load y_hat_emulated (ensemble)"
   ]
  },
  {
   "cell_type": "code",
   "execution_count": 13,
   "metadata": {},
   "outputs": [
    {
     "name": "stderr",
     "output_type": "stream",
     "text": [
      "/home/qh8373/SBI_TAYLOR/sbi_taylor/scripts/05_utils/sbiutils.py:110: UserWarning: To copy construct from a tensor, it is recommended to use sourceTensor.clone().detach() or sourceTensor.clone().detach().requires_grad_(True), rather than torch.tensor(sourceTensor).\n",
      "  return torch.tensor(y_out)\n"
     ]
    }
   ],
   "source": [
    "# emulated streamflow\n",
    "y_hat_full_ensemble = np.array([reshape_y(simulate(DataX=DataX_test, theta=true_theta, lstm=lstm_out_list[ens_idx]))[0,:].clone().detach().numpy() for ens_idx in range(10)])\n"
   ]
  },
  {
   "cell_type": "markdown",
   "metadata": {},
   "source": [
    "#### Sample Posterior (ParFlow)\n",
    "* nb: to check for bias"
   ]
  },
  {
   "cell_type": "code",
   "execution_count": 14,
   "metadata": {},
   "outputs": [
    {
     "data": {
      "application/vnd.jupyter.widget-view+json": {
       "model_id": "f16af9a28035497fa528c333d53227b2",
       "version_major": 2,
       "version_minor": 0
      },
      "text/plain": [
       "HBox(children=(FloatProgress(value=0.0, description='Drawing 5000 posterior samples', max=5000.0, style=Progre…"
      ]
     },
     "metadata": {},
     "output_type": "display_data"
    },
    {
     "name": "stdout",
     "output_type": "stream",
     "text": [
      "\n",
      "the theta value is tensor([0.5995, 0.8495]) \n",
      "\n",
      "PARFLOW\n"
     ]
    },
    {
     "name": "stderr",
     "output_type": "stream",
     "text": [
      "<ipython-input-14-42abb9dd69d5>:26: UserWarning: To copy construct from a tensor, it is recommended to use sourceTensor.clone().detach() or sourceTensor.clone().detach().requires_grad_(True), rather than torch.tensor(sourceTensor).\n",
      "  points=torch.tensor(true_theta),\n"
     ]
    },
    {
     "data": {
      "image/png": "[encoded data removed]",
      "text/plain": [
       "<Figure size 432x432 with 4 Axes>"
      ]
     },
     "metadata": {
      "needs_background": "light"
     },
     "output_type": "display_data"
    }
   ],
   "source": [
    "# PF\n",
    "unique_series_PF = createYHatList(DataY_test, series_len, num_unique,\n",
    "                stat_method=stat_method, stat_typ=stat_typ, embed_type=embed_type)\n",
    "unique_series_full_PF = createYHatList(DataY_test, series_len, num_unique,\n",
    "                    stat_method='full', stat_typ=None, embed_type=None)\n",
    "y_hat_PF = unique_series_PF[idx]\n",
    "y_hat_full_PF = unique_series_full_PF[idx]\n",
    "\n",
    "'''\n",
    "sample posterior and create log probability\n",
    "'''\n",
    "# PF\n",
    "# - given observation(s), sample posterior, evaluate probability, and plot\n",
    "posterior_samples_PF = posterior.sample((n_samples,), x=y_hat_PF) # type - tensor object\n",
    "# posterior_samples_simulations = bulk_simulate(posterior_samples, num_days, n_samples, ensemble_path, model_path)\n",
    "log_probability_PF = posterior.log_prob(posterior_samples_PF, x=y_hat_PF).unsqueeze(1) # type - tensor object\n",
    "\n",
    "\n",
    "'''\n",
    "Pairplot\n",
    "'''\n",
    "print('the theta value is', true_theta, '\\n')\n",
    "\n",
    "print('PARFLOW')\n",
    "fig, ax = analysis.pairplot(posterior_samples_PF, \n",
    "                               points=torch.tensor(true_theta),\n",
    "                               limits=[[0, 1],[0, 1]], \n",
    "                               figsize=(6,6)) # \n",
    "# fig.savefig(f'{save_dir}pair_plot_lstmidx_{lstm_idx}_sub_{sub}_runidx_{idx}_PF.png')\n",
    "# fig.savefig(f'{save_dir}pair_plot_lstmidx_{lstm_idx}_sub_{sub}_runidx_{idx}_PF.eps', format='eps')\n",
    "\n",
    "plt.show()\n",
    "\n"
   ]
  },
  {
   "cell_type": "markdown",
   "metadata": {},
   "source": [
    "### b. Interpretive plots for each synthetic observations, streamflow timeseries only"
   ]
  },
  {
   "cell_type": "markdown",
   "metadata": {},
   "source": [
    "#### Bootstrap + Get Truth (ParFlow)"
   ]
  },
  {
   "cell_type": "code",
   "execution_count": 15,
   "metadata": {},
   "outputs": [],
   "source": [
    "'''\n",
    "bootstrap\n",
    "'''\n",
    "# PARFLOW\n",
    "boots_params_PF, boots_logprob_PF, idxs_PF = randBootstrap(posterior_samples_PF, log_probability_PF)\n",
    "\n",
    "'''\n",
    "get 'truth'\n",
    "'''\n",
    "# PARFLOW\n",
    "y_hat_plot_PF = y_hat_full_PF.T.detach().numpy()\n",
    "y_len = len(y_hat_plot_PF)\n"
   ]
  },
  {
   "cell_type": "markdown",
   "metadata": {},
   "source": [
    "#### Run Forward Simulations (ParFlow)"
   ]
  },
  {
   "cell_type": "code",
   "execution_count": 16,
   "metadata": {},
   "outputs": [
    {
     "name": "stdout",
     "output_type": "stream",
     "text": [
      "Caution, multiple emulators available\n",
      "10\n",
      "0.02402058243751526\n"
     ]
    }
   ],
   "source": [
    "# generate forward simulations\n",
    "if len(lstm_out_list) > 1:\n",
    "    print('Caution, multiple emulators available')\n",
    "\n",
    "y_sims_PF = genSimulation(DataX_test, boots_params_PF, lstm_out_list,\n",
    "                          add_noise=add_noise, f_noise=f_noise,\n",
    "                           rand_lstm=rand_lstm,\n",
    "                           lstm_idx=lstm_idx, y_len=y_len)\n",
    "\n",
    "print(len(lstm_out_list))\n",
    "print(y_sims_PF[0,200])"
   ]
  },
  {
   "cell_type": "markdown",
   "metadata": {},
   "source": [
    "#### Plot time series (ParFlow)"
   ]
  },
  {
   "cell_type": "code",
   "execution_count": 17,
   "metadata": {
    "scrolled": true
   },
   "outputs": [
    {
     "name": "stdout",
     "output_type": "stream",
     "text": [
      "Parflow\n"
     ]
    },
    {
     "data": {
      "image/png": "[encoded data removed]",
      "text/plain": [
       "<Figure size 720x360 with 1 Axes>"
      ]
     },
     "metadata": {
      "needs_background": "light"
     },
     "output_type": "display_data"
    }
   ],
   "source": [
    "# PARFLOW\n",
    "print('Parflow')\n",
    "fig, ax = plt.subplots(figsize=(10, 5))\n",
    "sub_sub = \"{:02d}\".format(idx)\n",
    "\n",
    "# ax.plot(y_sims_PF.T, color='blue', alpha=0.25, zorder=0)# , label='y_sims')\n",
    "ax.plot(y_sims_PF.T.min(axis=1), color='blue', linewidth=1, zorder=0, label='min')\n",
    "ax.plot(y_sims_PF.T.max(axis=1), color='blue', linewidth=1, zorder=0, label='max')\n",
    "ax.plot(np.mean(y_sims_PF.T,axis=1), color='red', linewidth=1, label='mean', zorder=2)\n",
    "ax.plot(y_hat_plot_PF, color='green', linewidth=2, label='y_hat', zorder=1)\n",
    "ax.fill_between(x, y_sims_PF.T.min(axis=1), y_sims_PF.T.max(axis=1), color='blue', zorder=0, alpha=0.5)\n",
    "\n",
    "ax.set_ylim(0,1)\n",
    "ax.legend()\n",
    "# fig.savefig(f'{save_dir}streamflow_series_{sub}_runidx_{idx}_PF.png')\n",
    "# fig.savefig(f'{save_dir}streamflow_series_{sub}_runidx_{idx}_PF.eps', format='eps')\n",
    "plt.show()"
   ]
  },
  {
   "cell_type": "markdown",
   "metadata": {},
   "source": [
    "## Check Bias"
   ]
  },
  {
   "cell_type": "code",
   "execution_count": 2,
   "metadata": {},
   "outputs": [],
   "source": [
    "def _check_y(y):\n",
    "    '''\n",
    "    checks dimensions, converts to numpy\n",
    "    '''\n",
    "    if isinstance(y, torch.Tensor):\n",
    "        y_o = y.clone().detach().numpy()\n",
    "    else:\n",
    "        y_o = y\n",
    "        \n",
    "    return y_o.flatten()\n",
    "    \n",
    "def _make_res_mets(y_hat, y_made):\n",
    "    '''\n",
    "    Makes metrics and arrays related to residuals\n",
    "    '''\n",
    "    # flatten\n",
    "    y_hat = _check_y(y_hat)\n",
    "    y_made = _check_y(y_made)\n",
    "    \n",
    "    # residuals\n",
    "    res_arr = (y_made - y_hat)\n",
    "\n",
    "    # metrics\n",
    "    mean_res = res_arr.mean()\n",
    "    std_res = res_arr.std()\n",
    "    cor_res = np.corrcoef(res_arr)\n",
    "    \n",
    "    return res_arr, mean_res, std_res, cor_res\n",
    "\n",
    "def _make_hist_mets(y_hat, y_made):\n",
    "    '''\n",
    "    \n",
    "    '''\n",
    "    # make stuff\n",
    "    res_arr, mean_res, std_res, cor_res = _make_res_mets(y_hat, y_made)\n",
    "    \n",
    "    # Normalize the residual by atandard deviation\n",
    "    res_std_res = res_arr / std_res\n",
    "    res_median = np.quantile(res_std_res, q=0.5)\n",
    "\n",
    "    # Standard Normal\n",
    "    std_norm_arr = np.random.randn(350*10)\n",
    "    std_norm_arr = std_norm_arr/std_norm_arr.std()\n",
    "    \n",
    "    return res_std_res, res_median, std_norm_arr\n",
    "\n",
    "def _plt_res_time(y_hat, y_made, kernal_size=14, save=False, save_suite=None):\n",
    "    '''\n",
    "    plots residuals through time\n",
    "    '''\n",
    "    plt.subplots(figsize=(10,5))\n",
    "    \n",
    "    # make stuff\n",
    "    res_arr, mean_res, std_res, cor_res = _make_res_mets(y_hat, y_made)\n",
    "    \n",
    "    # running average\n",
    "    kernal_size = 14\n",
    "    kernal_arr = np.ones(14)/14\n",
    "    res_conv = np.convolve(res_arr, kernal_arr, mode='same')\n",
    "    \n",
    "    # plot\n",
    "    plt.plot(res_arr, color='blue', label='residuals') # residuals\n",
    "    plt.plot(res_conv, color='red', label='14-day Ave') # moving average\n",
    "    plt.title('Model Residuals, ParFlow and LSTM')\n",
    "    plt.ylim(-0.1, 0.1)\n",
    "    plt.xlabel('Time, Days')\n",
    "    plt.ylabel('Res = Y_LSTM - Y-ParFlow, [scaled streamflow units]')\n",
    "    plt.legend(loc = 'lower left')\n",
    "\n",
    "    textstr = '\\n'.join((\n",
    "        r'mean=%.2f' % mean_res,\n",
    "        r'std=%.2f' % std_res,\n",
    "        r'corrcoef=%.2f' % cor_res))\n",
    "\n",
    "\n",
    "    # place a text box in upper left in axes coords\n",
    "    plt.text(0.5, 0.075, textstr, fontsize=12,\n",
    "            verticalalignment='top')\n",
    "    \n",
    "    if save:\n",
    "        plt.savefig(f'{save_suite}_res_time.png')\n",
    "        plt.savefig(f'{save_suite}_res_time.eps', format='eps')\n",
    "\n",
    "    plt.show()\n",
    "    \n",
    "    return None\n",
    "\n",
    "\n",
    "def _make_res_scatter(y_hat, y_made, save=False, save_suite=None):\n",
    "    '''\n",
    "    Making Scatters\n",
    "    '''\n",
    "    \n",
    "    y_hat = _check_y(y_hat)\n",
    "    y_made = _check_y(y_made)\n",
    "    \n",
    "    res_arr, mean_res, std_res, cor_res = _make_res_mets(y_hat, y_made)\n",
    "    \n",
    "    fig, ax = plt.subplots(1, 2, figsize=(14,6))\n",
    "\n",
    "    # scatter plot with the relationship between residuals and flows, first the residuals, then the absolute of the residuals\n",
    "    ax[0].scatter(y_made, res_arr, color='blue', s=5)\n",
    "    ax[0].set_xlabel('Y_True_LSTTM, Scaled')\n",
    "    ax[0].set_xscale('log')\n",
    "    ax[0].set_xlim(0.0001, 1.0)\n",
    "    ax[0].set_ylabel('Residuals, Scaled')\n",
    "    ax[0].set_ylim(-0.1, 0.1)\n",
    "\n",
    "    ax[1].scatter(y_hat, res_arr, color='blue', s=5)\n",
    "    ax[1].set_xlabel('Y_True_ParFLow, Scaled')\n",
    "    ax[1].set_xscale('log')\n",
    "    ax[1].set_xlim(0.0001, 1.0)\n",
    "    ax[1].set_ylabel('Residuals, Scaled')\n",
    "    ax[1].set_ylim(-0.1, 0.1)\n",
    "\n",
    "    plt.title(\"Residuals vs Flow, scaled\")\n",
    "\n",
    "    \n",
    "    if save:\n",
    "        fig.savefig(f'{save_suite}_res_scatter.png')\n",
    "        fig.savefig(f'{save_suite}_res_scatter.eps', format='eps')\n",
    "        \n",
    "    plt.show()\n",
    "    \n",
    "    return None\n",
    "\n",
    "\n",
    "def _make_res_hist(y_hat, y_made, save=False, save_suite=None):\n",
    "    '''\n",
    "    Making Histograms\n",
    "    '''\n",
    "    res_std_res, res_median, std_norm_arr = _make_hist_mets(y_hat, y_made)\n",
    "\n",
    "    \n",
    "    plt.subplots(figsize=(6,6))\n",
    "\n",
    "    # plot as a histogram\n",
    "    plt.hist(res_std_res,  bins=30, zorder=0, label='residuals', density=True)\n",
    "    plt.hist(std_norm_arr, bins=30, zorder=1, alpha=0.5, label='unit normal', density=True)\n",
    "    plt.plot(np.ones(2)*res_median, np.array([0, 1]), color='red', alpha=2, label='median, residuals')\n",
    "    plt.xlim(-6, 6)\n",
    "    plt.xlabel('Normalized Residual')\n",
    "    plt.ylabel('Density')\n",
    "    plt.ylim(0, 1)\n",
    "    plt.legend()\n",
    "    plt.title('Histogram of Residuals')\n",
    "    \n",
    "    # place a text box in upper left in axes coords\n",
    "    plt.text(0.5, 0.075, r'median=%.2f' % res_median, fontsize=12,\n",
    "            verticalalignment='top')\n",
    "\n",
    "    if save:\n",
    "        plt.savefig(f'{save_suite}_res_hist.png')\n",
    "        plt.savefig(f'{save_suite}_res_hist.eps', format='eps')\n",
    "        \n",
    "    plt.show()\n",
    "    \n",
    "    return None\n",
    "\n",
    "\n",
    "'''\n",
    "ensemble functions\n",
    "'''\n",
    "\n",
    "def _make_res_ens(y_hat, y_made_ens):\n",
    "    '''\n",
    "    Makes metrics and arrays related to residuals\n",
    "    '''\n",
    "    res_ens_arr = np.empty(y_made_ens.shape)\n",
    "    met_ens_arr = np.empty((len(y_made_ens), 3))\n",
    "    \n",
    "    for each in range(len(y_made_ens)):\n",
    "        y_made_temp = y_made_ens[each]\n",
    "\n",
    "        # do stuff\n",
    "        res_ens_arr[each, :] = _make_res_mets(y_hat, y_made_temp)[0]\n",
    "        met_ens_arr[each, :] = _make_res_mets(y_hat, y_made_temp)[1:]\n",
    "        \n",
    "        del y_made_temp\n",
    "        \n",
    "    return res_ens_arr, met_ens_arr\n",
    "\n",
    "def _make_hist_mets_ens(y_hat, y_made_ens):\n",
    "    '''\n",
    "    \n",
    "    '''\n",
    "    # make stuff\n",
    "    res_ens_arr, met_ens_arr = _make_res_ens(y_hat, y_made_ens) # mean_res, std_res, cor_res\n",
    "    \n",
    "    res_arr = res_ens_arr.flatten()\n",
    "    std_res = res_ens_arr.std()\n",
    "    \n",
    "  \n",
    "    # Normalize the residual by atandard deviation\n",
    "    res_std_res = res_arr / std_res\n",
    "    res_median = np.quantile(res_std_res, q=0.5)\n",
    "\n",
    "    # Standard Normal\n",
    "    std_norm_arr = np.random.randn(350*10)\n",
    "    std_norm_arr = std_norm_arr/std_norm_arr.std()\n",
    "    \n",
    "    \n",
    "    return res_std_res, res_median, std_norm_arr\n",
    "\n",
    "\n",
    "def _plt_res_time_ens(y_hat, y_made_ens, kernal_size=14, save=False, save_suite=None):\n",
    "    '''\n",
    "    plots residuals through time\n",
    "    '''\n",
    "    plt.subplots(figsize=(10,5))\n",
    "    \n",
    "    # make stuff\n",
    "    res_ens_arr, met_ens_arr = _make_res_ens(y_hat, y_made_ens)\n",
    "    \n",
    "    # metrics\n",
    "    mean_res, std_res, cor_res = met_ens_arr.mean(axis=0)\n",
    "    \n",
    "    # running average\n",
    "    kernal_size = 14\n",
    "    kernal_arr = np.ones(14)/14\n",
    "    \n",
    "    # convolve\n",
    "    res_conv_ens = np.empty(y_made_ens.shape)\n",
    "    for each in range(len(y_made_ens)):\n",
    "        res_conv_ens[each, :] = np.convolve(res_ens_arr[each], kernal_arr, mode='same')\n",
    "    \n",
    "    res_conv = res_conv_ens.mean(axis=0)\n",
    "    \n",
    "    # plot\n",
    "    plt.plot(res_ens_arr.T, color='blue', label='residuals') # residuals\n",
    "    plt.plot(res_conv, color='red', label='14-day Ave') # moving average\n",
    "    plt.title('Model Residuals, ParFlow and LSTM')\n",
    "    plt.ylim(-0.1, 0.1)\n",
    "    plt.xlabel('Time, Days')\n",
    "    plt.ylabel('Res = Y_LSTM - Y-ParFlow, [scaled streamflow units]')\n",
    "    plt.legend(loc = 'lower left')\n",
    "\n",
    "    textstr = '\\n'.join((\n",
    "        r'mean=%.2f' % mean_res,\n",
    "        r'std=%.2f' % std_res,\n",
    "        r'corrcoef=%.2f' % cor_res))\n",
    "\n",
    "\n",
    "    # place a text box in upper left in axes coords\n",
    "    plt.text(0.5, 0.075, textstr, fontsize=12,\n",
    "            verticalalignment='top')\n",
    "    \n",
    "    if save:\n",
    "        plt.savefig(f'{save_suite}_res_time.png')\n",
    "        plt.savefig(f'{save_suite}_res_time.eps', format='eps')\n",
    "\n",
    "    plt.show()\n",
    "    \n",
    "    return None\n",
    "\n",
    "\n",
    "def _make_res_scatter_ens(y_hat, y_made_ens, save=False, save_suite=None):\n",
    "    '''\n",
    "    Making Scatters\n",
    "    '''    \n",
    "    y_hat = _check_y(y_hat)\n",
    "\n",
    "    # make stuff\n",
    "    res_ens_arr, met_ens_arr = _make_res_ens(y_hat, y_made_ens)\n",
    "    \n",
    "    fig, ax = plt.subplots(1, 2, figsize=(14,6))\n",
    "\n",
    "    # scatter plot with the relationship between residuals and flows, first the residuals, then the absolute of the residuals\n",
    "    for each in range(len(res_ens_arr)):\n",
    "        ax[0].scatter(y_made_ens[each], res_ens_arr[each], color='blue', s=5)\n",
    "    ax[0].set_xlabel('Y_True_LSTTM, Scaled')\n",
    "    ax[0].set_xscale('log')\n",
    "    ax[0].set_xlim(0.0001, 1.0)\n",
    "    ax[0].set_ylabel('Residuals, Scaled')\n",
    "    ax[0].set_ylim(-0.1, 0.1)\n",
    "\n",
    "    for each in range(len(res_ens_arr)):\n",
    "        ax[1].scatter(y_hat, res_ens_arr[each], color='blue', s=5)\n",
    "    ax[1].set_xlabel('Y_True_ParFLow, Scaled')\n",
    "    ax[1].set_xscale('log')\n",
    "    ax[1].set_xlim(0.0001, 1.0)\n",
    "    ax[1].set_ylabel('Residuals, Scaled')\n",
    "    ax[1].set_ylim(-0.1, 0.1)\n",
    "\n",
    "    plt.title(\"Residuals vs Flow, scaled\")\n",
    "\n",
    "    \n",
    "    if save:\n",
    "        fig.savefig(f'{save_suite}_res_scatter.png')\n",
    "        fig.savefig(f'{save_suite}_res_scatter.eps', format='eps')\n",
    "        \n",
    "    plt.show()\n",
    "    \n",
    "    return None\n",
    "\n",
    "\n",
    "def _make_res_hist_ens(y_hat, y_made_ens, save=False, save_suite=None):\n",
    "    '''\n",
    "    Making Histograms\n",
    "    '''\n",
    "    res_std_res, res_median, std_norm_arr = _make_hist_mets_ens(y_hat, y_made_ens)\n",
    "\n",
    "    \n",
    "    plt.subplots(figsize=(6,6))\n",
    "\n",
    "    # plot as a histogram\n",
    "    plt.hist(res_std_res,  bins=30, zorder=0, label='residuals', density=True)\n",
    "    plt.hist(std_norm_arr, bins=30, zorder=1, alpha=0.5, label='unit normal', density=True)\n",
    "    plt.plot(np.ones(2)*res_median, np.array([0, 1]), color='red', alpha=2, label='median, residuals')\n",
    "    plt.xlim(-6, 6)\n",
    "    plt.xlabel('Normalized Residual')\n",
    "    plt.ylabel('Density')\n",
    "    plt.ylim(0, 1)\n",
    "    plt.legend()\n",
    "    plt.title('Histogram of Residuals')\n",
    "    \n",
    "    \n",
    "    # place a text box in upper left in axes coords\n",
    "    plt.text(0.5, 0.075, r'median=%.2f' % res_median, fontsize=12,\n",
    "            verticalalignment='top')\n",
    "    \n",
    "    if save:\n",
    "        plt.savefig(f'{save_suite}_res_hist.png')\n",
    "        plt.savefig(f'{save_suite}_res_hist.eps', format='eps')\n",
    "        \n",
    "    plt.show()\n",
    "    \n",
    "    return None"
   ]
  },
  {
   "cell_type": "markdown",
   "metadata": {},
   "source": [
    "#### LSTM 1, ParFlow - LSTM mapping - 02_05_lstm_A\n"
   ]
  },
  {
   "cell_type": "code",
   "execution_count": 4,
   "metadata": {
    "scrolled": true
   },
   "outputs": [
    {
     "ename": "NameError",
     "evalue": "name 'y_hat_PF' is not defined",
     "output_type": "error",
     "traceback": [
      "\u001b[0;31m---------------------------------------------------------------------------\u001b[0m",
      "\u001b[0;31mNameError\u001b[0m                                 Traceback (most recent call last)",
      "\u001b[0;32m<ipython-input-4-837dba557ffe>\u001b[0m in \u001b[0;36m<module>\u001b[0;34m\u001b[0m\n\u001b[1;32m      5\u001b[0m \u001b[0msave_suite\u001b[0m \u001b[0;34m=\u001b[0m \u001b[0msave_dir\u001b[0m\u001b[0;34m+\u001b[0m\u001b[0msbi_name\u001b[0m\u001b[0;34m+\u001b[0m\u001b[0msuite_name\u001b[0m\u001b[0;34m\u001b[0m\u001b[0;34m\u001b[0m\u001b[0m\n\u001b[1;32m      6\u001b[0m \u001b[0;34m\u001b[0m\u001b[0m\n\u001b[0;32m----> 7\u001b[0;31m \u001b[0m_plt_res_time\u001b[0m\u001b[0;34m(\u001b[0m\u001b[0my_hat\u001b[0m\u001b[0;34m=\u001b[0m\u001b[0my_hat_PF\u001b[0m\u001b[0;34m,\u001b[0m \u001b[0my_made\u001b[0m\u001b[0;34m=\u001b[0m\u001b[0my_hat_full\u001b[0m\u001b[0;34m,\u001b[0m \u001b[0msave\u001b[0m\u001b[0;34m=\u001b[0m\u001b[0;32mTrue\u001b[0m\u001b[0;34m,\u001b[0m \u001b[0msave_suite\u001b[0m\u001b[0;34m=\u001b[0m\u001b[0msave_suite\u001b[0m\u001b[0;34m)\u001b[0m\u001b[0;34m\u001b[0m\u001b[0;34m\u001b[0m\u001b[0m\n\u001b[0m\u001b[1;32m      8\u001b[0m \u001b[0m_make_res_scatter\u001b[0m\u001b[0;34m(\u001b[0m\u001b[0my_hat\u001b[0m\u001b[0;34m=\u001b[0m\u001b[0my_hat_PF\u001b[0m\u001b[0;34m,\u001b[0m \u001b[0my_made\u001b[0m\u001b[0;34m=\u001b[0m\u001b[0my_hat_full\u001b[0m\u001b[0;34m,\u001b[0m \u001b[0msave\u001b[0m\u001b[0;34m=\u001b[0m\u001b[0;32mTrue\u001b[0m\u001b[0;34m,\u001b[0m \u001b[0msave_suite\u001b[0m\u001b[0;34m=\u001b[0m\u001b[0msave_suite\u001b[0m\u001b[0;34m)\u001b[0m\u001b[0;34m\u001b[0m\u001b[0;34m\u001b[0m\u001b[0m\n\u001b[1;32m      9\u001b[0m \u001b[0m_make_res_hist\u001b[0m\u001b[0;34m(\u001b[0m\u001b[0my_hat\u001b[0m\u001b[0;34m=\u001b[0m\u001b[0my_hat_PF\u001b[0m\u001b[0;34m,\u001b[0m \u001b[0my_made\u001b[0m\u001b[0;34m=\u001b[0m\u001b[0my_hat_full\u001b[0m\u001b[0;34m,\u001b[0m \u001b[0msave\u001b[0m\u001b[0;34m=\u001b[0m\u001b[0;32mTrue\u001b[0m\u001b[0;34m,\u001b[0m \u001b[0msave_suite\u001b[0m\u001b[0;34m=\u001b[0m\u001b[0msave_suite\u001b[0m\u001b[0;34m)\u001b[0m\u001b[0;34m\u001b[0m\u001b[0;34m\u001b[0m\u001b[0m\n",
      "\u001b[0;31mNameError\u001b[0m: name 'y_hat_PF' is not defined"
     ]
    }
   ],
   "source": [
    "\n",
    "save_dir = '/home/qh8373/SBI_TAYLOR/data/06_interp_out/experiments/081901_mod2_bias_comprison/'\n",
    "sbi_name = '0819_01_mod2_02_05_lstm_A_0206_01_full_surrogate_'\n",
    "suite_name = f'lstm_idx_{lstm_idx}_sub_{sub}_runidx_{idx}'\n",
    "save_suite = save_dir+sbi_name+suite_name\n",
    "\n",
    "_plt_res_time(y_hat=y_hat_PF, y_made=y_hat_full, save=True, save_suite=save_suite)\n",
    "_make_res_scatter(y_hat=y_hat_PF, y_made=y_hat_full, save=True, save_suite=save_suite)\n",
    "_make_res_hist(y_hat=y_hat_PF, y_made=y_hat_full, save=True, save_suite=save_suite)"
   ]
  },
  {
   "cell_type": "markdown",
   "metadata": {},
   "source": [
    "Looks like the residuals have a pattern through time and tend to be biased slightly high. These are the residuals of the 'true' ParFlow with respect to the 'true' inferred value from the first (simplest LSTM). We note that there is a pattern of the residuals through time that could be a cause of bias. \n",
    "\n",
    "This shows that there is some structure to the residuals with respect to flow. Namely they residuals are clearly related to the magnitude of the flows. But it isn't clear if there are any biases associated with this.\n",
    "\n",
    "Normalized Density shows that we have a somewhat biased model with the residuals on average a bit high"
   ]
  },
  {
   "cell_type": "markdown",
   "metadata": {},
   "source": [
    "#### LSTM 2, ParFlow - LSTM mapping - 02_10_lstm_A"
   ]
  },
  {
   "cell_type": "code",
   "execution_count": 57,
   "metadata": {},
   "outputs": [],
   "source": [
    "# '''\n",
    "# y_hat_full_ensemble\n",
    "# '''\n",
    "\n",
    "# fig, ax = plt.subplots(figsize=(10, 5))\n",
    "# sub_sub = \"{:02d}\".format(idx)\n",
    "\n",
    "# # ax.plot(y_sims_PF.T, color='blue', alpha=0.25, zorder=0)# , label='y_sims')\n",
    "# ax.plot(y_hat_full_ensemble.T, color='blue', linewidth=1, zorder=0, label='simulated, not inferred')\n",
    "# ax.plot(y_hat_plot_PF, color='green', linewidth=2, label='y_hat', zorder=1)\n",
    "\n",
    "# ax.set_ylim(0,1)\n",
    "# ax.legend()\n",
    "# # fig.savefig(f'{save_dir}streamflow_series_{sub}_runidx_{idx}_PF.png')\n",
    "# # fig.savefig(f'{save_dir}streamflow_series_{sub}_runidx_{idx}_PF.eps', format='eps')\n",
    "# plt.show()\n",
    "# plt.show()"
   ]
  },
  {
   "cell_type": "code",
   "execution_count": 61,
   "metadata": {},
   "outputs": [
    {
     "name": "stderr",
     "output_type": "stream",
     "text": [
      "The PostScript backend does not support transparency; partially transparent artists will be rendered opaque.\n",
      "The PostScript backend does not support transparency; partially transparent artists will be rendered opaque.\n"
     ]
    },
    {
     "data": {
      "image/png": "[encoded data removed]",
      "text/plain": [
       "<Figure size 720x360 with 1 Axes>"
      ]
     },
     "metadata": {
      "needs_background": "light"
     },
     "output_type": "display_data"
    },
    {
     "data": {
      "image/png": "[encoded data removed]",
      "text/plain": [
       "<Figure size 1008x432 with 2 Axes>"
      ]
     },
     "metadata": {
      "needs_background": "light"
     },
     "output_type": "display_data"
    },
    {
     "name": "stderr",
     "output_type": "stream",
     "text": [
      "The PostScript backend does not support transparency; partially transparent artists will be rendered opaque.\n",
      "The PostScript backend does not support transparency; partially transparent artists will be rendered opaque.\n",
      "The PostScript backend does not support transparency; partially transparent artists will be rendered opaque.\n",
      "The PostScript backend does not support transparency; partially transparent artists will be rendered opaque.\n",
      "The PostScript backend does not support transparency; partially transparent artists will be rendered opaque.\n",
      "The PostScript backend does not support transparency; partially transparent artists will be rendered opaque.\n",
      "The PostScript backend does not support transparency; partially transparent artists will be rendered opaque.\n",
      "The PostScript backend does not support transparency; partially transparent artists will be rendered opaque.\n",
      "The PostScript backend does not support transparency; partially transparent artists will be rendered opaque.\n",
      "The PostScript backend does not support transparency; partially transparent artists will be rendered opaque.\n",
      "The PostScript backend does not support transparency; partially transparent artists will be rendered opaque.\n",
      "The PostScript backend does not support transparency; partially transparent artists will be rendered opaque.\n",
      "The PostScript backend does not support transparency; partially transparent artists will be rendered opaque.\n",
      "The PostScript backend does not support transparency; partially transparent artists will be rendered opaque.\n",
      "The PostScript backend does not support transparency; partially transparent artists will be rendered opaque.\n",
      "The PostScript backend does not support transparency; partially transparent artists will be rendered opaque.\n",
      "The PostScript backend does not support transparency; partially transparent artists will be rendered opaque.\n",
      "The PostScript backend does not support transparency; partially transparent artists will be rendered opaque.\n",
      "The PostScript backend does not support transparency; partially transparent artists will be rendered opaque.\n",
      "The PostScript backend does not support transparency; partially transparent artists will be rendered opaque.\n",
      "The PostScript backend does not support transparency; partially transparent artists will be rendered opaque.\n",
      "The PostScript backend does not support transparency; partially transparent artists will be rendered opaque.\n",
      "The PostScript backend does not support transparency; partially transparent artists will be rendered opaque.\n",
      "The PostScript backend does not support transparency; partially transparent artists will be rendered opaque.\n",
      "The PostScript backend does not support transparency; partially transparent artists will be rendered opaque.\n",
      "The PostScript backend does not support transparency; partially transparent artists will be rendered opaque.\n",
      "The PostScript backend does not support transparency; partially transparent artists will be rendered opaque.\n",
      "The PostScript backend does not support transparency; partially transparent artists will be rendered opaque.\n",
      "The PostScript backend does not support transparency; partially transparent artists will be rendered opaque.\n",
      "The PostScript backend does not support transparency; partially transparent artists will be rendered opaque.\n",
      "The PostScript backend does not support transparency; partially transparent artists will be rendered opaque.\n",
      "The PostScript backend does not support transparency; partially transparent artists will be rendered opaque.\n",
      "The PostScript backend does not support transparency; partially transparent artists will be rendered opaque.\n",
      "The PostScript backend does not support transparency; partially transparent artists will be rendered opaque.\n",
      "The PostScript backend does not support transparency; partially transparent artists will be rendered opaque.\n"
     ]
    },
    {
     "data": {
      "image/png": "[encoded data removed]",
      "text/plain": [
       "<Figure size 432x432 with 1 Axes>"
      ]
     },
     "metadata": {
      "needs_background": "light"
     },
     "output_type": "display_data"
    }
   ],
   "source": [
    "save_dir = '/home/qh8373/SBI_TAYLOR/data/06_interp_out/experiments/081901_mod2_bias_comprison/'\n",
    "sbi_name = '0819_01_mod2_02_09_lstm_C_0210_01_full_surrogate_'\n",
    "suite_name = f'lstm_idx_all_sub_{sub}_runidx_{idx}'\n",
    "save_suite = save_dir+sbi_name+suite_name\n",
    "\n",
    "_plt_res_time_ens(y_hat=y_hat_PF, y_made_ens=y_hat_full_ensemble, save=True, save_suite=save_suite)\n",
    "_make_res_scatter_ens(y_hat=y_hat_PF, y_made_ens=y_hat_full_ensemble, save=True, save_suite=save_suite)\n",
    "_make_res_hist_ens(y_hat=y_hat_PF, y_made_ens=y_hat_full_ensemble, save=True, save_suite=save_suite)"
   ]
  },
  {
   "cell_type": "code",
   "execution_count": null,
   "metadata": {},
   "outputs": [],
   "source": []
  },
  {
   "cell_type": "code",
   "execution_count": null,
   "metadata": {},
   "outputs": [],
   "source": []
  }
 ],
 "metadata": {
  "kernelspec": {
   "display_name": "Python 3",
   "language": "python",
   "name": "python3"
  },
  "language_info": {
   "codemirror_mode": {
    "name": "ipython",
    "version": 3
   },
   "file_extension": ".py",
   "mimetype": "text/x-python",
   "name": "python",
   "nbconvert_exporter": "python",
   "pygments_lexer": "ipython3",
   "version": "3.8.3"
  }
 },
 "nbformat": 4,
 "nbformat_minor": 4
}
