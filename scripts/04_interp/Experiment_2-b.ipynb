{
 "cells": [
  {
   "cell_type": "markdown",
   "metadata": {},
   "source": [
    "# 1. Experiment 2: \n",
    "\"find parameters for synthetic observation(s) reserved from the process-based model upon which the surrogate model was trained\"\n",
    "1. Build Surrogate of ParFlow streamflow, `lstm_A`\n",
    "2. Construct amortized (full) P(`theta | q_surr_all`) via a Neural Density Estimator, or `NDE`\n",
    "3. Sample posterior, P(`theta | q_surr_all = q_PF_obs`)\n",
    "4. Interpretive Plots\n",
    "\n",
    "##### --------\n",
    "* Steps 1, 2 and embedded in the `lstm_sbi.py` 'run' script\n",
    "* steps 3, 4 are shown below. \n",
    "* See `/home/qh8373/SBI_TAYLOR/sbi_taylor/psuedocode-sbi-experiments.md` for full details about the experiment"
   ]
  },
  {
   "cell_type": "markdown",
   "metadata": {},
   "source": [
    "* NOTES:\n",
    "    * Many Workflows tested and lent from:\n",
    "        * `AGU_Synthesis.ipynb`\n",
    "        * `SBI_Interp_Agg.ipynb`\n",
    "        * `test_lstm_sbi.ipynb`"
   ]
  },
  {
   "cell_type": "code",
   "execution_count": 1,
   "metadata": {},
   "outputs": [
    {
     "name": "stderr",
     "output_type": "stream",
     "text": [
      "/home/SHARED/software/anaconda3/2020.07e/lib/python3.8/site-packages/setuptools/distutils_patch.py:25: UserWarning: Distutils was imported before Setuptools. This usage is discouraged and may exhibit undesirable behaviors or errors. Please use Setuptools' objects directly or at least import Setuptools first.\n",
      "  warnings.warn(\n"
     ]
    }
   ],
   "source": [
    "import os\n",
    "import os.path\n",
    "import sys\n",
    "import shutil\n",
    "from pprint import pprint\n",
    "from datetime import datetime\n",
    "from copy import copy\n",
    "from copy import deepcopy\n",
    "import pickle\n",
    "\n",
    "from parflowio.pyParflowio import PFData\n",
    "\n",
    "import pandas as pd\n",
    "import numpy as np\n",
    "import numpy.ma as ma\n",
    "import matplotlib.pyplot as plt\n",
    "import matplotlib.colors as colors\n",
    "import matplotlib.image as mpimg\n",
    "import matplotlib.cm as cm\n",
    "import matplotlib.cbook as cbook\n",
    "from matplotlib.path import Path\n",
    "from matplotlib.patches import PathPatch\n",
    "import seaborn as sns\n",
    "from seaborn import pairplot\n",
    "from seaborn import jointplot\n",
    "from sklearn.preprocessing import MinMaxScaler\n",
    "from sklearn.preprocessing import QuantileTransformer\n",
    "from sklearn.preprocessing import PowerTransformer\n",
    "\n",
    "from sklearn.utils import shuffle\n",
    "from sklearn.metrics import mean_squared_error\n",
    "import glob\n",
    "\n",
    "\n",
    "from sklearn.preprocessing import MinMaxScaler\n",
    "from sklearn.preprocessing import StandardScaler\n",
    "from sklearn.metrics import r2_score, mean_squared_error\n",
    "\n",
    "import spotpy\n",
    "import spotpy.objectivefunctions as obj_mets\n",
    "\n",
    "\n",
    "# -- Libararies  \n",
    "import os\n",
    "import sys\n",
    "import pickle\n",
    "import torch\n",
    "from random import *\n",
    "\n",
    "# for SBI\n",
    "from sbi import utils as utils\n",
    "from sbi import analysis as analysis\n",
    "from sbi import inference\n",
    "from sbi.inference.base import infer\n",
    "from sbi.inference import SNPE, simulate_for_sbi, prepare_for_sbi\n",
    "from sbi.types import Array, OneOrMore, ScalarFloat\n",
    "\n",
    "from matplotlib import pyplot as plt\n",
    "\n",
    "import numpy as np\n",
    "from numpy import cov\n",
    "from numpy.linalg import det, norm # determinant, norm (used to calculate 'euclidean' distance)\n",
    "\n",
    "import random\n",
    "from numpy.random import normal\n",
    "import matplotlib.pyplot as plt\n",
    "import matplotlib.pyplot as plt\n",
    "import matplotlib.tri as tri\n",
    "from seaborn import pairplot\n",
    "from seaborn import jointplot\n",
    "import pandas as pd\n",
    "from parflowio.pyParflowio import PFData\n",
    "# import pygmmis <- This was the default but it doesn't work very well\n",
    "from sklearn.mixture import GaussianMixture as GMM\n",
    "import sys\n",
    "import os\n",
    "from datetime import datetime\n",
    "\n",
    "# for machine learning\n",
    "import torch\n",
    "import torch.nn as nn\n",
    "from torch.utils.data import TensorDataset # for refactoring x and y\n",
    "from torch.utils.data import DataLoader # for batch submission\n",
    "from torch.autograd import Variable\n",
    "import torch.nn.functional as F\n",
    "from torch.distributions import Independent, Uniform\n",
    "from torch.distributions.log_normal import LogNormal\n",
    "\n",
    "# for scaling\n",
    "from sklearn.preprocessing import MinMaxScaler\n",
    "\n",
    "# for stats\n",
    "sys.path.append('/home/qh8373/SBI_TAYLOR/sbi_taylor/scripts/05_utils/')\n",
    "from assessutils import compute_stats\n",
    "import re\n",
    "from scipy.stats import mode\n",
    "\n",
    "# helpers\n",
    "sys.path.append('/home/qh8373/SBI_TAYLOR/sbi_taylor/scripts/03_sbi_lstm/')\n",
    "from sbi_build import simulate\n",
    "\n",
    "# Path to the SandTank Repo\n",
    "dev_path = '/home/SHARED/ML_TV/HydroGEN/modules/'\n",
    "#Add Sand Tank path to the sys path\n",
    "sys.path.append(dev_path)\n",
    "from transform import float32_clamp_scaling\n",
    "\n",
    "# user defined functions\n",
    "sys.path.append('/home/qh8373/SBI_TAYLOR/sbi_taylor/scripts/05_utils/')\n",
    "from genutils import PFread, plot_stuff, convertNumpy\n",
    "from ensembleutils import assembleYears, assembleAllForcings, parseAllMetadata, returnDF_ens, returnAOC_ens, _ret_MinMax, _ret_AOCMinMax\n",
    "from assessutils import compute_stats\n",
    "from scalerutils import scaled_ens_Values, scaledForcingData, scaledAOCData\n",
    "from posteriorsamputils import statTheta, genProbThetas, gen_Fit_Series_Wrapper\n",
    "from summaryutils import summary, setStatSim\n",
    "from sbiutils import retStatTyp, parseListDf, parseUniqueParams\n",
    "from sbiutils import reshape_y, createYHatList, createYHat\n",
    "from interputils import *\n",
    "\n",
    "import matplotlib.pyplot as plt\n",
    "import pandas as pd\n",
    "import numpy as np\n",
    "import numpy.ma as ma\n",
    "import matplotlib.pyplot as plt\n",
    "import matplotlib.colors as colors\n",
    "import matplotlib.image as mpimg\n",
    "import matplotlib.cm as cm\n",
    "import matplotlib.cbook as cbook\n",
    "from matplotlib.path import Path\n",
    "from matplotlib.patches import PathPatch\n",
    "import matplotlib.tri as tri\n",
    "import pickle\n",
    "import sys\n",
    "import torch\n",
    "\n",
    "import scipy\n",
    "from scipy.spatial import distance"
   ]
  },
  {
   "cell_type": "markdown",
   "metadata": {},
   "source": [
    "## 3. Sample posterior, P(`theta | q_surr_all = q_PF_obs`)\n",
    "* Default routine samples each posterior just once"
   ]
  },
  {
   "cell_type": "markdown",
   "metadata": {},
   "source": [
    "## 4. Interpretive Plots\n"
   ]
  },
  {
   "cell_type": "markdown",
   "metadata": {},
   "source": [
    "# -------------------------------------"
   ]
  },
  {
   "cell_type": "markdown",
   "metadata": {},
   "source": [
    "### *Dimension 1* - Using the single surrogate model from `lstm_A`\n",
    "### Loading SBI Posteriors"
   ]
  },
  {
   "cell_type": "code",
   "execution_count": 2,
   "metadata": {},
   "outputs": [
    {
     "name": "stdout",
     "output_type": "stream",
     "text": [
      "0819_01_mod2_02_05_lstm_A_0206_01_full_surrogate\n",
      "warning: file exists\n",
      "/home/qh8373/SBI_TAYLOR/data/06_interp_out/experiments/0819_01_mod2_02_05_lstm_A_0206_01_full_surrogate/\n"
     ]
    }
   ],
   "source": [
    "# Directories\n",
    "sbi_run  = '0819_01_mod2_02_05_lstm_A_0206_01_full_surrogate'\n",
    "print(sbi_run)\n",
    "sbi_dir = f'/home/qh8373/SBI_TAYLOR/data/05_sbi_out/{sbi_run}/'\n",
    "save_dir = f'/home/qh8373/SBI_TAYLOR/data/06_interp_out/experiments/{sbi_run}/'\n",
    "\n",
    "try:\n",
    "    os.mkdir(f'{save_dir}')\n",
    "except:\n",
    "    print('warning: file exists')\n",
    "    pass\n",
    "\n",
    "print(save_dir)\n",
    "\n",
    "lstm_name = '02_05_lstm_A'\n",
    "lstm_path = f'/home/qh8373/SBI_TAYLOR/data/04_lstm_out/{lstm_name}/'\n",
    "\n",
    "# load lstm info\n",
    "with open(lstm_path+'list_df_cond.pkl', 'rb') as fp:\n",
    "    list_df_cond = pickle.load(fp)"
   ]
  },
  {
   "cell_type": "markdown",
   "metadata": {},
   "source": [
    "### a. Interpretive plots for each synthetic observations, parameters only"
   ]
  },
  {
   "cell_type": "markdown",
   "metadata": {},
   "source": [
    "#### Selection Criteria and Load Posterior"
   ]
  },
  {
   "cell_type": "code",
   "execution_count": 33,
   "metadata": {},
   "outputs": [],
   "source": [
    "# Selection Criteria\n",
    "sub = 0 # Posterior Sub (Lsim=0 to 10)\n",
    "idx = 4 #PF:LSTM, 0=82, 1=83, .... #Observation\n",
    "lstm_idx = 0 #LSTM number in ensemble, nb: should be the same idx as that used in inference = 0\n",
    "n_samples = 5000 \n",
    "sbi_dir_sub = f'{sbi_dir}{sub}/'\n",
    "\n",
    "add_noise=True\n",
    "f_noise=1e-2\n",
    "\n",
    "# load posterior\n",
    "with open(sbi_dir_sub+'posterior.pkl', 'rb') as fp:\n",
    "    posterior = pickle.load(fp)"
   ]
  },
  {
   "cell_type": "markdown",
   "metadata": {},
   "source": [
    "#### General loading for posterior sampling"
   ]
  },
  {
   "cell_type": "code",
   "execution_count": 34,
   "metadata": {},
   "outputs": [],
   "source": [
    "'''\n",
    "ParFlow truth loads\n",
    "lstm_df_cond should be loaded\n",
    "to test ParFlow truths on models trained with LSTMs and previous tested with LSTM synthetic truths\n",
    "'''\n",
    "DataX_test, DataY_test, series_len, lstm_out_list = parseListDf(list_df_cond)\n",
    "test_params, num_params, num_unique, DataX_test = parseUniqueParams(DataX_test, series_len)\n",
    "\n",
    "\n",
    "'''\n",
    "sample observation (y_hat) and 'correct' parameter (true_theta)\n",
    "    y_hat_full is the full timeseries (important for embed and summary stat method)\n",
    "'''\n",
    "true_theta = test_params[idx]"
   ]
  },
  {
   "cell_type": "markdown",
   "metadata": {},
   "source": [
    "#### Sample Posterior (Emulated)"
   ]
  },
  {
   "cell_type": "code",
   "execution_count": 35,
   "metadata": {},
   "outputs": [
    {
     "name": "stderr",
     "output_type": "stream",
     "text": [
      "/home/qh8373/SBI_TAYLOR/sbi_taylor/scripts/05_utils/sbiutils.py:110: UserWarning: To copy construct from a tensor, it is recommended to use sourceTensor.clone().detach() or sourceTensor.clone().detach().requires_grad_(True), rather than torch.tensor(sourceTensor).\n",
      "  return torch.tensor(y_out)\n"
     ]
    },
    {
     "data": {
      "application/vnd.jupyter.widget-view+json": {
       "model_id": "b3db61718e7546c0a710857ec7c1f598",
       "version_major": 2,
       "version_minor": 0
      },
      "text/plain": [
       "HBox(children=(FloatProgress(value=0.0, description='Drawing 5000 posterior samples', max=5000.0, style=Progre…"
      ]
     },
     "metadata": {},
     "output_type": "display_data"
    },
    {
     "name": "stderr",
     "output_type": "stream",
     "text": [
      "<ipython-input-35-d7bf42b045e2>:21: UserWarning: To copy construct from a tensor, it is recommended to use sourceTensor.clone().detach() or sourceTensor.clone().detach().requires_grad_(True), rather than torch.tensor(sourceTensor).\n",
      "  points=torch.tensor(true_theta),\n"
     ]
    },
    {
     "name": "stdout",
     "output_type": "stream",
     "text": [
      "\n",
      "the theta value is tensor([0.7188, 0.2500]) \n",
      "\n",
      "Emulated\n"
     ]
    },
    {
     "data": {
      "image/png": "[encoded data removed]",
      "text/plain": [
       "<Figure size 432x432 with 4 Axes>"
      ]
     },
     "metadata": {
      "needs_background": "light"
     },
     "output_type": "display_data"
    }
   ],
   "source": [
    "# emulated streamflow\n",
    "y_hat_full = reshape_y(simulate(DataX=DataX_test, theta=true_theta, lstm=lstm_out_list[lstm_idx]))\n",
    "y_hat = createYHat(y_hat_full, stat_method='full', stat_typ=None, embed_type=None)\n",
    "\n",
    "'''\n",
    "sample posterior and create log probability\n",
    "'''\n",
    "# emulated\n",
    "# - given observation(s), sample posterior, evaluate probability, and plot\n",
    "posterior_samples = posterior.sample((n_samples,), x=y_hat) # type - tensor object\n",
    "# posterior_samples_simulations = bulk_simulate(posterior_samples, num_days, n_samples, ensemble_path, model_path)\n",
    "log_probability = posterior.log_prob(posterior_samples, x=y_hat).unsqueeze(1) # type - tensor object\n",
    "\n",
    "'''\n",
    "Pairplot\n",
    "'''\n",
    "print('the theta value is', true_theta, '\\n')\n",
    "\n",
    "print('Emulated')\n",
    "fig, ax = analysis.pairplot(posterior_samples, \n",
    "                               points=torch.tensor(true_theta),\n",
    "                               limits=[[0, 1],[0, 1]], \n",
    "                               figsize=(6,6)) # \n",
    "fig.savefig(f'{save_dir}pair_plot_lstmidx_{lstm_idx}_sub_{sub}_runidx_{idx}_emulated.png')\n",
    "fig.savefig(f'{save_dir}pair_plot_lstmidx_{lstm_idx}_sub_{sub}_runidx_{idx}_emulated.eps', format='eps')\n",
    "\n",
    "plt.show()"
   ]
  },
  {
   "cell_type": "markdown",
   "metadata": {},
   "source": [
    "#### Sample Posterior (ParFlow)\n",
    "* nb: to check for bias"
   ]
  },
  {
   "cell_type": "code",
   "execution_count": 36,
   "metadata": {},
   "outputs": [
    {
     "name": "stderr",
     "output_type": "stream",
     "text": [
      "/home/qh8373/SBI_TAYLOR/sbi_taylor/scripts/05_utils/sbiutils.py:110: UserWarning: To copy construct from a tensor, it is recommended to use sourceTensor.clone().detach() or sourceTensor.clone().detach().requires_grad_(True), rather than torch.tensor(sourceTensor).\n",
      "  return torch.tensor(y_out)\n"
     ]
    },
    {
     "data": {
      "application/vnd.jupyter.widget-view+json": {
       "model_id": "825b2979460149d4833b2b0fcfddf26a",
       "version_major": 2,
       "version_minor": 0
      },
      "text/plain": [
       "HBox(children=(FloatProgress(value=0.0, description='Drawing 5000 posterior samples', max=5000.0, style=Progre…"
      ]
     },
     "metadata": {},
     "output_type": "display_data"
    },
    {
     "name": "stderr",
     "output_type": "stream",
     "text": [
      "<ipython-input-36-f65cfd99aa59>:26: UserWarning: To copy construct from a tensor, it is recommended to use sourceTensor.clone().detach() or sourceTensor.clone().detach().requires_grad_(True), rather than torch.tensor(sourceTensor).\n",
      "  points=torch.tensor(true_theta),\n"
     ]
    },
    {
     "name": "stdout",
     "output_type": "stream",
     "text": [
      "\n",
      "the theta value is tensor([0.7188, 0.2500]) \n",
      "\n",
      "PARFLOW\n"
     ]
    },
    {
     "data": {
      "image/png": "[encoded data removed]",
      "text/plain": [
       "<Figure size 432x432 with 4 Axes>"
      ]
     },
     "metadata": {
      "needs_background": "light"
     },
     "output_type": "display_data"
    }
   ],
   "source": [
    "# PF\n",
    "unique_series_PF = createYHatList(DataY_test, series_len, num_unique,\n",
    "                stat_method='full', stat_typ=None, embed_type=None)\n",
    "unique_series_full_PF = createYHatList(DataY_test, series_len, num_unique,\n",
    "                    stat_method='full', stat_typ=None, embed_type=None)\n",
    "y_hat_PF = unique_series_PF[idx]\n",
    "y_hat_full_PF = unique_series_full_PF[idx]\n",
    "\n",
    "'''\n",
    "sample posterior and create log probability\n",
    "'''\n",
    "# PF\n",
    "# - given observation(s), sample posterior, evaluate probability, and plot\n",
    "posterior_samples_PF = posterior.sample((n_samples,), x=y_hat_PF) # type - tensor object\n",
    "# posterior_samples_simulations = bulk_simulate(posterior_samples, num_days, n_samples, ensemble_path, model_path)\n",
    "log_probability_PF = posterior.log_prob(posterior_samples_PF, x=y_hat_PF).unsqueeze(1) # type - tensor object\n",
    "\n",
    "\n",
    "'''\n",
    "Pairplot\n",
    "'''\n",
    "print('the theta value is', true_theta, '\\n')\n",
    "\n",
    "print('PARFLOW')\n",
    "fig, ax = analysis.pairplot(posterior_samples_PF, \n",
    "                               points=torch.tensor(true_theta),\n",
    "                               limits=[[0, 1],[0, 1]], \n",
    "                               figsize=(6,6)) # \n",
    "fig.savefig(f'{save_dir}pair_plot_lstmidx_{lstm_idx}_sub_{sub}_runidx_{idx}_PF.png')\n",
    "fig.savefig(f'{save_dir}pair_plot_lstmidx_{lstm_idx}_sub_{sub}_runidx_{idx}_PF.eps', format='eps')\n",
    "\n",
    "plt.show()\n",
    "\n"
   ]
  },
  {
   "cell_type": "code",
   "execution_count": 15,
   "metadata": {},
   "outputs": [
    {
     "data": {
      "text/plain": [
       "tensor([[-0.0889, -0.0324]])"
      ]
     },
     "execution_count": 15,
     "metadata": {},
     "output_type": "execute_result"
    }
   ],
   "source": [
    "posterior_samples_PF.quantile(q=0.5, dim=0,keepdim=True) -  true_theta\n",
    "# help(posterior_samples_PF.quantile)"
   ]
  },
  {
   "cell_type": "code",
   "execution_count": 16,
   "metadata": {},
   "outputs": [
    {
     "name": "stdout",
     "output_type": "stream",
     "text": [
      "tensor(-1.7786)\n",
      "tensor(6.3022)\n",
      "tensor(5.3036) \n",
      "\n",
      "tensor(-3.1285)\n",
      "tensor(6.5124)\n",
      "tensor(5.5377) \n",
      "\n"
     ]
    }
   ],
   "source": [
    "print(log_probability.min())\n",
    "print(log_probability.max())\n",
    "print(log_probability.mean(), '\\n')\n",
    "\n",
    "print(log_probability_PF.min())\n",
    "print(log_probability_PF.max())\n",
    "print(log_probability_PF.mean(), '\\n')"
   ]
  },
  {
   "cell_type": "code",
   "execution_count": 17,
   "metadata": {},
   "outputs": [
    {
     "name": "stdout",
     "output_type": "stream",
     "text": [
      "tensor([[0.5781, 0.8681],\n",
      "        [0.6094, 0.8759],\n",
      "        [0.6053, 0.8426],\n",
      "        [0.5704, 0.8650],\n",
      "        [0.5923, 0.8613],\n",
      "        [0.5871, 0.8257],\n",
      "        [0.5881, 0.8443],\n",
      "        [0.5928, 0.8694],\n",
      "        [0.6308, 0.8606],\n",
      "        [0.5981, 0.8811]])\n"
     ]
    }
   ],
   "source": [
    "# emulated\n",
    "# to run forward in ParFlow (maybe)\n",
    "out_params_1, out_logprob_1, out_idxs_1 = randBootstrap(posterior_samples, log_probability, n=10)\n",
    "\n",
    "\n",
    "print(out_params_1)"
   ]
  },
  {
   "cell_type": "code",
   "execution_count": 18,
   "metadata": {},
   "outputs": [
    {
     "name": "stdout",
     "output_type": "stream",
     "text": [
      "tensor([[0.4795, 0.7900],\n",
      "        [0.5262, 0.8235],\n",
      "        [0.5255, 0.8196],\n",
      "        [0.5152, 0.8012],\n",
      "        [0.5105, 0.7949],\n",
      "        [0.5242, 0.8260],\n",
      "        [0.4976, 0.7960],\n",
      "        [0.5471, 0.8252],\n",
      "        [0.5176, 0.8176],\n",
      "        [0.5190, 0.7991]])\n"
     ]
    }
   ],
   "source": [
    "# ParFlow\n",
    "# to run forward in ParFlow\n",
    "out_params_2, out_logprob_2, out_idxs_2 = randBootstrap(posterior_samples_PF, log_probability_PF, n=10)\n",
    "\n",
    "print(out_params_2)"
   ]
  },
  {
   "cell_type": "markdown",
   "metadata": {},
   "source": [
    "### b. Interpretive plots for each synthetic observations, streamflow timeseries only"
   ]
  },
  {
   "cell_type": "markdown",
   "metadata": {},
   "source": [
    "#### Bootstrap + Get Truth (Emulated)"
   ]
  },
  {
   "cell_type": "code",
   "execution_count": 19,
   "metadata": {},
   "outputs": [],
   "source": [
    "'''\n",
    "bootstrap\n",
    "'''\n",
    "# emulated\n",
    "boots_params, boots_logprob, idxs = randBootstrap(posterior_samples, log_probability)\n",
    "\n",
    "'''\n",
    "get 'truth'\n",
    "'''\n",
    "# emulated\n",
    "y_hat_plot = y_hat_full.T.detach().numpy()\n",
    "y_len = len(y_hat_plot)"
   ]
  },
  {
   "cell_type": "markdown",
   "metadata": {},
   "source": [
    "#### Run Forward Simulations (emulators)"
   ]
  },
  {
   "cell_type": "code",
   "execution_count": 20,
   "metadata": {},
   "outputs": [
    {
     "name": "stdout",
     "output_type": "stream",
     "text": [
      "Caution, multiple emulators available\n"
     ]
    }
   ],
   "source": [
    "# generate forward simulations\n",
    "if len(lstm_out_list) > 1:\n",
    "    print('Caution, multiple emulators available')\n",
    "\n",
    "# y_sims_PF = genSimulation(DataX_test, boots_params_PF, lstm_out_list, lstm_idx=lstm_idx, y_len=y_len)\n",
    "y_sims = genSimulation(DataX_test, boots_params, lstm_out_list,\n",
    "                       add_noise=True,f_noise=1e-2,lstm_idx=lstm_idx, y_len=y_len)\n",
    "\n"
   ]
  },
  {
   "cell_type": "markdown",
   "metadata": {},
   "source": [
    "#### Plot time series (emulators)"
   ]
  },
  {
   "cell_type": "code",
   "execution_count": 21,
   "metadata": {},
   "outputs": [
    {
     "name": "stderr",
     "output_type": "stream",
     "text": [
      "WARNING: backend_ps._is_transparent(): The PostScript backend does not support transparency; partially transparent artists will be rendered opaque.\n",
      "WARNING: backend_ps._is_transparent(): The PostScript backend does not support transparency; partially transparent artists will be rendered opaque.\n",
      "WARNING: backend_ps._is_transparent(): The PostScript backend does not support transparency; partially transparent artists will be rendered opaque.\n",
      "WARNING: backend_ps._is_transparent(): The PostScript backend does not support transparency; partially transparent artists will be rendered opaque.\n",
      "WARNING: backend_ps._is_transparent(): The PostScript backend does not support transparency; partially transparent artists will be rendered opaque.\n"
     ]
    },
    {
     "name": "stdout",
     "output_type": "stream",
     "text": [
      "emulated\n"
     ]
    },
    {
     "data": {
      "image/png": "[encoded data removed]",
      "text/plain": [
       "<Figure size 720x360 with 1 Axes>"
      ]
     },
     "metadata": {
      "needs_background": "light"
     },
     "output_type": "display_data"
    }
   ],
   "source": [
    "x = np.linspace(0,len(y_hat_plot)-1, len(y_hat_plot))\n",
    "\n",
    "# emulated\n",
    "print('emulated')\n",
    "fig, ax = plt.subplots(figsize=(10, 5))\n",
    "sub_sub = \"{:02d}\".format(idx)\n",
    "\n",
    "# ax.plot(y_sims.T, color='blue', alpha=0.25, zorder=0)# , label='y_sims')\n",
    "ax.plot(y_sims.T.min(axis=1), color='blue', linewidth=1, zorder=0, label='min')\n",
    "ax.plot(y_sims.T.max(axis=1), color='blue', linewidth=1, zorder=0, label='max')\n",
    "ax.plot(np.mean(y_sims.T,axis=1), color='red', linewidth=1, label='mean', zorder=2)\n",
    "ax.plot(y_hat_plot, color='green', linewidth=2, label='y_hat', zorder=1)\n",
    "ax.fill_between(x, y_sims.T.min(axis=1), y_sims.T.max(axis=1), color='blue', zorder=0, alpha=0.5)\n",
    "\n",
    "ax.set_ylim(0,1)\n",
    "ax.legend()\n",
    "fig.savefig(f'{save_dir}streamflow_series_{sub}_runidx_{idx}_emulated.png')\n",
    "fig.savefig(f'{save_dir}streamflow_series_{sub}_runidx_{idx}_emulated.eps', format='eps')\n",
    "plt.show()\n"
   ]
  },
  {
   "cell_type": "markdown",
   "metadata": {},
   "source": [
    "#### Bootstrap + Get Truth (ParFlow)"
   ]
  },
  {
   "cell_type": "code",
   "execution_count": 22,
   "metadata": {},
   "outputs": [],
   "source": [
    "'''\n",
    "bootstrap\n",
    "'''\n",
    "# PARFLOW\n",
    "boots_params_PF, boots_logprob_PF, idxs_PF = randBootstrap(posterior_samples_PF, log_probability_PF)\n",
    "\n",
    "'''\n",
    "get 'truth'\n",
    "'''\n",
    "# PARFLOW\n",
    "y_hat_plot_PF = y_hat_full_PF.T.detach().numpy()\n",
    "y_len = len(y_hat_plot_PF)\n"
   ]
  },
  {
   "cell_type": "markdown",
   "metadata": {},
   "source": [
    "#### Run Forward Simulations (ParFlow)"
   ]
  },
  {
   "cell_type": "code",
   "execution_count": 23,
   "metadata": {},
   "outputs": [
    {
     "name": "stdout",
     "output_type": "stream",
     "text": [
      "Caution, multiple emulators available\n"
     ]
    }
   ],
   "source": [
    "# generate forward simulations\n",
    "if len(lstm_out_list) > 1:\n",
    "    print('Caution, multiple emulators available')\n",
    "\n",
    "y_sims_PF = genSimulation(DataX_test, boots_params_PF, lstm_out_list,\n",
    "                          add_noise=True,f_noise=1e-02, lstm_idx=lstm_idx, y_len=y_len)\n",
    "\n"
   ]
  },
  {
   "cell_type": "markdown",
   "metadata": {},
   "source": [
    "#### Plot time series (ParFlow)"
   ]
  },
  {
   "cell_type": "code",
   "execution_count": 24,
   "metadata": {
    "scrolled": false
   },
   "outputs": [
    {
     "name": "stderr",
     "output_type": "stream",
     "text": [
      "WARNING: backend_ps._is_transparent(): The PostScript backend does not support transparency; partially transparent artists will be rendered opaque.\n",
      "WARNING: backend_ps._is_transparent(): The PostScript backend does not support transparency; partially transparent artists will be rendered opaque.\n",
      "WARNING: backend_ps._is_transparent(): The PostScript backend does not support transparency; partially transparent artists will be rendered opaque.\n",
      "WARNING: backend_ps._is_transparent(): The PostScript backend does not support transparency; partially transparent artists will be rendered opaque.\n",
      "WARNING: backend_ps._is_transparent(): The PostScript backend does not support transparency; partially transparent artists will be rendered opaque.\n"
     ]
    },
    {
     "name": "stdout",
     "output_type": "stream",
     "text": [
      "Parflow\n"
     ]
    },
    {
     "data": {
      "image/png": "[encoded data removed]",
      "text/plain": [
       "<Figure size 720x360 with 1 Axes>"
      ]
     },
     "metadata": {
      "needs_background": "light"
     },
     "output_type": "display_data"
    }
   ],
   "source": [
    "# PARFLOW\n",
    "print('Parflow')\n",
    "fig, ax = plt.subplots(figsize=(10, 5))\n",
    "sub_sub = \"{:02d}\".format(idx)\n",
    "\n",
    "# ax.plot(y_sims_PF.T, color='blue', alpha=0.25, zorder=0)# , label='y_sims')\n",
    "ax.plot(y_sims_PF.T.min(axis=1), color='blue', linewidth=1, zorder=0, label='min')\n",
    "ax.plot(y_sims_PF.T.max(axis=1), color='blue', linewidth=1, zorder=0, label='max')\n",
    "ax.plot(np.mean(y_sims_PF.T,axis=1), color='red', linewidth=1, label='mean', zorder=2)\n",
    "ax.plot(y_hat_plot_PF, color='green', linewidth=2, label='y_hat', zorder=1)\n",
    "ax.fill_between(x, y_sims_PF.T.min(axis=1), y_sims_PF.T.max(axis=1), color='blue', zorder=0, alpha=0.5)\n",
    "\n",
    "ax.set_ylim(0,1)\n",
    "ax.legend()\n",
    "fig.savefig(f'{save_dir}streamflow_series_{sub}_runidx_{idx}_PF.png')\n",
    "fig.savefig(f'{save_dir}streamflow_series_{sub}_runidx_{idx}_PF.eps', format='eps')\n",
    "plt.show()"
   ]
  },
  {
   "cell_type": "markdown",
   "metadata": {},
   "source": [
    "### RMSE"
   ]
  },
  {
   "cell_type": "code",
   "execution_count": 25,
   "metadata": {},
   "outputs": [
    {
     "data": {
      "image/png": "[encoded data removed]",
      "text/plain": [
       "<Figure size 432x288 with 1 Axes>"
      ]
     },
     "metadata": {
      "needs_background": "light"
     },
     "output_type": "display_data"
    },
    {
     "name": "stdout",
     "output_type": "stream",
     "text": [
      "Standard Deviation 0.011290045327125388\n",
      "Root Mean Squared Error 0.002855473002819449\n"
     ]
    }
   ],
   "source": [
    "rmse_arr = np.empty(y_sims_PF.shape[0])\n",
    "xi = 0\n",
    "for sim in y_sims_PF:\n",
    "    rmse_arr[xi] = obj_mets.rmse(y_hat_plot_PF[:,0], sim)\n",
    "    xi += 1\n",
    "\n",
    "fig, ax = plt.subplots()\n",
    "    \n",
    "# help(plt.hist)\n",
    "plt.hist(rmse_arr, color='black', density=False, bins=10)\n",
    "plt.xlim(0,0.1)\n",
    "plt.ylim(0, 16)\n",
    "plt.title('Streamflow RMSE')\n",
    "plt.ylabel('Count')\n",
    "plt.xlabel('RMSE')\n",
    "fig.savefig(f'{save_dir}histogram_streamflow_series_{sub}_runidx_{idx}_PF.png')\n",
    "fig.savefig(f'{save_dir}histogram_streamflow_series_{sub}_runidx_{idx}_PF.eps', format='eps')\n",
    "plt.show()\n",
    "\n",
    "print('Standard Deviation', rmse_arr.mean())\n",
    "print('Root Mean Squared Error', rmse_arr.std())"
   ]
  },
  {
   "cell_type": "markdown",
   "metadata": {},
   "source": [
    "### Summary Statistics"
   ]
  },
  {
   "cell_type": "code",
   "execution_count": 26,
   "metadata": {},
   "outputs": [
    {
     "name": "stdout",
     "output_type": "stream",
     "text": [
      "covariance matrix is...\n",
      "[[ 1.97367888e-04 -5.98914334e-06]\n",
      " [-5.98914334e-06  2.69005233e-04]]\n",
      "\n",
      " determinant of covariance matrix is...\n",
      "5.305712495864594e-08\n",
      "\n",
      " True theta [0.599485 0.849485]\n",
      "\n",
      " Mean theta [0.51041275 0.81692547]\n",
      "Inverse Covariance [[5070.10572946  112.881038  ]\n",
      " [ 112.881038   3719.91298704]]\n",
      "\n",
      " Man - distance, scipy routine\n",
      "6.695059571260522\n"
     ]
    }
   ],
   "source": [
    "# get covariance matrix\n",
    "post_cov_PF = np.cov(posterior_samples_PF.T)\n",
    "print('covariance matrix is...')\n",
    "print(post_cov_PF)\n",
    "\n",
    "# get determinant\n",
    "det_PF = np.linalg.det(post_cov_PF)\n",
    "print('\\n determinant of covariance matrix is...')\n",
    "print(det_PF)\n",
    "\n",
    "# get mahalanobis distance\n",
    "# from https://docs.scipy.org/doc/scipy/reference/generated/scipy.spatial.distance.mahalanobis.html\n",
    "# https://en.wikipedia.org/wiki/Mahalanobis_distance\n",
    "# note, using the test data taken from earlier, class 0, a single point\n",
    "# true theta\n",
    "true_th_PF = np.array(true_theta)\n",
    "# extract average for later\n",
    "mean_th_PF = np.array(posterior_samples_PF.mean(axis=0))\n",
    "# invert covariance for later\n",
    "post_cov_inv_PF = np.linalg.inv(post_cov_PF)\n",
    "\n",
    "print('\\n True theta', true_th_PF)\n",
    "print('\\n Mean theta', mean_th_PF)\n",
    "print('Inverse Covariance', post_cov_inv_PF)\n",
    "\n",
    "print(\"\\n Man - distance, scipy routine\")\n",
    "dist = distance.mahalanobis(true_th_PF,mean_th_PF,post_cov_inv_PF)\n",
    "print(dist)\n",
    "\n",
    "# print('\\n Euclidian Distance')\n",
    "# eu_dist = np.sqrt( (true_th[0] - mean_th[0])**2 + (true_th[1] - mean_th[1])**2)\n",
    "# eu_dist_norm = np.sqrt( (true_th[0] - mean_th[0])**2/post_cov[0,0] + (true_th[1] - mean_th[1])**2/post_cov[1,1])\n",
    "# print(eu_dist)\n",
    "# print(eu_dist_norm)"
   ]
  },
  {
   "cell_type": "code",
   "execution_count": 27,
   "metadata": {},
   "outputs": [
    {
     "data": {
      "image/png": "[encoded data removed]",
      "text/plain": [
       "<Figure size 432x288 with 2 Axes>"
      ]
     },
     "metadata": {
      "needs_background": "light"
     },
     "output_type": "display_data"
    }
   ],
   "source": [
    "# vmin and max, in an ideal world\n",
    "vm, vma = -1e-2, 1e-2 #-np.max(np.abs(post_cov)), np.max(np.abs(post_cov)) # (-1e-2, 1e-2)\n",
    "\n",
    "# normalize for negatives (https://blogs.sas.com/content/iml/2011/04/27/log-transformations-how-to-handle-negative-data-values.html)\n",
    "b = 1\n",
    "a = b - vm\n",
    "\n",
    "log_post_cov = np.log10(post_cov_PF + a)\n",
    "\n",
    "# subtract from minimum for log-scale plottage\n",
    "vm_pl, vma_pl = np.log10(vm+a), np.log10(vma+a)\n",
    "\n",
    "fig, ax = plt.subplots()\n",
    "\n",
    "# heat map\n",
    "sns.heatmap(log_post_cov, vmin=vm_pl, vmax=vma_pl, cmap='seismic',\n",
    "           xticklabels=['K', 'M'], yticklabels=['K','M'], annot=post_cov_PF, fmt='.1e')\n",
    "#plt.title(r'Covariance $\\Sigma_{M,K}$'+'\\n'+r'Determinant $|\\Sigma| = $'+f'{det:.1e}'+'\\n'+f'Scale min {vm:.1e} max {vma:.1e}''\\n'+f'Mahalanobis Distance {dist:.2e}'+ f'\\n Euclidian Distance {eu_dist:.2e}')\n",
    "fig.savefig(f'{save_dir}cov_mat_lstmidx_{lstm_idx}_sub_{sub}_runidx_{idx}_PF.png')\n",
    "fig.savefig(f'{save_dir}cov_mat_lstmidx_{lstm_idx}_sub_{sub}_runidx_{idx}_PF.eps', format='eps')\n",
    "plt.show()\n"
   ]
  },
  {
   "cell_type": "markdown",
   "metadata": {},
   "source": [
    "## Bulk Stuff"
   ]
  },
  {
   "cell_type": "markdown",
   "metadata": {},
   "source": [
    "#### Experiment 1_1 Bulk (Emulated Truth using full time series)"
   ]
  },
  {
   "cell_type": "code",
   "execution_count": 28,
   "metadata": {},
   "outputs": [
    {
     "name": "stderr",
     "output_type": "stream",
     "text": [
      "/home/qh8373/SBI_TAYLOR/sbi_taylor/scripts/05_utils/sbiutils.py:110: UserWarning: To copy construct from a tensor, it is recommended to use sourceTensor.clone().detach() or sourceTensor.clone().detach().requires_grad_(True), rather than torch.tensor(sourceTensor).\n",
      "  return torch.tensor(y_out)\n"
     ]
    },
    {
     "data": {
      "application/vnd.jupyter.widget-view+json": {
       "model_id": "6d8b21a902ae43b58f0a283d9e1292ae",
       "version_major": 2,
       "version_minor": 0
      },
      "text/plain": [
       "HBox(children=(FloatProgress(value=0.0, description='Drawing 5000 posterior samples', max=5000.0, style=Progre…"
      ]
     },
     "metadata": {},
     "output_type": "display_data"
    },
    {
     "name": "stdout",
     "output_type": "stream",
     "text": [
      "\n"
     ]
    },
    {
     "data": {
      "application/vnd.jupyter.widget-view+json": {
       "model_id": "9c9982ff11694f6cb170bd583b49d02d",
       "version_major": 2,
       "version_minor": 0
      },
      "text/plain": [
       "HBox(children=(FloatProgress(value=0.0, description='Drawing 5000 posterior samples', max=5000.0, style=Progre…"
      ]
     },
     "metadata": {},
     "output_type": "display_data"
    },
    {
     "name": "stdout",
     "output_type": "stream",
     "text": [
      "\n"
     ]
    },
    {
     "data": {
      "application/vnd.jupyter.widget-view+json": {
       "model_id": "bcfd1d63e8b9460ea1f4c7aac40f1c43",
       "version_major": 2,
       "version_minor": 0
      },
      "text/plain": [
       "HBox(children=(FloatProgress(value=0.0, description='Drawing 5000 posterior samples', max=5000.0, style=Progre…"
      ]
     },
     "metadata": {},
     "output_type": "display_data"
    },
    {
     "name": "stdout",
     "output_type": "stream",
     "text": [
      "\n"
     ]
    },
    {
     "data": {
      "application/vnd.jupyter.widget-view+json": {
       "model_id": "4282cc2295aa476c8b915de4b5be9c9d",
       "version_major": 2,
       "version_minor": 0
      },
      "text/plain": [
       "HBox(children=(FloatProgress(value=0.0, description='Drawing 5000 posterior samples', max=5000.0, style=Progre…"
      ]
     },
     "metadata": {},
     "output_type": "display_data"
    },
    {
     "name": "stdout",
     "output_type": "stream",
     "text": [
      "\n"
     ]
    },
    {
     "data": {
      "application/vnd.jupyter.widget-view+json": {
       "model_id": "1f367139a8804884ba964ae8fb4b1e75",
       "version_major": 2,
       "version_minor": 0
      },
      "text/plain": [
       "HBox(children=(FloatProgress(value=0.0, description='Drawing 5000 posterior samples', max=5000.0, style=Progre…"
      ]
     },
     "metadata": {},
     "output_type": "display_data"
    },
    {
     "name": "stdout",
     "output_type": "stream",
     "text": [
      "\n"
     ]
    },
    {
     "data": {
      "application/vnd.jupyter.widget-view+json": {
       "model_id": "b60206d3aebc4911bd77a357977f9b73",
       "version_major": 2,
       "version_minor": 0
      },
      "text/plain": [
       "HBox(children=(FloatProgress(value=0.0, description='Drawing 5000 posterior samples', max=5000.0, style=Progre…"
      ]
     },
     "metadata": {},
     "output_type": "display_data"
    },
    {
     "name": "stdout",
     "output_type": "stream",
     "text": [
      "\n"
     ]
    },
    {
     "data": {
      "application/vnd.jupyter.widget-view+json": {
       "model_id": "4621237944f04cae82813b8c9dd4564c",
       "version_major": 2,
       "version_minor": 0
      },
      "text/plain": [
       "HBox(children=(FloatProgress(value=0.0, description='Drawing 5000 posterior samples', max=5000.0, style=Progre…"
      ]
     },
     "metadata": {},
     "output_type": "display_data"
    },
    {
     "name": "stdout",
     "output_type": "stream",
     "text": [
      "\n"
     ]
    },
    {
     "data": {
      "application/vnd.jupyter.widget-view+json": {
       "model_id": "f91c00bd64f843fcaa920d4e32bdd0ce",
       "version_major": 2,
       "version_minor": 0
      },
      "text/plain": [
       "HBox(children=(FloatProgress(value=0.0, description='Drawing 5000 posterior samples', max=5000.0, style=Progre…"
      ]
     },
     "metadata": {},
     "output_type": "display_data"
    },
    {
     "name": "stdout",
     "output_type": "stream",
     "text": [
      "\n"
     ]
    },
    {
     "data": {
      "application/vnd.jupyter.widget-view+json": {
       "model_id": "b4682c91a86d403f8abf3d38393741d5",
       "version_major": 2,
       "version_minor": 0
      },
      "text/plain": [
       "HBox(children=(FloatProgress(value=0.0, description='Drawing 5000 posterior samples', max=5000.0, style=Progre…"
      ]
     },
     "metadata": {},
     "output_type": "display_data"
    },
    {
     "name": "stdout",
     "output_type": "stream",
     "text": [
      "\n"
     ]
    },
    {
     "data": {
      "application/vnd.jupyter.widget-view+json": {
       "model_id": "059d1654a07f43938340a96b9002f975",
       "version_major": 2,
       "version_minor": 0
      },
      "text/plain": [
       "HBox(children=(FloatProgress(value=0.0, description='Drawing 5000 posterior samples', max=5000.0, style=Progre…"
      ]
     },
     "metadata": {},
     "output_type": "display_data"
    },
    {
     "name": "stdout",
     "output_type": "stream",
     "text": [
      "\n"
     ]
    },
    {
     "data": {
      "application/vnd.jupyter.widget-view+json": {
       "model_id": "4bddde0454ba41d2939909b933aca76c",
       "version_major": 2,
       "version_minor": 0
      },
      "text/plain": [
       "HBox(children=(FloatProgress(value=0.0, description='Drawing 5000 posterior samples', max=5000.0, style=Progre…"
      ]
     },
     "metadata": {},
     "output_type": "display_data"
    },
    {
     "name": "stdout",
     "output_type": "stream",
     "text": [
      "\n"
     ]
    },
    {
     "data": {
      "application/vnd.jupyter.widget-view+json": {
       "model_id": "554aeba8c21148f28170b80c39495070",
       "version_major": 2,
       "version_minor": 0
      },
      "text/plain": [
       "HBox(children=(FloatProgress(value=0.0, description='Drawing 5000 posterior samples', max=5000.0, style=Progre…"
      ]
     },
     "metadata": {},
     "output_type": "display_data"
    },
    {
     "name": "stdout",
     "output_type": "stream",
     "text": [
      "\n"
     ]
    },
    {
     "data": {
      "application/vnd.jupyter.widget-view+json": {
       "model_id": "a4913463533245218f8707f0dfe390c9",
       "version_major": 2,
       "version_minor": 0
      },
      "text/plain": [
       "HBox(children=(FloatProgress(value=0.0, description='Drawing 5000 posterior samples', max=5000.0, style=Progre…"
      ]
     },
     "metadata": {},
     "output_type": "display_data"
    },
    {
     "name": "stdout",
     "output_type": "stream",
     "text": [
      "\n"
     ]
    },
    {
     "data": {
      "application/vnd.jupyter.widget-view+json": {
       "model_id": "c9efb9dbdaeb433cbea2eeb4a85f56db",
       "version_major": 2,
       "version_minor": 0
      },
      "text/plain": [
       "HBox(children=(FloatProgress(value=0.0, description='Drawing 5000 posterior samples', max=5000.0, style=Progre…"
      ]
     },
     "metadata": {},
     "output_type": "display_data"
    },
    {
     "name": "stdout",
     "output_type": "stream",
     "text": [
      "\n"
     ]
    },
    {
     "data": {
      "application/vnd.jupyter.widget-view+json": {
       "model_id": "53bbc67aaf5544a2aed5cb3656cdc43a",
       "version_major": 2,
       "version_minor": 0
      },
      "text/plain": [
       "HBox(children=(FloatProgress(value=0.0, description='Drawing 5000 posterior samples', max=5000.0, style=Progre…"
      ]
     },
     "metadata": {},
     "output_type": "display_data"
    },
    {
     "name": "stdout",
     "output_type": "stream",
     "text": [
      "\n"
     ]
    },
    {
     "data": {
      "application/vnd.jupyter.widget-view+json": {
       "model_id": "272400e5102b4720b1bf91dc6ce44fc7",
       "version_major": 2,
       "version_minor": 0
      },
      "text/plain": [
       "HBox(children=(FloatProgress(value=0.0, description='Drawing 5000 posterior samples', max=5000.0, style=Progre…"
      ]
     },
     "metadata": {},
     "output_type": "display_data"
    },
    {
     "name": "stdout",
     "output_type": "stream",
     "text": [
      "\n"
     ]
    },
    {
     "data": {
      "application/vnd.jupyter.widget-view+json": {
       "model_id": "a9b994f2f6b04f26aea475ffd78b346e",
       "version_major": 2,
       "version_minor": 0
      },
      "text/plain": [
       "HBox(children=(FloatProgress(value=0.0, description='Drawing 5000 posterior samples', max=5000.0, style=Progre…"
      ]
     },
     "metadata": {},
     "output_type": "display_data"
    },
    {
     "name": "stdout",
     "output_type": "stream",
     "text": [
      "\n"
     ]
    },
    {
     "data": {
      "application/vnd.jupyter.widget-view+json": {
       "model_id": "798176030fb24678b50cba210797ccd1",
       "version_major": 2,
       "version_minor": 0
      },
      "text/plain": [
       "HBox(children=(FloatProgress(value=0.0, description='Drawing 5000 posterior samples', max=5000.0, style=Progre…"
      ]
     },
     "metadata": {},
     "output_type": "display_data"
    },
    {
     "name": "stdout",
     "output_type": "stream",
     "text": [
      "\n"
     ]
    }
   ],
   "source": [
    "# storage\n",
    "E1_1_arr = np.empty((5, 18))\n",
    "\n",
    "# loop through all 18\n",
    "for idx in range(18):\n",
    "    # ------------- Set Up\n",
    "    # set true theta\n",
    "    true_theta = test_params[idx]\n",
    "    \n",
    "    # create time series\n",
    "    y_hat_full = reshape_y(simulate(DataX=DataX_test, theta=true_theta, lstm=lstm_out_list[lstm_idx]))\n",
    "    y_hat = createYHat(y_hat_full, stat_method='full', stat_typ=None, embed_type=None)\n",
    "    \n",
    "    # ------------- Parameter Space\n",
    "    # sample posterior and create log probability\n",
    "    # - given observation(s), sample posterior, evaluate probability, and plot\n",
    "    posterior_samples = posterior.sample((n_samples,), x=y_hat) # type - tensor object\n",
    "    # posterior_samples_simulations = bulk_simulate(posterior_samples, num_days, n_samples, ensemble_path, model_path)\n",
    "    log_probability = posterior.log_prob(posterior_samples, x=y_hat).unsqueeze(1) # type - tensor object\n",
    "    \n",
    "    # calculate determinent, average euclidean distance, and average log prob\n",
    "    mean_param = posterior_samples.mean(axis=0)\n",
    "    median_param = np.quantile(posterior_samples, q=0.5, axis=0)\n",
    "    # euclidean distance\n",
    "    euc_dist = norm(true_theta-mean_param)\n",
    "    \n",
    "    # probability stuff\n",
    "    log_prob_true_thetas_ind, log_prob_true_thetas_all, log_prob_true_thetas_flag = genProbThetas(true_theta,\n",
    "                                        posterior_samples, log_probability, theta_prec=4, mult_factor=10)\n",
    "    log_prob_out = log_prob_true_thetas_ind.mean()\n",
    "    \n",
    "    # covariance of the distribution\n",
    "    cov_sample = cov(posterior_samples.T)\n",
    "    # determinant of the distribution\n",
    "    det_sample = det(cov_sample)\n",
    "    \n",
    "    cov_inv_temp = np.linalg.inv(cov_sample)\n",
    "    dist_temp = distance.mahalanobis(true_theta,mean_param,cov_inv_temp)\n",
    "    \n",
    "    # ------------- Streamflow Space\n",
    "    boots_params, boots_logprob, idxs = randBootstrap(posterior_samples, log_probability)\n",
    "    y_sims = genSimulation(DataX_test, boots_params, lstm_out_list,\n",
    "                           add_noise=True,f_noise=1e-2,lstm_idx=lstm_idx, y_len=y_len)\n",
    "\n",
    "    y_hat_full = convertNumpy(y_hat_full[0,:], toTorch=False)\n",
    "    \n",
    "    # calculate NSEs\n",
    "    RMSE_arr = np.empty(y_sims.shape[0])\n",
    "    for k in range(y_sims.shape[0]):\n",
    "        y_o = y_sims[k,:]\n",
    "        y_o = convertNumpy(y_o, toTorch=False)\n",
    "        RMSE_arr[k] = obj_mets.rmse(y_o, y_hat_full)\n",
    "#         NSE_arr[k] = compute_stats(y_o, y_hat_full)[1]\n",
    "        del y_o\n",
    "\n",
    "#     NSE_ave = NSE_arr.mean()\n",
    "#     NSE_std = NSE_arr.std()\n",
    "    RMSE_ave = RMSE_arr.mean()\n",
    "    RMSE_std = RMSE_arr.std()\n",
    "\n",
    "    \n",
    "    # ------------- Put together\n",
    "    E1_1_arr[:,idx] = [dist_temp, det_sample, log_prob_out, RMSE_ave, RMSE_std]\n",
    "\n",
    "    del true_theta, y_hat_full, y_hat, posterior_samples, log_probability, mean_param, median_param\n",
    "    del euc_dist, log_prob_true_thetas_ind, log_prob_true_thetas_all, log_prob_true_thetas_flag\n",
    "    del log_prob_out, cov_sample, det_sample, boots_params, boots_logprob, idxs, y_sims\n",
    "    del RMSE_arr, RMSE_ave, RMSE_std, cov_inv_temp, dist_temp\n",
    "    "
   ]
  },
  {
   "cell_type": "markdown",
   "metadata": {},
   "source": [
    "#### Experiment 2_1 Bulk (ParFlow Truth using full time series)"
   ]
  },
  {
   "cell_type": "code",
   "execution_count": 29,
   "metadata": {},
   "outputs": [
    {
     "data": {
      "application/vnd.jupyter.widget-view+json": {
       "model_id": "515956301ef342c0beb0f9d46d31a3de",
       "version_major": 2,
       "version_minor": 0
      },
      "text/plain": [
       "HBox(children=(FloatProgress(value=0.0, description='Drawing 5000 posterior samples', max=5000.0, style=Progre…"
      ]
     },
     "metadata": {},
     "output_type": "display_data"
    },
    {
     "name": "stdout",
     "output_type": "stream",
     "text": [
      "\n"
     ]
    },
    {
     "data": {
      "application/vnd.jupyter.widget-view+json": {
       "model_id": "b8fa7393f38e42c49d58f1be5c15b26d",
       "version_major": 2,
       "version_minor": 0
      },
      "text/plain": [
       "HBox(children=(FloatProgress(value=0.0, description='Drawing 5000 posterior samples', max=5000.0, style=Progre…"
      ]
     },
     "metadata": {},
     "output_type": "display_data"
    },
    {
     "name": "stdout",
     "output_type": "stream",
     "text": [
      "\n"
     ]
    },
    {
     "name": "stderr",
     "output_type": "stream",
     "text": [
      "/home/qh8373/SBI_TAYLOR/sbi_taylor/scripts/05_utils/posteriorsamputils.py:97: RuntimeWarning: Mean of empty slice.\n",
      "  log_prob_true_thetas_ind[i] = np.take(log_probability, theta_idx)[0].mean()\n",
      "/home/SHARED/software/anaconda3/2020.07e/lib/python3.8/site-packages/numpy/core/_methods.py:188: RuntimeWarning: invalid value encountered in true_divide\n",
      "  ret = ret.dtype.type(ret / rcount)\n"
     ]
    },
    {
     "data": {
      "application/vnd.jupyter.widget-view+json": {
       "model_id": "15da58a423294fbaab75bd7a23a1e207",
       "version_major": 2,
       "version_minor": 0
      },
      "text/plain": [
       "HBox(children=(FloatProgress(value=0.0, description='Drawing 5000 posterior samples', max=5000.0, style=Progre…"
      ]
     },
     "metadata": {},
     "output_type": "display_data"
    },
    {
     "name": "stdout",
     "output_type": "stream",
     "text": [
      "\n"
     ]
    },
    {
     "data": {
      "application/vnd.jupyter.widget-view+json": {
       "model_id": "45b43869d03244d3bef4acae4400ee0e",
       "version_major": 2,
       "version_minor": 0
      },
      "text/plain": [
       "HBox(children=(FloatProgress(value=0.0, description='Drawing 5000 posterior samples', max=5000.0, style=Progre…"
      ]
     },
     "metadata": {},
     "output_type": "display_data"
    },
    {
     "name": "stdout",
     "output_type": "stream",
     "text": [
      "\n"
     ]
    },
    {
     "data": {
      "application/vnd.jupyter.widget-view+json": {
       "model_id": "eb7d6316fcc8423da510d7799b30c3c7",
       "version_major": 2,
       "version_minor": 0
      },
      "text/plain": [
       "HBox(children=(FloatProgress(value=0.0, description='Drawing 5000 posterior samples', max=5000.0, style=Progre…"
      ]
     },
     "metadata": {},
     "output_type": "display_data"
    },
    {
     "name": "stdout",
     "output_type": "stream",
     "text": [
      "\n"
     ]
    },
    {
     "data": {
      "application/vnd.jupyter.widget-view+json": {
       "model_id": "b7c14401c56046fe8b1be5a55b28c0b1",
       "version_major": 2,
       "version_minor": 0
      },
      "text/plain": [
       "HBox(children=(FloatProgress(value=0.0, description='Drawing 5000 posterior samples', max=5000.0, style=Progre…"
      ]
     },
     "metadata": {},
     "output_type": "display_data"
    },
    {
     "name": "stdout",
     "output_type": "stream",
     "text": [
      "\n"
     ]
    },
    {
     "data": {
      "application/vnd.jupyter.widget-view+json": {
       "model_id": "c4f98b7620c24bca8852072c50257bfc",
       "version_major": 2,
       "version_minor": 0
      },
      "text/plain": [
       "HBox(children=(FloatProgress(value=0.0, description='Drawing 5000 posterior samples', max=5000.0, style=Progre…"
      ]
     },
     "metadata": {},
     "output_type": "display_data"
    },
    {
     "name": "stdout",
     "output_type": "stream",
     "text": [
      "\n"
     ]
    },
    {
     "data": {
      "application/vnd.jupyter.widget-view+json": {
       "model_id": "b74dd1afee9b4e0588b7a6404119b90b",
       "version_major": 2,
       "version_minor": 0
      },
      "text/plain": [
       "HBox(children=(FloatProgress(value=0.0, description='Drawing 5000 posterior samples', max=5000.0, style=Progre…"
      ]
     },
     "metadata": {},
     "output_type": "display_data"
    },
    {
     "name": "stdout",
     "output_type": "stream",
     "text": [
      "\n"
     ]
    },
    {
     "data": {
      "application/vnd.jupyter.widget-view+json": {
       "model_id": "8373b3058b9849cb85929ebc1fb7b6b0",
       "version_major": 2,
       "version_minor": 0
      },
      "text/plain": [
       "HBox(children=(FloatProgress(value=0.0, description='Drawing 5000 posterior samples', max=5000.0, style=Progre…"
      ]
     },
     "metadata": {},
     "output_type": "display_data"
    },
    {
     "name": "stdout",
     "output_type": "stream",
     "text": [
      "\n"
     ]
    },
    {
     "data": {
      "application/vnd.jupyter.widget-view+json": {
       "model_id": "3a9e67c34b0245ee89c85ed3267f9043",
       "version_major": 2,
       "version_minor": 0
      },
      "text/plain": [
       "HBox(children=(FloatProgress(value=0.0, description='Drawing 5000 posterior samples', max=5000.0, style=Progre…"
      ]
     },
     "metadata": {},
     "output_type": "display_data"
    },
    {
     "name": "stdout",
     "output_type": "stream",
     "text": [
      "\n"
     ]
    },
    {
     "data": {
      "application/vnd.jupyter.widget-view+json": {
       "model_id": "a85e0f50e691461eba33f065c55db307",
       "version_major": 2,
       "version_minor": 0
      },
      "text/plain": [
       "HBox(children=(FloatProgress(value=0.0, description='Drawing 5000 posterior samples', max=5000.0, style=Progre…"
      ]
     },
     "metadata": {},
     "output_type": "display_data"
    },
    {
     "name": "stdout",
     "output_type": "stream",
     "text": [
      "\n"
     ]
    },
    {
     "data": {
      "application/vnd.jupyter.widget-view+json": {
       "model_id": "ac538c9dd36b4b789a46462d5455e470",
       "version_major": 2,
       "version_minor": 0
      },
      "text/plain": [
       "HBox(children=(FloatProgress(value=0.0, description='Drawing 5000 posterior samples', max=5000.0, style=Progre…"
      ]
     },
     "metadata": {},
     "output_type": "display_data"
    },
    {
     "name": "stdout",
     "output_type": "stream",
     "text": [
      "\n"
     ]
    },
    {
     "data": {
      "application/vnd.jupyter.widget-view+json": {
       "model_id": "ca3953700cad4b449d15ca5e08d81c76",
       "version_major": 2,
       "version_minor": 0
      },
      "text/plain": [
       "HBox(children=(FloatProgress(value=0.0, description='Drawing 5000 posterior samples', max=5000.0, style=Progre…"
      ]
     },
     "metadata": {},
     "output_type": "display_data"
    },
    {
     "name": "stdout",
     "output_type": "stream",
     "text": [
      "\n"
     ]
    },
    {
     "data": {
      "application/vnd.jupyter.widget-view+json": {
       "model_id": "b08a98b1acb344169dc568228c99bfff",
       "version_major": 2,
       "version_minor": 0
      },
      "text/plain": [
       "HBox(children=(FloatProgress(value=0.0, description='Drawing 5000 posterior samples', max=5000.0, style=Progre…"
      ]
     },
     "metadata": {},
     "output_type": "display_data"
    },
    {
     "name": "stdout",
     "output_type": "stream",
     "text": [
      "\n"
     ]
    },
    {
     "data": {
      "application/vnd.jupyter.widget-view+json": {
       "model_id": "c602ef468d2b4c8f94659e2afdf9f67d",
       "version_major": 2,
       "version_minor": 0
      },
      "text/plain": [
       "HBox(children=(FloatProgress(value=0.0, description='Drawing 5000 posterior samples', max=5000.0, style=Progre…"
      ]
     },
     "metadata": {},
     "output_type": "display_data"
    },
    {
     "name": "stdout",
     "output_type": "stream",
     "text": [
      "\n"
     ]
    },
    {
     "data": {
      "application/vnd.jupyter.widget-view+json": {
       "model_id": "9c0c54def6a24808af4100cbe9b616f4",
       "version_major": 2,
       "version_minor": 0
      },
      "text/plain": [
       "HBox(children=(FloatProgress(value=0.0, description='Drawing 5000 posterior samples', max=5000.0, style=Progre…"
      ]
     },
     "metadata": {},
     "output_type": "display_data"
    },
    {
     "name": "stdout",
     "output_type": "stream",
     "text": [
      "\n"
     ]
    },
    {
     "data": {
      "application/vnd.jupyter.widget-view+json": {
       "model_id": "17edf091d5e34dfb96bdf74b76bf4c7b",
       "version_major": 2,
       "version_minor": 0
      },
      "text/plain": [
       "HBox(children=(FloatProgress(value=0.0, description='Drawing 5000 posterior samples', max=5000.0, style=Progre…"
      ]
     },
     "metadata": {},
     "output_type": "display_data"
    },
    {
     "name": "stdout",
     "output_type": "stream",
     "text": [
      "\n"
     ]
    },
    {
     "data": {
      "application/vnd.jupyter.widget-view+json": {
       "model_id": "0f0156bd59844efeb600d67e6c45da89",
       "version_major": 2,
       "version_minor": 0
      },
      "text/plain": [
       "HBox(children=(FloatProgress(value=0.0, description='Drawing 5000 posterior samples', max=5000.0, style=Progre…"
      ]
     },
     "metadata": {},
     "output_type": "display_data"
    },
    {
     "name": "stdout",
     "output_type": "stream",
     "text": [
      "\n"
     ]
    }
   ],
   "source": [
    "# create time series\n",
    "unique_series_PF = createYHatList(DataY_test, series_len, num_unique,\n",
    "                stat_method='full', stat_typ=None, embed_type=None)\n",
    "unique_series_full_PF = createYHatList(DataY_test, series_len, num_unique,\n",
    "                    stat_method='full', stat_typ=None, embed_type=None)\n",
    "\n",
    "# storage\n",
    "E2_1_arr = np.empty((5, 18))\n",
    "\n",
    "# loop through all 18\n",
    "for idx in range(18):\n",
    "    # ------------- Set Up\n",
    "    # set true theta\n",
    "    true_theta = test_params[idx]\n",
    "    \n",
    "    # set series\n",
    "    y_hat_PF = unique_series_PF[idx]\n",
    "    y_hat_full_PF = unique_series_full_PF[idx]\n",
    "    \n",
    "    # ------------- Parameter Space\n",
    "    # sample posterior and create log probability\n",
    "    # - given observation(s), sample posterior, evaluate probability, and plot\n",
    "    posterior_samples_PF = posterior.sample((n_samples,), x=y_hat_PF) # type - tensor object\n",
    "    # posterior_samples_simulations = bulk_simulate(posterior_samples, num_days, n_samples, ensemble_path, model_path)\n",
    "    log_probability_PF = posterior.log_prob(posterior_samples_PF, x=y_hat_PF).unsqueeze(1) # type - tensor object\n",
    "\n",
    "    \n",
    "    # calculate determinent, average euclidean distance, and average log prob\n",
    "    mean_param = posterior_samples_PF.mean(axis=0)\n",
    "    median_param = np.quantile(posterior_samples_PF, q=0.5, axis=0)\n",
    "    # euclidean distance\n",
    "    euc_dist = norm(true_theta-mean_param)\n",
    "    \n",
    "    # probability stuff\n",
    "    log_prob_true_thetas_ind, log_prob_true_thetas_all, log_prob_true_thetas_flag = genProbThetas(true_theta,\n",
    "                                        posterior_samples_PF, log_probability_PF, theta_prec=4, mult_factor=10)\n",
    "    log_prob_out = log_prob_true_thetas_ind.mean()\n",
    "    \n",
    "    # covariance of the distribution\n",
    "    cov_sample = cov(posterior_samples_PF.T)\n",
    "    # determinant of the distribution\n",
    "    det_sample = det(cov_sample)\n",
    "    \n",
    "    cov_inv_temp = np.linalg.inv(cov_sample)\n",
    "    dist_temp = distance.mahalanobis(true_theta,mean_param,cov_inv_temp)\n",
    "    \n",
    "    # ------------- Streamflow Space\n",
    "    boots_params, boots_logprob, idxs = randBootstrap(posterior_samples_PF, log_probability_PF)\n",
    "    # will need to edit this portion\n",
    "    y_sims = genSimulation(DataX_test, boots_params, lstm_out_list,\n",
    "                           add_noise=True,f_noise=1e-2,lstm_idx=lstm_idx, y_len=y_len)\n",
    "\n",
    "    y_hat_full_PF = convertNumpy(y_hat_full_PF[0,:], toTorch=False)\n",
    "    \n",
    "    # calculate NSEs\n",
    "    RMSE_arr = np.empty(y_sims.shape[0])\n",
    "    for k in range(y_sims.shape[0]):\n",
    "        y_o = y_sims[k,:]\n",
    "        y_o = convertNumpy(y_o, toTorch=False)\n",
    "        RMSE_arr[k] = obj_mets.rmse(y_o, y_hat_full_PF)\n",
    "#         NSE_arr[k] = compute_stats(y_o, y_hat_full)[1]\n",
    "        del y_o\n",
    "\n",
    "#     NSE_ave = NSE_arr.mean()\n",
    "#     NSE_std = NSE_arr.std()\n",
    "    RMSE_ave = RMSE_arr.mean()\n",
    "    RMSE_std = RMSE_arr.std()\n",
    "\n",
    "    \n",
    "    # ------------- Put together\n",
    "    E2_1_arr[:,idx] = [dist_temp, det_sample, log_prob_out, RMSE_ave, RMSE_std]\n",
    "\n",
    "    del true_theta, y_hat_full_PF, y_hat_PF, posterior_samples_PF, log_probability_PF, mean_param, median_param\n",
    "    del euc_dist, log_prob_true_thetas_ind, log_prob_true_thetas_all, log_prob_true_thetas_flag\n",
    "    del log_prob_out, cov_sample, det_sample, boots_params, boots_logprob, idxs, y_sims\n",
    "    del RMSE_arr, RMSE_ave, RMSE_std, cov_inv_temp, dist_temp\n",
    "    "
   ]
  },
  {
   "cell_type": "markdown",
   "metadata": {},
   "source": [
    "### *Dimension 3b* - Ensemble of weakly-trained surrogates -  Increase the diversity of our system representations to combat bias.\n",
    "### Loading SBI Posteriors"
   ]
  },
  {
   "cell_type": "code",
   "execution_count": 32,
   "metadata": {},
   "outputs": [
    {
     "name": "stdout",
     "output_type": "stream",
     "text": [
      "0819_01_mod2_02_09_lstm_C_0210_01_full_surrogate\n",
      "warning: file exists\n",
      "/home/qh8373/SBI_TAYLOR/data/06_interp_out/experiments/0819_01_mod2_02_09_lstm_C_0210_01_full_surrogate/\n"
     ]
    }
   ],
   "source": [
    "# Directories\n",
    "sbi_run  = '0819_01_mod2_02_09_lstm_C_0210_01_full_surrogate'\n",
    "print(sbi_run)\n",
    "sbi_dir = f'/home/qh8373/SBI_TAYLOR/data/05_sbi_out/{sbi_run}/'\n",
    "save_dir = f'/home/qh8373/SBI_TAYLOR/data/06_interp_out/experiments/{sbi_run}/'\n",
    "\n",
    "try:\n",
    "    os.mkdir(f'{save_dir}')\n",
    "except:\n",
    "    print('warning: file exists')\n",
    "    pass\n",
    "\n",
    "print(save_dir)\n",
    "\n",
    "lstm_name = '02_09_lstm_C'\n",
    "lstm_path = f'/home/qh8373/SBI_TAYLOR/data/04_lstm_out/{lstm_name}/'\n",
    "\n",
    "# load lstm info\n",
    "with open(lstm_path+'list_df_cond.pkl', 'rb') as fp:\n",
    "    list_df_cond = pickle.load(fp)"
   ]
  },
  {
   "cell_type": "markdown",
   "metadata": {},
   "source": [
    "### a. Interpretive plots for each synthetic observations, parameters only"
   ]
  },
  {
   "cell_type": "markdown",
   "metadata": {},
   "source": [
    "#### Selection Criteria and Load Posterior"
   ]
  },
  {
   "cell_type": "code",
   "execution_count": 33,
   "metadata": {},
   "outputs": [],
   "source": [
    "# Selection Criteria\n",
    "sub = 0 # Posterior Sub (Lsim=0 to 10)\n",
    "idx = 1 #PF:LSTM, 0=82, 1=83, .... #Observation\n",
    "lstm_idx = 0 #LSTM number in ensemble, nb: should be the same idx as that used in inference = 0\n",
    "n_samples = 5000 \n",
    "sbi_dir_sub = f'{sbi_dir}{sub}/'\n",
    "\n",
    "stat_method = 'full'\n",
    "stat_typ = None\n",
    "embed_type = None\n",
    "out_dim = None\n",
    "\n",
    "add_noise = False\n",
    "f_noise = 1e-2\n",
    "rand_lstm = True\n",
    "\n",
    "# load posterior\n",
    "with open(sbi_dir_sub+'posterior.pkl', 'rb') as fp:\n",
    "    posterior = pickle.load(fp)"
   ]
  },
  {
   "cell_type": "markdown",
   "metadata": {},
   "source": [
    "#### General loading for posterior sampling"
   ]
  },
  {
   "cell_type": "code",
   "execution_count": 34,
   "metadata": {},
   "outputs": [],
   "source": [
    "'''\n",
    "ParFlow truth loads\n",
    "lstm_df_cond should be loaded\n",
    "to test ParFlow truths on models trained with LSTMs and previous tested with LSTM synthetic truths\n",
    "'''\n",
    "DataX_test, DataY_test, series_len, lstm_out_list = parseListDf(list_df_cond)\n",
    "test_params, num_params, num_unique, DataX_test = parseUniqueParams(DataX_test, series_len)\n",
    "\n",
    "\n",
    "'''\n",
    "sample observation (y_hat) and 'correct' parameter (true_theta)\n",
    "    y_hat_full is the full timeseries (important for embed and summary stat method)\n",
    "'''\n",
    "true_theta = test_params[idx]"
   ]
  },
  {
   "cell_type": "markdown",
   "metadata": {},
   "source": [
    "#### Sample Posterior (Emulated)"
   ]
  },
  {
   "cell_type": "code",
   "execution_count": 35,
   "metadata": {},
   "outputs": [
    {
     "name": "stderr",
     "output_type": "stream",
     "text": [
      "/home/qh8373/SBI_TAYLOR/sbi_taylor/scripts/05_utils/sbiutils.py:110: UserWarning: To copy construct from a tensor, it is recommended to use sourceTensor.clone().detach() or sourceTensor.clone().detach().requires_grad_(True), rather than torch.tensor(sourceTensor).\n",
      "  return torch.tensor(y_out)\n"
     ]
    },
    {
     "data": {
      "application/vnd.jupyter.widget-view+json": {
       "model_id": "bffdbf769dce4383b774e13dda9cb19e",
       "version_major": 2,
       "version_minor": 0
      },
      "text/plain": [
       "HBox(children=(FloatProgress(value=0.0, description='Drawing 5000 posterior samples', max=5000.0, style=Progre…"
      ]
     },
     "metadata": {},
     "output_type": "display_data"
    },
    {
     "name": "stderr",
     "output_type": "stream",
     "text": [
      "<ipython-input-35-fc0f29b1d899>:21: UserWarning: To copy construct from a tensor, it is recommended to use sourceTensor.clone().detach() or sourceTensor.clone().detach().requires_grad_(True), rather than torch.tensor(sourceTensor).\n",
      "  points=torch.tensor(true_theta),\n"
     ]
    },
    {
     "name": "stdout",
     "output_type": "stream",
     "text": [
      "\n",
      "the theta value is tensor([0.5995, 0.8495]) \n",
      "\n",
      "Emulated\n"
     ]
    },
    {
     "data": {
      "image/png": "[encoded data removed]",
      "text/plain": [
       "<Figure size 432x432 with 4 Axes>"
      ]
     },
     "metadata": {
      "needs_background": "light"
     },
     "output_type": "display_data"
    }
   ],
   "source": [
    "# emulated streamflow\n",
    "y_hat_full = reshape_y(simulate(DataX=DataX_test, theta=true_theta, lstm=lstm_out_list[lstm_idx]))\n",
    "y_hat = createYHat(y_hat_full, stat_method=stat_method, stat_typ=stat_typ, embed_type=embed_type)\n",
    "\n",
    "'''\n",
    "sample posterior and create log probability\n",
    "'''\n",
    "# emulated\n",
    "# - given observation(s), sample posterior, evaluate probability, and plot\n",
    "posterior_samples = posterior.sample((n_samples,), x=y_hat) # type - tensor object\n",
    "# posterior_samples_simulations = bulk_simulate(posterior_samples, num_days, n_samples, ensemble_path, model_path)\n",
    "log_probability = posterior.log_prob(posterior_samples, x=y_hat).unsqueeze(1) # type - tensor object\n",
    "\n",
    "'''\n",
    "Pairplot\n",
    "'''\n",
    "print('the theta value is', true_theta, '\\n')\n",
    "\n",
    "print('Emulated')\n",
    "fig, ax = analysis.pairplot(posterior_samples, \n",
    "                               points=torch.tensor(true_theta),\n",
    "                               limits=[[0, 1],[0, 1]], \n",
    "                               figsize=(6,6)) # \n",
    "fig.savefig(f'{save_dir}pair_plot_lstmidx_{lstm_idx}_sub_{sub}_runidx_{idx}_emulated.png')\n",
    "fig.savefig(f'{save_dir}pair_plot_lstmidx_{lstm_idx}_sub_{sub}_runidx_{idx}_emulated.eps', format='eps')\n",
    "\n",
    "plt.show()"
   ]
  },
  {
   "cell_type": "markdown",
   "metadata": {},
   "source": [
    "#### Sample Posterior (ParFlow)\n",
    "* nb: to check for bias"
   ]
  },
  {
   "cell_type": "code",
   "execution_count": 36,
   "metadata": {},
   "outputs": [
    {
     "name": "stderr",
     "output_type": "stream",
     "text": [
      "/home/qh8373/SBI_TAYLOR/sbi_taylor/scripts/05_utils/sbiutils.py:110: UserWarning: To copy construct from a tensor, it is recommended to use sourceTensor.clone().detach() or sourceTensor.clone().detach().requires_grad_(True), rather than torch.tensor(sourceTensor).\n",
      "  return torch.tensor(y_out)\n"
     ]
    },
    {
     "data": {
      "application/vnd.jupyter.widget-view+json": {
       "model_id": "e280f511be754cf7a050ba738979a653",
       "version_major": 2,
       "version_minor": 0
      },
      "text/plain": [
       "HBox(children=(FloatProgress(value=0.0, description='Drawing 5000 posterior samples', max=5000.0, style=Progre…"
      ]
     },
     "metadata": {},
     "output_type": "display_data"
    },
    {
     "name": "stderr",
     "output_type": "stream",
     "text": [
      "<ipython-input-36-e3e1d5de5aa7>:26: UserWarning: To copy construct from a tensor, it is recommended to use sourceTensor.clone().detach() or sourceTensor.clone().detach().requires_grad_(True), rather than torch.tensor(sourceTensor).\n",
      "  points=torch.tensor(true_theta),\n"
     ]
    },
    {
     "name": "stdout",
     "output_type": "stream",
     "text": [
      "\n",
      "the theta value is tensor([0.5995, 0.8495]) \n",
      "\n",
      "PARFLOW\n"
     ]
    },
    {
     "data": {
      "image/png": "[encoded data removed]",
      "text/plain": [
       "<Figure size 432x432 with 4 Axes>"
      ]
     },
     "metadata": {
      "needs_background": "light"
     },
     "output_type": "display_data"
    }
   ],
   "source": [
    "# PF\n",
    "unique_series_PF = createYHatList(DataY_test, series_len, num_unique,\n",
    "                stat_method=stat_method, stat_typ=stat_typ, embed_type=embed_type)\n",
    "unique_series_full_PF = createYHatList(DataY_test, series_len, num_unique,\n",
    "                    stat_method='full', stat_typ=None, embed_type=None)\n",
    "y_hat_PF = unique_series_PF[idx]\n",
    "y_hat_full_PF = unique_series_full_PF[idx]\n",
    "\n",
    "'''\n",
    "sample posterior and create log probability\n",
    "'''\n",
    "# PF\n",
    "# - given observation(s), sample posterior, evaluate probability, and plot\n",
    "posterior_samples_PF = posterior.sample((n_samples,), x=y_hat_PF) # type - tensor object\n",
    "# posterior_samples_simulations = bulk_simulate(posterior_samples, num_days, n_samples, ensemble_path, model_path)\n",
    "log_probability_PF = posterior.log_prob(posterior_samples_PF, x=y_hat_PF).unsqueeze(1) # type - tensor object\n",
    "\n",
    "\n",
    "'''\n",
    "Pairplot\n",
    "'''\n",
    "print('the theta value is', true_theta, '\\n')\n",
    "\n",
    "print('PARFLOW')\n",
    "fig, ax = analysis.pairplot(posterior_samples_PF, \n",
    "                               points=torch.tensor(true_theta),\n",
    "                               limits=[[0, 1],[0, 1]], \n",
    "                               figsize=(6,6)) # \n",
    "fig.savefig(f'{save_dir}pair_plot_lstmidx_{lstm_idx}_sub_{sub}_runidx_{idx}_PF.png')\n",
    "fig.savefig(f'{save_dir}pair_plot_lstmidx_{lstm_idx}_sub_{sub}_runidx_{idx}_PF.eps', format='eps')\n",
    "\n",
    "plt.show()\n",
    "\n"
   ]
  },
  {
   "cell_type": "code",
   "execution_count": 37,
   "metadata": {},
   "outputs": [
    {
     "name": "stdout",
     "output_type": "stream",
     "text": [
      "tensor(-3.8018)\n",
      "tensor(5.4429)\n",
      "tensor(4.4680) \n",
      "\n",
      "tensor(-3.3105)\n",
      "tensor(5.4194)\n",
      "tensor(4.3838) \n",
      "\n"
     ]
    }
   ],
   "source": [
    "print(log_probability.min())\n",
    "print(log_probability.max())\n",
    "print(log_probability.mean(), '\\n')\n",
    "\n",
    "print(log_probability_PF.min())\n",
    "print(log_probability_PF.max())\n",
    "print(log_probability_PF.mean(), '\\n')"
   ]
  },
  {
   "cell_type": "code",
   "execution_count": 38,
   "metadata": {},
   "outputs": [
    {
     "name": "stdout",
     "output_type": "stream",
     "text": [
      "tensor([[0.5733, 0.8285],\n",
      "        [0.5969, 0.8829],\n",
      "        [0.6384, 0.8431],\n",
      "        [0.6421, 0.7995],\n",
      "        [0.5801, 0.8713],\n",
      "        [0.5708, 0.9244],\n",
      "        [0.5898, 0.8407],\n",
      "        [0.5765, 0.8052],\n",
      "        [0.5766, 0.7853],\n",
      "        [0.5915, 0.8728]])\n"
     ]
    }
   ],
   "source": [
    "# ParFlow\n",
    "# to run forward in ParFlow\n",
    "out_params_3, out_logprob_3, out_idxs_3 = randBootstrap(posterior_samples_PF, log_probability_PF, n=10)\n",
    "\n",
    "print(out_params_3)"
   ]
  },
  {
   "cell_type": "markdown",
   "metadata": {},
   "source": [
    "### b. Interpretive plots for each synthetic observations, streamflow timeseries only"
   ]
  },
  {
   "cell_type": "markdown",
   "metadata": {},
   "source": [
    "#### Bootstrap + Get Truth (Emulated)"
   ]
  },
  {
   "cell_type": "code",
   "execution_count": 39,
   "metadata": {},
   "outputs": [],
   "source": [
    "'''\n",
    "bootstrap\n",
    "'''\n",
    "# emulated\n",
    "boots_params, boots_logprob, idxs = randBootstrap(posterior_samples, log_probability)\n",
    "\n",
    "'''\n",
    "get 'truth'\n",
    "'''\n",
    "# emulated\n",
    "y_hat_plot = y_hat_full.T.detach().numpy()\n",
    "y_len = len(y_hat_plot)"
   ]
  },
  {
   "cell_type": "markdown",
   "metadata": {},
   "source": [
    "#### Run Forward Simulations (emulators)"
   ]
  },
  {
   "cell_type": "code",
   "execution_count": 54,
   "metadata": {},
   "outputs": [
    {
     "name": "stdout",
     "output_type": "stream",
     "text": [
      "Caution, multiple emulators available\n",
      "True\n",
      "10\n",
      "0.5624072551727295\n"
     ]
    }
   ],
   "source": [
    "# generate forward simulations\n",
    "if len(lstm_out_list) > 1:\n",
    "    print('Caution, multiple emulators available')\n",
    "\n",
    "y_sims = genSimulation(DataX_test, boots_params, lstm_out_list,\n",
    "                       add_noise=add_noise, f_noise=f_noise,\n",
    "                       rand_lstm=rand_lstm,\n",
    "                       lstm_idx=lstm_idx, y_len=y_len)\n",
    "print(rand_lstm)\n",
    "print(len(lstm_out_list))\n",
    "print(y_sims.max())"
   ]
  },
  {
   "cell_type": "markdown",
   "metadata": {},
   "source": [
    "#### Plot time series (emulators)"
   ]
  },
  {
   "cell_type": "code",
   "execution_count": 60,
   "metadata": {},
   "outputs": [
    {
     "name": "stderr",
     "output_type": "stream",
     "text": [
      "WARNING: backend_ps._is_transparent(): The PostScript backend does not support transparency; partially transparent artists will be rendered opaque.\n",
      "WARNING: backend_ps._is_transparent(): The PostScript backend does not support transparency; partially transparent artists will be rendered opaque.\n",
      "WARNING: backend_ps._is_transparent(): The PostScript backend does not support transparency; partially transparent artists will be rendered opaque.\n",
      "WARNING: backend_ps._is_transparent(): The PostScript backend does not support transparency; partially transparent artists will be rendered opaque.\n",
      "WARNING: backend_ps._is_transparent(): The PostScript backend does not support transparency; partially transparent artists will be rendered opaque.\n"
     ]
    },
    {
     "name": "stdout",
     "output_type": "stream",
     "text": [
      "emulated\n"
     ]
    },
    {
     "data": {
      "image/png": "[encoded data removed]",
      "text/plain": [
       "<Figure size 720x360 with 1 Axes>"
      ]
     },
     "metadata": {
      "needs_background": "light"
     },
     "output_type": "display_data"
    }
   ],
   "source": [
    "x = np.linspace(0,len(y_hat_plot)-1, len(y_hat_plot))\n",
    "\n",
    "# emulated\n",
    "print('emulated')\n",
    "fig, ax = plt.subplots(figsize=(10, 5))\n",
    "sub_sub = \"{:02d}\".format(idx)\n",
    "\n",
    "# ax.plot(y_sims.T, color='blue', alpha=0.25, zorder=0)# , label='y_sims')\n",
    "ax.plot(y_sims.T.min(axis=1), color='blue', linewidth=1, zorder=0, label='min')\n",
    "ax.plot(y_sims.T.max(axis=1), color='blue', linewidth=1, zorder=0, label='max')\n",
    "ax.plot(np.mean(y_sims.T,axis=1), color='red', linewidth=1, label='mean', zorder=2)\n",
    "ax.plot(y_hat_plot, color='green', linewidth=2, label='y_hat', zorder=1)\n",
    "ax.fill_between(x, y_sims.T.min(axis=1), y_sims.T.max(axis=1), color='blue', zorder=0, alpha=0.5)\n",
    "\n",
    "ax.set_ylim(0,1)\n",
    "ax.legend()\n",
    "fig.savefig(f'{save_dir}streamflow_series_{sub}_runidx_{idx}_emulated.png')\n",
    "fig.savefig(f'{save_dir}streamflow_series_{sub}_runidx_{idx}_emulated.eps', format='eps')\n",
    "plt.show()\n"
   ]
  },
  {
   "cell_type": "markdown",
   "metadata": {},
   "source": [
    "#### Bootstrap + Get Truth (ParFlow)"
   ]
  },
  {
   "cell_type": "code",
   "execution_count": 55,
   "metadata": {},
   "outputs": [],
   "source": [
    "'''\n",
    "bootstrap\n",
    "'''\n",
    "# PARFLOW\n",
    "boots_params_PF, boots_logprob_PF, idxs_PF = randBootstrap(posterior_samples_PF, log_probability_PF)\n",
    "\n",
    "'''\n",
    "get 'truth'\n",
    "'''\n",
    "# PARFLOW\n",
    "y_hat_plot_PF = y_hat_full_PF.T.detach().numpy()\n",
    "y_len = len(y_hat_plot_PF)\n"
   ]
  },
  {
   "cell_type": "markdown",
   "metadata": {},
   "source": [
    "#### Run Forward Simulations (ParFlow)"
   ]
  },
  {
   "cell_type": "code",
   "execution_count": 63,
   "metadata": {},
   "outputs": [
    {
     "name": "stdout",
     "output_type": "stream",
     "text": [
      "Caution, multiple emulators available\n",
      "LSTM(\n",
      "  (lstm): LSTM(10, 10, batch_first=True)\n",
      "  (fc): Linear(in_features=10, out_features=1, bias=True)\n",
      ")\n",
      "10\n",
      "0.017962045967578888\n"
     ]
    }
   ],
   "source": [
    "# generate forward simulations\n",
    "if len(lstm_out_list) > 1:\n",
    "    print('Caution, multiple emulators available')\n",
    "\n",
    "y_sims_PF = genSimulation(DataX_test, boots_params_PF, lstm_out_list,\n",
    "                          add_noise=add_noise, f_noise=f_noise,\n",
    "                           rand_lstm=rand_lstm,\n",
    "                           lstm_idx=lstm_idx, y_len=y_len)\n",
    "print(lstm_out_list[1])\n",
    "print(len(lstm_out_list))\n",
    "print(y_sims_PF[0,200])"
   ]
  },
  {
   "cell_type": "markdown",
   "metadata": {},
   "source": [
    "#### Plot time series (ParFlow)"
   ]
  },
  {
   "cell_type": "code",
   "execution_count": 63,
   "metadata": {
    "scrolled": true
   },
   "outputs": [
    {
     "name": "stderr",
     "output_type": "stream",
     "text": [
      "WARNING: backend_ps._is_transparent(): The PostScript backend does not support transparency; partially transparent artists will be rendered opaque.\n",
      "WARNING: backend_ps._is_transparent(): The PostScript backend does not support transparency; partially transparent artists will be rendered opaque.\n",
      "WARNING: backend_ps._is_transparent(): The PostScript backend does not support transparency; partially transparent artists will be rendered opaque.\n",
      "WARNING: backend_ps._is_transparent(): The PostScript backend does not support transparency; partially transparent artists will be rendered opaque.\n",
      "WARNING: backend_ps._is_transparent(): The PostScript backend does not support transparency; partially transparent artists will be rendered opaque.\n"
     ]
    },
    {
     "name": "stdout",
     "output_type": "stream",
     "text": [
      "Parflow\n"
     ]
    },
    {
     "data": {
      "image/png": "[encoded data removed]",
      "text/plain": [
       "<Figure size 720x360 with 1 Axes>"
      ]
     },
     "metadata": {
      "needs_background": "light"
     },
     "output_type": "display_data"
    }
   ],
   "source": [
    "# PARFLOW\n",
    "print('Parflow')\n",
    "fig, ax = plt.subplots(figsize=(10, 5))\n",
    "sub_sub = \"{:02d}\".format(idx)\n",
    "\n",
    "# ax.plot(y_sims_PF.T, color='blue', alpha=0.25, zorder=0)# , label='y_sims')\n",
    "ax.plot(y_sims_PF.T.min(axis=1), color='blue', linewidth=1, zorder=0, label='min')\n",
    "ax.plot(y_sims_PF.T.max(axis=1), color='blue', linewidth=1, zorder=0, label='max')\n",
    "ax.plot(np.mean(y_sims_PF.T,axis=1), color='red', linewidth=1, label='mean', zorder=2)\n",
    "ax.plot(y_hat_plot_PF, color='green', linewidth=2, label='y_hat', zorder=1)\n",
    "ax.fill_between(x, y_sims_PF.T.min(axis=1), y_sims_PF.T.max(axis=1), color='blue', zorder=0, alpha=0.5)\n",
    "\n",
    "ax.set_ylim(0,1)\n",
    "ax.legend()\n",
    "fig.savefig(f'{save_dir}streamflow_series_{sub}_runidx_{idx}_PF.png')\n",
    "fig.savefig(f'{save_dir}streamflow_series_{sub}_runidx_{idx}_PF.eps', format='eps')\n",
    "plt.show()"
   ]
  },
  {
   "cell_type": "markdown",
   "metadata": {},
   "source": [
    "### RMSE"
   ]
  },
  {
   "cell_type": "code",
   "execution_count": 42,
   "metadata": {},
   "outputs": [
    {
     "data": {
      "image/png": "[encoded data removed]",
      "text/plain": [
       "<Figure size 432x288 with 1 Axes>"
      ]
     },
     "metadata": {
      "needs_background": "light"
     },
     "output_type": "display_data"
    }
   ],
   "source": [
    "rmse_arr = np.empty(y_sims_PF.shape[0])\n",
    "xi = 0\n",
    "for sim in y_sims_PF:\n",
    "    rmse_arr[xi] = obj_mets.rmse(y_hat_plot_PF[:,0], sim)\n",
    "    xi += 1\n",
    "\n",
    "fig, ax = plt.subplots()\n",
    "    \n",
    "# help(plt.hist)\n",
    "plt.hist(rmse_arr, color='black', density=False, bins=10)\n",
    "plt.xlim(0,0.1)\n",
    "plt.ylim(0, 16)\n",
    "plt.title('Streamflow RMSE')\n",
    "plt.ylabel('Count')\n",
    "plt.xlabel('RMSE')\n",
    "fig.savefig(f'{save_dir}histogram_streamflow_series_{sub}_runidx_{idx}_PF_ensemble.png')\n",
    "fig.savefig(f'{save_dir}histogram_streamflow_series_{sub}_runidx_{idx}_PF_ensemble.eps', format='eps')\n",
    "plt.show()"
   ]
  },
  {
   "cell_type": "code",
   "execution_count": 17,
   "metadata": {},
   "outputs": [
    {
     "name": "stdout",
     "output_type": "stream",
     "text": [
      "0.01549649429017108\n",
      "0.004600604391548389\n"
     ]
    }
   ],
   "source": [
    "print(rmse_arr.mean())\n",
    "print(rmse_arr.std())"
   ]
  },
  {
   "cell_type": "markdown",
   "metadata": {},
   "source": [
    "### Summary Statistics"
   ]
  },
  {
   "cell_type": "code",
   "execution_count": 84,
   "metadata": {},
   "outputs": [
    {
     "name": "stdout",
     "output_type": "stream",
     "text": [
      "covariance matrix is...\n",
      "[[ 6.14012220e-04 -1.93894158e-05]\n",
      " [-1.93894158e-05  8.29471945e-04]]\n",
      "\n",
      " determinant of covariance matrix is...\n",
      "5.089299608835479e-07\n",
      "\n",
      " True theta [0.599485 0.849485]\n",
      "\n",
      " Mean theta [0.5776233 0.8588431]\n",
      "Inverse Covariance [[1629.83516224   38.09839716]\n",
      " [  38.09839716 1206.47685706]]\n",
      "\n",
      " Man - distance, scipy routine\n",
      "0.9322119633731679\n"
     ]
    }
   ],
   "source": [
    "# get covariance matrix\n",
    "post_cov_PF = np.cov(posterior_samples_PF.T)\n",
    "print('covariance matrix is...')\n",
    "print(post_cov_PF)\n",
    "\n",
    "# get determinant\n",
    "det_PF = np.linalg.det(post_cov_PF)\n",
    "print('\\n determinant of covariance matrix is...')\n",
    "print(det_PF)\n",
    "\n",
    "# get mahalanobis distance\n",
    "# from https://docs.scipy.org/doc/scipy/reference/generated/scipy.spatial.distance.mahalanobis.html\n",
    "# https://en.wikipedia.org/wiki/Mahalanobis_distance\n",
    "# note, using the test data taken from earlier, class 0, a single point\n",
    "# true theta\n",
    "true_th_PF = np.array(true_theta)\n",
    "# extract average for later\n",
    "mean_th_PF = np.array(posterior_samples_PF.mean(axis=0))\n",
    "# invert covariance for later\n",
    "post_cov_inv_PF = np.linalg.inv(post_cov_PF)\n",
    "\n",
    "print('\\n True theta', true_th_PF)\n",
    "print('\\n Mean theta', mean_th_PF)\n",
    "print('Inverse Covariance', post_cov_inv_PF)\n",
    "\n",
    "print(\"\\n Man - distance, scipy routine\")\n",
    "dist = distance.mahalanobis(true_th_PF,mean_th_PF,post_cov_inv_PF)\n",
    "print(dist)\n",
    "\n",
    "# print('\\n Euclidian Distance')\n",
    "# eu_dist = np.sqrt( (true_th[0] - mean_th[0])**2 + (true_th[1] - mean_th[1])**2)\n",
    "# eu_dist_norm = np.sqrt( (true_th[0] - mean_th[0])**2/post_cov[0,0] + (true_th[1] - mean_th[1])**2/post_cov[1,1])\n",
    "# print(eu_dist)\n",
    "# print(eu_dist_norm)"
   ]
  },
  {
   "cell_type": "code",
   "execution_count": 85,
   "metadata": {},
   "outputs": [
    {
     "data": {
      "image/png": "[encoded data removed]",
      "text/plain": [
       "<Figure size 432x288 with 2 Axes>"
      ]
     },
     "metadata": {
      "needs_background": "light"
     },
     "output_type": "display_data"
    }
   ],
   "source": [
    "# vmin and max, in an ideal world\n",
    "vm, vma = -1e-2, 1e-2 #-np.max(np.abs(post_cov)), np.max(np.abs(post_cov)) # (-1e-2, 1e-2)\n",
    "\n",
    "# normalize for negatives (https://blogs.sas.com/content/iml/2011/04/27/log-transformations-how-to-handle-negative-data-values.html)\n",
    "b = 1\n",
    "a = b - vm\n",
    "\n",
    "log_post_cov = np.log10(post_cov_PF + a)\n",
    "\n",
    "# subtract from minimum for log-scale plottage\n",
    "vm_pl, vma_pl = np.log10(vm+a), np.log10(vma+a)\n",
    "\n",
    "fig, ax = plt.subplots()\n",
    "\n",
    "# heat map\n",
    "sns.heatmap(log_post_cov, vmin=vm_pl, vmax=vma_pl, cmap='seismic',\n",
    "           xticklabels=['K', 'M'], yticklabels=['K','M'], annot=post_cov_PF, fmt='.1e')\n",
    "#plt.title(r'Covariance $\\Sigma_{M,K}$'+'\\n'+r'Determinant $|\\Sigma| = $'+f'{det:.1e}'+'\\n'+f'Scale min {vm:.1e} max {vma:.1e}''\\n'+f'Mahalanobis Distance {dist:.2e}'+ f'\\n Euclidian Distance {eu_dist:.2e}')\n",
    "fig.savefig(f'{save_dir}cov_mat_lstmidx_{lstm_idx}_sub_{sub}_runidx_{idx}_PF_ensemble.png')\n",
    "fig.savefig(f'{save_dir}cov_mat_lstmidx_{lstm_idx}_sub_{sub}_runidx_{idx}_PF_ensemble.eps', format='eps')\n",
    "plt.show()\n"
   ]
  },
  {
   "cell_type": "markdown",
   "metadata": {},
   "source": [
    "## Bulk Stuff"
   ]
  },
  {
   "cell_type": "markdown",
   "metadata": {},
   "source": [
    "#### Experiment 2_3b Bulk (ParFlow Truth using Ensemble)"
   ]
  },
  {
   "cell_type": "code",
   "execution_count": 8,
   "metadata": {},
   "outputs": [
    {
     "name": "stderr",
     "output_type": "stream",
     "text": [
      "/home/qh8373/SBI_TAYLOR/sbi_taylor/scripts/05_utils/sbiutils.py:110: UserWarning: To copy construct from a tensor, it is recommended to use sourceTensor.clone().detach() or sourceTensor.clone().detach().requires_grad_(True), rather than torch.tensor(sourceTensor).\n",
      "  return torch.tensor(y_out)\n"
     ]
    },
    {
     "data": {
      "application/vnd.jupyter.widget-view+json": {
       "model_id": "b5370b9abdb649f88ea581990caf21ea",
       "version_major": 2,
       "version_minor": 0
      },
      "text/plain": [
       "HBox(children=(FloatProgress(value=0.0, description='Drawing 5000 posterior samples', max=5000.0, style=Progre…"
      ]
     },
     "metadata": {},
     "output_type": "display_data"
    },
    {
     "name": "stdout",
     "output_type": "stream",
     "text": [
      "\n"
     ]
    },
    {
     "data": {
      "application/vnd.jupyter.widget-view+json": {
       "model_id": "5eb44f796830403e8af740733d2ca986",
       "version_major": 2,
       "version_minor": 0
      },
      "text/plain": [
       "HBox(children=(FloatProgress(value=0.0, description='Drawing 5000 posterior samples', max=5000.0, style=Progre…"
      ]
     },
     "metadata": {},
     "output_type": "display_data"
    },
    {
     "name": "stdout",
     "output_type": "stream",
     "text": [
      "\n"
     ]
    },
    {
     "data": {
      "application/vnd.jupyter.widget-view+json": {
       "model_id": "5ddfaf0d632c4193bd4b73ecf4636054",
       "version_major": 2,
       "version_minor": 0
      },
      "text/plain": [
       "HBox(children=(FloatProgress(value=0.0, description='Drawing 5000 posterior samples', max=5000.0, style=Progre…"
      ]
     },
     "metadata": {},
     "output_type": "display_data"
    },
    {
     "name": "stdout",
     "output_type": "stream",
     "text": [
      "\n"
     ]
    },
    {
     "data": {
      "application/vnd.jupyter.widget-view+json": {
       "model_id": "36dd299d81ea495f8a07aca74228d8d5",
       "version_major": 2,
       "version_minor": 0
      },
      "text/plain": [
       "HBox(children=(FloatProgress(value=0.0, description='Drawing 5000 posterior samples', max=5000.0, style=Progre…"
      ]
     },
     "metadata": {},
     "output_type": "display_data"
    },
    {
     "name": "stdout",
     "output_type": "stream",
     "text": [
      "\n"
     ]
    },
    {
     "data": {
      "application/vnd.jupyter.widget-view+json": {
       "model_id": "37fd448f310d4a43b49a2c6825c3c722",
       "version_major": 2,
       "version_minor": 0
      },
      "text/plain": [
       "HBox(children=(FloatProgress(value=0.0, description='Drawing 5000 posterior samples', max=5000.0, style=Progre…"
      ]
     },
     "metadata": {},
     "output_type": "display_data"
    },
    {
     "name": "stdout",
     "output_type": "stream",
     "text": [
      "\n"
     ]
    },
    {
     "name": "stderr",
     "output_type": "stream",
     "text": [
      "/home/qh8373/SBI_TAYLOR/sbi_taylor/scripts/05_utils/posteriorsamputils.py:97: RuntimeWarning: Mean of empty slice.\n",
      "  log_prob_true_thetas_ind[i] = np.take(log_probability, theta_idx)[0].mean()\n",
      "/home/SHARED/software/anaconda3/2020.07e/lib/python3.8/site-packages/numpy/core/_methods.py:188: RuntimeWarning: invalid value encountered in true_divide\n",
      "  ret = ret.dtype.type(ret / rcount)\n"
     ]
    },
    {
     "data": {
      "application/vnd.jupyter.widget-view+json": {
       "model_id": "309d14b21ffc47bc9d9f5714d884a5c5",
       "version_major": 2,
       "version_minor": 0
      },
      "text/plain": [
       "HBox(children=(FloatProgress(value=0.0, description='Drawing 5000 posterior samples', max=5000.0, style=Progre…"
      ]
     },
     "metadata": {},
     "output_type": "display_data"
    },
    {
     "name": "stdout",
     "output_type": "stream",
     "text": [
      "\n"
     ]
    },
    {
     "data": {
      "application/vnd.jupyter.widget-view+json": {
       "model_id": "11da095aeac045039fdef6b1fc5118de",
       "version_major": 2,
       "version_minor": 0
      },
      "text/plain": [
       "HBox(children=(FloatProgress(value=0.0, description='Drawing 5000 posterior samples', max=5000.0, style=Progre…"
      ]
     },
     "metadata": {},
     "output_type": "display_data"
    },
    {
     "name": "stdout",
     "output_type": "stream",
     "text": [
      "\n"
     ]
    },
    {
     "data": {
      "application/vnd.jupyter.widget-view+json": {
       "model_id": "290496ccecba4cb9b11451adc82ae53f",
       "version_major": 2,
       "version_minor": 0
      },
      "text/plain": [
       "HBox(children=(FloatProgress(value=0.0, description='Drawing 5000 posterior samples', max=5000.0, style=Progre…"
      ]
     },
     "metadata": {},
     "output_type": "display_data"
    },
    {
     "name": "stdout",
     "output_type": "stream",
     "text": [
      "\n"
     ]
    },
    {
     "data": {
      "application/vnd.jupyter.widget-view+json": {
       "model_id": "c1a113dff37e40df8933c9a8d9014cf8",
       "version_major": 2,
       "version_minor": 0
      },
      "text/plain": [
       "HBox(children=(FloatProgress(value=0.0, description='Drawing 5000 posterior samples', max=5000.0, style=Progre…"
      ]
     },
     "metadata": {},
     "output_type": "display_data"
    },
    {
     "name": "stdout",
     "output_type": "stream",
     "text": [
      "\n"
     ]
    },
    {
     "data": {
      "application/vnd.jupyter.widget-view+json": {
       "model_id": "1c4a8db178b54b9db2e717dbadd15b4e",
       "version_major": 2,
       "version_minor": 0
      },
      "text/plain": [
       "HBox(children=(FloatProgress(value=0.0, description='Drawing 5000 posterior samples', max=5000.0, style=Progre…"
      ]
     },
     "metadata": {},
     "output_type": "display_data"
    },
    {
     "name": "stdout",
     "output_type": "stream",
     "text": [
      "\n"
     ]
    },
    {
     "data": {
      "application/vnd.jupyter.widget-view+json": {
       "model_id": "030117d799ad40c398a342736457460c",
       "version_major": 2,
       "version_minor": 0
      },
      "text/plain": [
       "HBox(children=(FloatProgress(value=0.0, description='Drawing 5000 posterior samples', max=5000.0, style=Progre…"
      ]
     },
     "metadata": {},
     "output_type": "display_data"
    },
    {
     "name": "stdout",
     "output_type": "stream",
     "text": [
      "\n"
     ]
    },
    {
     "data": {
      "application/vnd.jupyter.widget-view+json": {
       "model_id": "7944ba2f9f91467d9870d69ab1ad2e79",
       "version_major": 2,
       "version_minor": 0
      },
      "text/plain": [
       "HBox(children=(FloatProgress(value=0.0, description='Drawing 5000 posterior samples', max=5000.0, style=Progre…"
      ]
     },
     "metadata": {},
     "output_type": "display_data"
    },
    {
     "name": "stdout",
     "output_type": "stream",
     "text": [
      "\n"
     ]
    },
    {
     "data": {
      "application/vnd.jupyter.widget-view+json": {
       "model_id": "d48f4a65fbeb4cf08cd040b576176fb7",
       "version_major": 2,
       "version_minor": 0
      },
      "text/plain": [
       "HBox(children=(FloatProgress(value=0.0, description='Drawing 5000 posterior samples', max=5000.0, style=Progre…"
      ]
     },
     "metadata": {},
     "output_type": "display_data"
    },
    {
     "name": "stdout",
     "output_type": "stream",
     "text": [
      "\n"
     ]
    },
    {
     "data": {
      "application/vnd.jupyter.widget-view+json": {
       "model_id": "ada7d70252f743179594ce6e953ff312",
       "version_major": 2,
       "version_minor": 0
      },
      "text/plain": [
       "HBox(children=(FloatProgress(value=0.0, description='Drawing 5000 posterior samples', max=5000.0, style=Progre…"
      ]
     },
     "metadata": {},
     "output_type": "display_data"
    },
    {
     "name": "stdout",
     "output_type": "stream",
     "text": [
      "\n"
     ]
    },
    {
     "data": {
      "application/vnd.jupyter.widget-view+json": {
       "model_id": "e7b48201d8ce4bb58af16c5e3b50b556",
       "version_major": 2,
       "version_minor": 0
      },
      "text/plain": [
       "HBox(children=(FloatProgress(value=0.0, description='Drawing 5000 posterior samples', max=5000.0, style=Progre…"
      ]
     },
     "metadata": {},
     "output_type": "display_data"
    },
    {
     "name": "stdout",
     "output_type": "stream",
     "text": [
      "\n"
     ]
    },
    {
     "data": {
      "application/vnd.jupyter.widget-view+json": {
       "model_id": "edefb9c9df1a4868a4377be796bf6672",
       "version_major": 2,
       "version_minor": 0
      },
      "text/plain": [
       "HBox(children=(FloatProgress(value=0.0, description='Drawing 5000 posterior samples', max=5000.0, style=Progre…"
      ]
     },
     "metadata": {},
     "output_type": "display_data"
    },
    {
     "name": "stdout",
     "output_type": "stream",
     "text": [
      "\n"
     ]
    },
    {
     "data": {
      "application/vnd.jupyter.widget-view+json": {
       "model_id": "f8f3261f0ec140eeac4f67b1fbd64628",
       "version_major": 2,
       "version_minor": 0
      },
      "text/plain": [
       "HBox(children=(FloatProgress(value=0.0, description='Drawing 5000 posterior samples', max=5000.0, style=Progre…"
      ]
     },
     "metadata": {},
     "output_type": "display_data"
    },
    {
     "name": "stdout",
     "output_type": "stream",
     "text": [
      "\n"
     ]
    },
    {
     "data": {
      "application/vnd.jupyter.widget-view+json": {
       "model_id": "6741d3b46be04aedb7c0f59162056763",
       "version_major": 2,
       "version_minor": 0
      },
      "text/plain": [
       "HBox(children=(FloatProgress(value=0.0, description='Drawing 5000 posterior samples', max=5000.0, style=Progre…"
      ]
     },
     "metadata": {},
     "output_type": "display_data"
    },
    {
     "name": "stdout",
     "output_type": "stream",
     "text": [
      "\n"
     ]
    }
   ],
   "source": [
    "# create time series\n",
    "unique_series_PF = createYHatList(DataY_test, series_len, num_unique,\n",
    "                stat_method=stat_method, stat_typ=stat_typ, embed_type=embed_type)\n",
    "unique_series_full_PF = createYHatList(DataY_test, series_len, num_unique,\n",
    "                    stat_method='full', stat_typ=None, embed_type=None)\n",
    "\n",
    "# storage\n",
    "E2_3b_arr = np.empty((5, 18))\n",
    "\n",
    "# loop through all 18\n",
    "for idx in range(18):\n",
    "    # ------------- Set Up\n",
    "    # set true theta\n",
    "    true_theta = test_params[idx]\n",
    "    \n",
    "    # set series\n",
    "    y_hat_PF = unique_series_PF[idx]\n",
    "    y_hat_full_PF = unique_series_full_PF[idx]\n",
    "    \n",
    "    # ------------- Parameter Space\n",
    "    # sample posterior and create log probability\n",
    "    # - given observation(s), sample posterior, evaluate probability, and plot\n",
    "    posterior_samples_PF = posterior.sample((n_samples,), x=y_hat_PF) # type - tensor object\n",
    "    # posterior_samples_simulations = bulk_simulate(posterior_samples, num_days, n_samples, ensemble_path, model_path)\n",
    "    log_probability_PF = posterior.log_prob(posterior_samples_PF, x=y_hat_PF).unsqueeze(1) # type - tensor object\n",
    "\n",
    "    \n",
    "    # calculate determinent, average euclidean distance, and average log prob\n",
    "    mean_param = posterior_samples_PF.mean(axis=0)\n",
    "    median_param = np.quantile(posterior_samples_PF, q=0.5, axis=0)\n",
    "    # euclidean distance\n",
    "    euc_dist = norm(true_theta-mean_param)\n",
    "    \n",
    "    # probability stuff\n",
    "    log_prob_true_thetas_ind, log_prob_true_thetas_all, log_prob_true_thetas_flag = genProbThetas(true_theta,\n",
    "                                        posterior_samples_PF, log_probability_PF, theta_prec=4, mult_factor=10)\n",
    "    log_prob_out = log_prob_true_thetas_ind.mean()\n",
    "    \n",
    "    # covariance of the distribution\n",
    "    cov_sample = cov(posterior_samples_PF.T)\n",
    "    # determinant of the distribution\n",
    "    det_sample = det(cov_sample)\n",
    "    \n",
    "    cov_inv_temp = np.linalg.inv(cov_sample)\n",
    "    dist_temp = distance.mahalanobis(true_theta,mean_param,cov_inv_temp)\n",
    "    \n",
    "    # ------------- Streamflow Space\n",
    "    boots_params, boots_logprob, idxs = randBootstrap(posterior_samples_PF, log_probability_PF)\n",
    "    # will need to edit this portion\n",
    "    y_sims = genSimulation(DataX_test, boots_params, lstm_out_list,\n",
    "                       add_noise=add_noise, f_noise=f_noise,\n",
    "                       rand_lstm=rand_lstm,\n",
    "                       lstm_idx=lstm_idx, y_len=y_len)\n",
    "\n",
    "    y_hat_full_PF = convertNumpy(y_hat_full_PF[0,:], toTorch=False)\n",
    "    \n",
    "    # calculate NSEs\n",
    "    RMSE_arr = np.empty(y_sims.shape[0])\n",
    "    for k in range(y_sims.shape[0]):\n",
    "        y_o = y_sims[k,:]\n",
    "        y_o = convertNumpy(y_o, toTorch=False)\n",
    "        RMSE_arr[k] = obj_mets.rmse(y_o, y_hat_full_PF)\n",
    "#         NSE_arr[k] = compute_stats(y_o, y_hat_full)[1]\n",
    "        del y_o\n",
    "\n",
    "#     NSE_ave = NSE_arr.mean()\n",
    "#     NSE_std = NSE_arr.std()\n",
    "    RMSE_ave = RMSE_arr.mean()\n",
    "    RMSE_std = RMSE_arr.std()\n",
    "    \n",
    "    # ------------- Put together\n",
    "    E2_3b_arr[:,idx] = [dist_temp, det_sample, log_prob_out, RMSE_ave, RMSE_std]\n",
    "\n",
    "    del true_theta, y_hat_full_PF, y_hat_PF, posterior_samples_PF, log_probability_PF, mean_param, median_param\n",
    "    del euc_dist, log_prob_true_thetas_ind, log_prob_true_thetas_all, log_prob_true_thetas_flag\n",
    "    del log_prob_out, cov_sample, det_sample, boots_params, boots_logprob, idxs, y_sims\n",
    "    del RMSE_arr, RMSE_ave, RMSE_std, cov_inv_temp, dist_temp\n",
    "    "
   ]
  },
  {
   "cell_type": "markdown",
   "metadata": {},
   "source": [
    "## End. Integrated Interpretive Plots"
   ]
  },
  {
   "cell_type": "code",
   "execution_count": 30,
   "metadata": {},
   "outputs": [
    {
     "data": {
      "image/png": "[encoded data removed]",
      "text/plain": [
       "<Figure size 1512x936 with 6 Axes>"
      ]
     },
     "metadata": {
      "needs_background": "light"
     },
     "output_type": "display_data"
    }
   ],
   "source": [
    "plt.rcParams.update({'font.size': 14})\n",
    "\n",
    "bar_name = \"Experiments in 2\"\n",
    "# idxs = [euc_dist, det_sample, log_prob_out, NSE_ave, NSE_std]\n",
    "exp_arr = np.empty((5, 18, 3))\n",
    "exp_list = [E1_1_arr, E2_1_arr, E2_3b_arr]\n",
    "label_list = [\"E1_1\", \"E2_1\", \"E2_3b\"]\n",
    "\n",
    "for exp in range(len(exp_list)):\n",
    "    exp_arr[:,:,exp] = exp_list[exp]\n",
    "\n",
    "# Create several box plots showing distributions\n",
    "fig, axs = plt.subplots(2, 3, figsize=(21,13))\n",
    "\n",
    "axs[0,0].set_title('Mahal Distance to True Parameters')\n",
    "axs[0,0].boxplot(exp_arr[0,:,:])\n",
    "\n",
    "axs[0,1].set_title('Parameter Determinant')\n",
    "axs[0,1].boxplot(exp_arr[1,:,:])\n",
    "axs[0,1].set_yscale('log')\n",
    "\n",
    "axs[0,2].set_title('Distance / Determinant')\n",
    "axs[0,2].boxplot(exp_arr[0,:,:] / exp_arr[1,:,:])\n",
    "# axs[0,2].set_yscale('log')\n",
    "\n",
    "axs[1,0].set_title('Log Prob of True Theta')\n",
    "axs[1,0].boxplot(np.nan_to_num(exp_arr[2,:,:], nan=-5))\n",
    "\n",
    "axs[1,1].set_title('Average RMSE of Streamflow')\n",
    "axs[1,1].boxplot(exp_arr[3,:,:])\n",
    "\n",
    "axs[1,2].set_title('Standard Deviation RMSE of Streamflow')\n",
    "axs[1,2].boxplot(exp_arr[4,:,:])\n",
    "\n",
    "\n",
    "\n",
    "for j in range(2):\n",
    "    for k in range(3):\n",
    "\n",
    "        axs[j, k].set_xticklabels(label_list, rotation=45)\n",
    "\n",
    "\n",
    "# fig.savefig(f'{save_dir}bar_relation_{bar_name}.png')\n",
    "# fig.savefig(f'{save_dir}bar_relation_{bar_name}.eps', format='eps')\n",
    "\n",
    "\n",
    "plt.show()\n",
    "plt.close()"
   ]
  },
  {
   "cell_type": "markdown",
   "metadata": {},
   "source": [
    "## End. Integrated Interpretive Plots"
   ]
  },
  {
   "cell_type": "code",
   "execution_count": 172,
   "metadata": {},
   "outputs": [
    {
     "data": {
      "image/png": "[encoded data removed]",
      "text/plain": [
       "<Figure size 1512x936 with 6 Axes>"
      ]
     },
     "metadata": {
      "needs_background": "light"
     },
     "output_type": "display_data"
    }
   ],
   "source": [
    "plt.rcParams.update({'font.size': 14})\n",
    "\n",
    "bar_name = \"Experiments in 2\"\n",
    "# idxs = [euc_dist, det_sample, log_prob_out, NSE_ave, NSE_std]\n",
    "exp_arr = np.empty((5, 18, 3))\n",
    "exp_list = [E1_1_arr, E2_1_arr, E2_3b_arr]\n",
    "label_list = [\"E1_1\", \"E2_1\", \"E2_3b\"]\n",
    "\n",
    "for exp in range(len(exp_list)):\n",
    "    exp_arr[:,:,exp] = exp_list[exp]\n",
    "\n",
    "# Create several box plots showing distributions\n",
    "fig, axs = plt.subplots(2, 3, figsize=(21,13))\n",
    "\n",
    "axs[0,0].set_title('Distance to true Param')\n",
    "axs[0,0].boxplot(exp_arr[0,:,:])\n",
    "\n",
    "axs[0,1].set_title('Determinant of covariance matrix')\n",
    "axs[0,1].boxplot(exp_arr[1,:,:])\n",
    "axs[0,1].set_yscale('log')\n",
    "\n",
    "axs[0,2].set_title('Distance / Determinant')\n",
    "axs[0,2].boxplot(exp_arr[0,:,:] / exp_arr[1,:,:])\n",
    "# axs[0,2].set_yscale('log')\n",
    "\n",
    "axs[1,0].set_title('Log Prob of True Theta')\n",
    "axs[1,0].boxplot(np.nan_to_num(exp_arr[2,:,:], nan=-5))\n",
    "\n",
    "axs[1,1].set_title('NSE Ave of Streamflow')\n",
    "axs[1,1].boxplot(exp_arr[3,:,:])\n",
    "\n",
    "axs[1,2].set_title('NSE STD of Streamflow')\n",
    "axs[1,2].boxplot(exp_arr[4,:,:])\n",
    "\n",
    "\n",
    "\n",
    "for j in range(2):\n",
    "    for k in range(3):\n",
    "\n",
    "        axs[j, k].set_xticklabels(label_list, rotation=45)\n",
    "\n",
    "\n",
    "# if save_bool:\n",
    "#     fig.savefig(f'{save_dir}bar_relation_{bar_name}.png')\n",
    "#     fig.savefig(f'{save_dir}bar_relation_{bar_name}.eps', format='eps')\n",
    "\n",
    "\n",
    "plt.show()\n",
    "plt.close()"
   ]
  },
  {
   "cell_type": "code",
   "execution_count": null,
   "metadata": {},
   "outputs": [],
   "source": []
  },
  {
   "cell_type": "code",
   "execution_count": null,
   "metadata": {},
   "outputs": [],
   "source": []
  }
 ],
 "metadata": {
  "kernelspec": {
   "display_name": "Python 3",
   "language": "python",
   "name": "python3"
  },
  "language_info": {
   "codemirror_mode": {
    "name": "ipython",
    "version": 3
   },
   "file_extension": ".py",
   "mimetype": "text/x-python",
   "name": "python",
   "nbconvert_exporter": "python",
   "pygments_lexer": "ipython3",
   "version": "3.8.3"
  }
 },
 "nbformat": 4,
 "nbformat_minor": 4
}
