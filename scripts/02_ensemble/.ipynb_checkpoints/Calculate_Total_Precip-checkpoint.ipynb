{
 "cells": [
  {
   "cell_type": "code",
   "execution_count": 9,
   "metadata": {},
   "outputs": [],
   "source": [
    "from PIL import Image\n",
    "\n",
    "import os\n",
    "import os.path\n",
    "import sys\n",
    "import shutil\n",
    "from pprint import pprint\n",
    "from datetime import datetime\n",
    "from copy import copy\n",
    "from copy import deepcopy\n",
    "import pickle\n",
    "\n",
    "from parflowio.pyParflowio import PFData\n",
    "\n",
    "import pandas as pd\n",
    "import numpy as np\n",
    "import numpy.ma as ma\n",
    "import matplotlib.pyplot as plt\n",
    "import matplotlib.colors as colors\n",
    "import matplotlib.image as mpimg\n",
    "import matplotlib.cm as cm\n",
    "import matplotlib.cbook as cbook\n",
    "from matplotlib.path import Path\n",
    "from matplotlib.patches import PathPatch\n",
    "\n",
    "from sklearn.preprocessing import MinMaxScaler\n",
    "from sklearn.preprocessing import QuantileTransformer\n",
    "from sklearn.preprocessing import PowerTransformer\n",
    "\n",
    "from sklearn.utils import shuffle\n",
    "from sklearn.metrics import mean_squared_error\n",
    "import glob\n",
    "\n",
    "\n",
    "from sklearn.preprocessing import MinMaxScaler\n",
    "from sklearn.preprocessing import StandardScaler\n",
    "from sklearn.metrics import r2_score, mean_squared_error\n",
    "\n",
    "# Path to the SandTank Repo\n",
    "dev_path = '/home/SHARED/ML_TV/HydroGEN/modules/'\n",
    "#Add Sand Tank path to the sys path\n",
    "sys.path.append(dev_path)\n",
    "from transform import float32_clamp_scaling\n",
    "\n",
    "# user defined functions\n",
    "sys.path.append('/home/qh8373/SBI_TAYLOR/sbi_taylor/scripts/05_utils/')\n",
    "from genutils import PFread, plot_stuff\n",
    "from ensembleutils import assembleYears, _assembleForcings, assembleAllForcings, parseAllMetadata, returnDF_ens, returnAOC_ens, _ret_MinMax, _ret_AOCMinMax\n",
    "from assessutils import compute_stats\n",
    "from scalerutils import scaled_ens_Values, scaledForcingData, scaledAOCData\n"
   ]
  },
  {
   "cell_type": "code",
   "execution_count": 10,
   "metadata": {},
   "outputs": [],
   "source": [
    "# -- Globals:\n",
    "# ensemble info\n",
    "ensemble_name = '0819_01' # user defined ensemble name\n",
    "mod_name = 'mod2' # mod name IMPORTANT FALSE if empty\n",
    "remove_name_list = ['M-0.001', 'K-100'] # names to be removed IMPORTANT '' if empty\n",
    "log_scale = True # renormalize parameters to log 10 scale\n",
    "\n",
    "# sites\n",
    "huc_name_list = [9110000, 9329050, 9196500, 9107000, 9210500] # hucs available\n",
    "SITE = 0  # sites index for fuc\n",
    "gage_name = huc_name_list[SITE] # huc of interest\n",
    "\n",
    "# year_range (make this dynamic)\n",
    "yr_min, yr_max =1995, 1996\n",
    "\n",
    "path_forcings = '/home/qh8373/SBI_TAYLOR/data/00_forcings/'\n",
    "\n",
    "# labels\n",
    "labelist = ['DLWR', 'DSWR', 'Press', 'APCP', 'Temp', 'SPFH', 'UGRD', 'VGRD']\n",
    "collist = ['blue','green','red', 'yellow', 'orange', 'purple', 'indigo','black']"
   ]
  },
  {
   "cell_type": "code",
   "execution_count": 11,
   "metadata": {},
   "outputs": [],
   "source": [
    "YEARS, date0 = assembleYears(yr_min=yr_min,yr_max=yr_max)\n",
    "df_forc = assembleAllForcings(labelist=labelist, YEARS=YEARS, SITE=SITE, path_forcings=path_forcings, date0=date0)\n",
    "df_APCP = _assembleForcings(YEARS,label='APCP',SITE=SITE,path=path_forcings)\n",
    "df_forc"
   ]
  },
  {
   "cell_type": "code",
   "execution_count": 39,
   "metadata": {},
   "outputs": [
    {
     "data": {
      "text/plain": [
       "29.067094385076075"
      ]
     },
     "execution_count": 39,
     "metadata": {},
     "output_type": "execute_result"
    }
   ],
   "source": [
    "read_dir = '/home/qh8373/SBI_TAYLOR/data/03_ensemble_out/_ensemble_0819_01_mod2/'\n",
    "df_l = pd.read_csv(read_dir+'df_l.csv')\n",
    "df_l\n",
    "\n",
    "df_l['APCP'].sum()"
   ]
  },
  {
   "cell_type": "code",
   "execution_count": null,
   "metadata": {},
   "outputs": [],
   "source": []
  }
 ],
 "metadata": {
  "kernelspec": {
   "display_name": "Python 3",
   "language": "python",
   "name": "python3"
  },
  "language_info": {
   "codemirror_mode": {
    "name": "ipython",
    "version": 3
   },
   "file_extension": ".py",
   "mimetype": "text/x-python",
   "name": "python",
   "nbconvert_exporter": "python",
   "pygments_lexer": "ipython3",
   "version": "3.8.3"
  }
 },
 "nbformat": 4,
 "nbformat_minor": 4
}
